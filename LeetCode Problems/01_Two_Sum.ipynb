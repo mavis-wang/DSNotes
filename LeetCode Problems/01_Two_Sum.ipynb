{
  "nbformat": 4,
  "nbformat_minor": 0,
  "metadata": {
    "colab": {
      "name": "01 Two Sum",
      "provenance": [],
      "collapsed_sections": []
    },
    "kernelspec": {
      "name": "python3",
      "display_name": "Python 3"
    },
    "language_info": {
      "name": "python"
    }
  },
  "cells": [
    {
      "cell_type": "markdown",
      "source": [
        "## Two Sum\n",
        "\n",
        "Given an array of integer nums, and a target value $target. Find the indices of the two elements which sum up to the target value. Assuming that there's only one solution for each array.\n",
        "\n",
        "- Ex1. [6, 6] == 12, therefore indices = [0,1]\n",
        "- Ex2. [2, 7, 11, 15] == 9, therefore indices = [0,1]\n",
        "- Ex3. [3,2,4] == 6, therefore incecis = [1,2]\n",
        "\n",
        "Source: [LeetCode](https://leetcode.com/problemset/algorithms/)"
      ],
      "metadata": {
        "id": "iIOBJPSb1Urr"
      }
    },
    {
      "cell_type": "code",
      "execution_count": null,
      "metadata": {
        "id": "1d8oROf-lIMD"
      },
      "outputs": [],
      "source": [
        "import numpy as np"
      ]
    },
    {
      "cell_type": "code",
      "source": [
        "arr = np.array([2,7,11,15])\n",
        "target = 9"
      ],
      "metadata": {
        "id": "YOUyY4qa35T4"
      },
      "execution_count": null,
      "outputs": []
    },
    {
      "cell_type": "code",
      "source": [
        "for i,j in enumerate(arr):\n",
        "  print(i,j)"
      ],
      "metadata": {
        "colab": {
          "base_uri": "https://localhost:8080/"
        },
        "id": "Cv_kE9ow4K7j",
        "outputId": "c3079ad2-0d57-43b0-bbdd-009e041d6483"
      },
      "execution_count": null,
      "outputs": [
        {
          "output_type": "stream",
          "name": "stdout",
          "text": [
            "0 2\n",
            "1 7\n",
            "2 11\n",
            "3 15\n"
          ]
        }
      ]
    },
    {
      "cell_type": "code",
      "source": [
        "def sumtwo(arr, target):\n",
        "  for i in range(len(arr)):\n",
        "    for j in range(i+1, len(arr)):\n",
        "      if (arr[i] + arr[j]) == target:\n",
        "        return [i,j]\n",
        "\n",
        "sumtwo(arr, target)"
      ],
      "metadata": {
        "colab": {
          "base_uri": "https://localhost:8080/"
        },
        "id": "u6qtQpw859fC",
        "outputId": "7d515469-1472-4c66-e4b5-c395d0ff6e28"
      },
      "execution_count": null,
      "outputs": [
        {
          "output_type": "execute_result",
          "data": {
            "text/plain": [
              "[0, 1]"
            ]
          },
          "metadata": {},
          "execution_count": 54
        }
      ]
    },
    {
      "cell_type": "code",
      "source": [
        ""
      ],
      "metadata": {
        "id": "edxn7SBw41Rq"
      },
      "execution_count": null,
      "outputs": []
    }
  ]
}