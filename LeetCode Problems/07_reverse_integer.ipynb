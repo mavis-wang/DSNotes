{
  "nbformat": 4,
  "nbformat_minor": 0,
  "metadata": {
    "colab": {
      "name": "07 reverse integer.ipynb",
      "provenance": [],
      "collapsed_sections": [],
      "authorship_tag": "ABX9TyOU8JrQgVRVvDf7MNzqfnky"
    },
    "kernelspec": {
      "name": "python3",
      "display_name": "Python 3"
    },
    "language_info": {
      "name": "python"
    }
  },
  "cells": [
    {
      "cell_type": "markdown",
      "source": [
        "# 07 Reverse Integer\n",
        "\n",
        "Given a signed 32-bit integer x, return x with its digits reversed. \n",
        "If reversing x causes the value to go outside the signed 32-bit integer range [-231, 231 - 1], then return 0.\n",
        "\n",
        "Assume the environment does not allow you to store 64-bit integers (signed or unsigned).\n",
        "\n",
        "Example 1:\n",
        "Input: x = 123\n",
        "Output: 321\n",
        "\n",
        "Example 2:\n",
        "Input: x = -123\n",
        "Output: -321\n",
        "\n",
        "Example 3:\n",
        "Input: x = 120\n",
        "Output: 21\n",
        "\n",
        "Constraints:\n",
        "-231 <= x <= 231 - 1"
      ],
      "metadata": {
        "id": "r3xr4k6tjip4"
      }
    },
    {
      "cell_type": "code",
      "execution_count": null,
      "metadata": {
        "id": "cwgWBYoijcf4"
      },
      "outputs": [],
      "source": [
        "import numpy as np\n",
        "import time"
      ]
    },
    {
      "cell_type": "code",
      "source": [
        "# remainder\n",
        "10%3\n",
        "\n",
        "# quotion\n",
        "10//3\n",
        "\n",
        "# count digit\n",
        "x = -1234\n",
        "x//10**4"
      ],
      "metadata": {
        "colab": {
          "base_uri": "https://localhost:8080/"
        },
        "id": "29G6iqevIs4h",
        "outputId": "77e34a4e-0b7a-405d-c92f-3febcf366df3"
      },
      "execution_count": null,
      "outputs": [
        {
          "output_type": "execute_result",
          "data": {
            "text/plain": [
              "-1"
            ]
          },
          "metadata": {},
          "execution_count": 138
        }
      ]
    },
    {
      "cell_type": "code",
      "source": [
        "# join list elements, convert to a digit\n",
        "a = [1,2,3]\n",
        "b = ''.join(map(str,a))\n",
        "print(int(b))\n"
      ],
      "metadata": {
        "colab": {
          "base_uri": "https://localhost:8080/"
        },
        "id": "Tebfz0h8YsV7",
        "outputId": "5c8444d8-748b-47fb-ada3-ad9cebc103c3"
      },
      "execution_count": null,
      "outputs": [
        {
          "output_type": "stream",
          "name": "stdout",
          "text": [
            "123\n"
          ]
        }
      ]
    },
    {
      "cell_type": "code",
      "source": [
        "x = -123\n",
        "\n",
        "rev = []\n",
        "if x < 0:\n",
        "  x = x * (-1)\n",
        "  for i in range(len(str(x))):\n",
        "    rev.append(x%10)\n",
        "    x = x // 10\n",
        "  rev_num = int(''.join(map(str,rev)))\n",
        "  rev_num *= -1\n",
        "\n",
        "else:\n",
        "  for i in range(len(str(x))):\n",
        "    rev.append(x%10)\n",
        "    x = x // 10\n",
        "  rev_num = int(''.join(map(str,rev)))\n",
        "  \n",
        "print(rev_num)"
      ],
      "metadata": {
        "colab": {
          "base_uri": "https://localhost:8080/"
        },
        "id": "VfG7H6c0IE1a",
        "outputId": "05afe9bf-fd12-4878-ea56-e7f3f7ad3c8a"
      },
      "execution_count": null,
      "outputs": [
        {
          "output_type": "stream",
          "name": "stdout",
          "text": [
            "-321\n"
          ]
        }
      ]
    },
    {
      "cell_type": "code",
      "source": [
        "class Solution:\n",
        "  def reverse(x: int) -> int:\n",
        "    rev = []\n",
        "\n",
        "    if x < 0:\n",
        "      x = x * (-1)\n",
        "      for i in range(len(str(x))):\n",
        "        rev.append(x%10)\n",
        "        # update remained digits\n",
        "        x = x // 10\n",
        "        rev_num = -1*int(''.join(map(str,rev)))\n",
        "    \n",
        "    # positive signed value\n",
        "    else: \n",
        "      for i in range(len(str(x))):\n",
        "        rev.append(x%10)\n",
        "        x = x // 10\n",
        "        rev_num = int(''.join(map(str,rev)))\n",
        "    \n",
        "    # check constraints\n",
        "    if rev_num >= -2**31 and rev_num <= 2**31-1:\n",
        "      return rev_num\n",
        "    else:\n",
        "      return 0\n"
      ],
      "metadata": {
        "id": "W_6xRYiIoUDT"
      },
      "execution_count": null,
      "outputs": []
    },
    {
      "cell_type": "code",
      "source": [
        "reverse(-1534236469)"
      ],
      "metadata": {
        "colab": {
          "base_uri": "https://localhost:8080/"
        },
        "id": "J0wGJhWPdP0R",
        "outputId": "0e5cb88d-fe62-45e6-9b66-38988fd7d500"
      },
      "execution_count": null,
      "outputs": [
        {
          "output_type": "execute_result",
          "data": {
            "text/plain": [
              "0"
            ]
          },
          "metadata": {},
          "execution_count": 304
        }
      ]
    },
    {
      "cell_type": "markdown",
      "source": [
        "## method 2"
      ],
      "metadata": {
        "id": "NvfPHXEwqZyd"
      }
    },
    {
      "cell_type": "code",
      "source": [
        "x = -123\n",
        "x = str(abs(x))\n",
        "x"
      ],
      "metadata": {
        "colab": {
          "base_uri": "https://localhost:8080/",
          "height": 35
        },
        "id": "lx9Pyx4Jrp_s",
        "outputId": "48fcd7c1-9f6a-4dd8-ea56-bce39a171f23"
      },
      "execution_count": null,
      "outputs": [
        {
          "output_type": "execute_result",
          "data": {
            "application/vnd.google.colaboratory.intrinsic+json": {
              "type": "string"
            },
            "text/plain": [
              "'123'"
            ]
          },
          "metadata": {},
          "execution_count": 297
        }
      ]
    },
    {
      "cell_type": "code",
      "source": [
        "x = 123456\n",
        "def reverse(x: int) -> int:\n",
        "  if x < 0:\n",
        "    x = str(abs(x))\n",
        "    rev = -1*int(x[::-1])\n",
        "  \n",
        "  else:\n",
        "    rev = int(str(x)[::-1])\n",
        "\n",
        "  if rev <= 2**31-1 and rev >= -2**31:\n",
        "    return rev\n",
        "  else:\n",
        "    return 0\n",
        "\n",
        "reverse(-1534239)  "
      ],
      "metadata": {
        "colab": {
          "base_uri": "https://localhost:8080/"
        },
        "id": "vewG8Tf6iipP",
        "outputId": "d7c3f350-1d03-4e13-9597-6b2d39d225cf"
      },
      "execution_count": null,
      "outputs": [
        {
          "output_type": "execute_result",
          "data": {
            "text/plain": [
              "-9324351"
            ]
          },
          "metadata": {},
          "execution_count": 321
        }
      ]
    },
    {
      "cell_type": "code",
      "source": [
        "\n"
      ],
      "metadata": {
        "colab": {
          "base_uri": "https://localhost:8080/"
        },
        "id": "sbaelMgugcg2",
        "outputId": "061e31db-a789-4e65-c31a-d71a9f155985"
      },
      "execution_count": null,
      "outputs": [
        {
          "output_type": "execute_result",
          "data": {
            "text/plain": [
              "0"
            ]
          },
          "metadata": {},
          "execution_count": 318
        }
      ]
    },
    {
      "cell_type": "code",
      "source": [
        ""
      ],
      "metadata": {
        "id": "F2mycQD8i3ZD"
      },
      "execution_count": null,
      "outputs": []
    }
  ]
}