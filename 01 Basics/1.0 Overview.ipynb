{
 "cells": [
  {
   "cell_type": "markdown",
   "metadata": {},
   "source": [
    "## √ String"
   ]
  },
  {
   "cell_type": "code",
   "execution_count": 21,
   "metadata": {},
   "outputs": [],
   "source": [
    "aString = \"hello Python 123!\""
   ]
  },
  {
   "cell_type": "code",
   "execution_count": 22,
   "metadata": {},
   "outputs": [
    {
     "data": {
      "text/plain": [
       "False"
      ]
     },
     "execution_count": 22,
     "metadata": {},
     "output_type": "execute_result"
    }
   ],
   "source": [
    "aString.isalpha()"
   ]
  },
  {
   "cell_type": "code",
   "execution_count": 23,
   "metadata": {},
   "outputs": [
    {
     "data": {
      "text/plain": [
       "False"
      ]
     },
     "execution_count": 23,
     "metadata": {},
     "output_type": "execute_result"
    }
   ],
   "source": [
    "aString.isdigit()"
   ]
  },
  {
   "cell_type": "code",
   "execution_count": 24,
   "metadata": {},
   "outputs": [
    {
     "data": {
      "text/plain": [
       "'hello Python 323!'"
      ]
     },
     "execution_count": 24,
     "metadata": {},
     "output_type": "execute_result"
    }
   ],
   "source": [
    "aString.replace('1','3' ) "
   ]
  },
  {
   "cell_type": "code",
   "execution_count": 25,
   "metadata": {},
   "outputs": [
    {
     "name": "stdout",
     "output_type": "stream",
     "text": [
      "hello PythonBo, I am HAL\n"
     ]
    }
   ],
   "source": [
    "# String Formating\n",
    "# >> hello PythonBo, I am HAL\n",
    "\n",
    "name = \"PythonBo\"\n",
    "machine = \"HAL\"\n",
    "\n",
    "print('hello {0}, I am {1}'.format(name,machine))"
   ]
  },
  {
   "cell_type": "markdown",
   "metadata": {},
   "source": [
    "## Boolean"
   ]
  },
  {
   "cell_type": "code",
   "execution_count": 1,
   "metadata": {},
   "outputs": [
    {
     "name": "stdout",
     "output_type": "stream",
     "text": [
      "1\n",
      "True\n",
      "None\n"
     ]
    }
   ],
   "source": [
    "# Boolean & None\n",
    "\n",
    "python_course = True\n",
    "java_course = False\n",
    "aliens_found = None\n",
    "\n",
    "print(int(python_course)) #. 1 == True\n",
    "print(str(python_course))\n",
    "\n",
    "print(aliens_found) # doesn't exist"
   ]
  },
  {
   "cell_type": "code",
   "execution_count": 3,
   "metadata": {},
   "outputs": [
    {
     "name": "stdout",
     "output_type": "stream",
     "text": [
      "True\n"
     ]
    }
   ],
   "source": [
    "a = True\n",
    "if a != True: # a == false, which is false\n",
    "    print('false, will not execute')\n",
    "\n",
    "b = False\n",
    "if b == True:\n",
    "    print('b = True, will not execute')\n",
    "\n",
    "print(b == False)"
   ]
  },
  {
   "cell_type": "code",
   "execution_count": 70,
   "metadata": {},
   "outputs": [
    {
     "name": "stdout",
     "output_type": "stream",
     "text": [
      "0\n",
      "5\n"
     ]
    }
   ],
   "source": [
    "def foos(num):\n",
    "\n",
    "    if num < 5:\n",
    "        num = 0 \n",
    "        \n",
    "    elif num < 10: \n",
    "        num = 5\n",
    "    else:\n",
    "        num = 999\n",
    "    print(num)\n",
    "    \n",
    "foos(3) ## once the first match is found, later conditions will be skipped\n",
    "foos(6)"
   ]
  },
  {
   "cell_type": "markdown",
   "metadata": {},
   "source": [
    "### Operators"
   ]
  },
  {
   "cell_type": "code",
   "execution_count": 4,
   "metadata": {},
   "outputs": [
    {
     "name": "stdout",
     "output_type": "stream",
     "text": [
      "2\n",
      "1\n",
      "onetwo\n"
     ]
    }
   ],
   "source": [
    "print(5//2)## int division => 2\n",
    "\n",
    "print(5%4) ## modulo => 1\n",
    "\n",
    "\n",
    "# string operations\n",
    "first = \"one\"\n",
    "second = \"two\"\n",
    "combined = first + second\n",
    "print(combined) # => onetwo"
   ]
  },
  {
   "cell_type": "code",
   "execution_count": null,
   "metadata": {},
   "outputs": [],
   "source": [
    "# sequence Operators\n",
    "\n",
    "alist = ['banana', 'apple', 'pineapple']\n",
    "blist = ['banana', 'apple', 'pineapple']\n",
    "\n",
    "aPlusb = alist+blist ## =>['banana', 'apple', 'pineapple', 'banana', 'apple', 'pineapple']\n",
    "\n",
    "k = 3\n",
    "kaList = k*alist    ## => ['banana', 'apple', 'pineapple', 'banana', 'apple', 'pineapple', 'banana', 'apple', 'pineapple']\n",
    "\n",
    "if 'chilli' not in alist: ## check for containment\n",
    "    print('chili is not in alist')\n",
    "    \n",
    "# => ['banana', 'apple', 'pineapple']\n",
    "for i in range(len(alist)):\n",
    "    print(alist[i])\n",
    "\n",
    "listComprehension = [item for item in alist]\n",
    "print(listComprehension)"
   ]
  },
  {
   "cell_type": "markdown",
   "metadata": {},
   "source": [
    "### if Statement\n",
    "\n",
    "if True:\n",
    "    execute\n",
    "else:\n",
    "    do nothing or sth else"
   ]
  },
  {
   "cell_type": "code",
   "execution_count": 13,
   "metadata": {},
   "outputs": [
    {
     "name": "stdout",
     "output_type": "stream",
     "text": [
      "val text is defined. text is Python\n",
      "<class 'str'>\n"
     ]
    }
   ],
   "source": [
    "number = 0\n",
    "text = \"Python\"\n",
    "    \n",
    "if number:\n",
    "    print(f'val number is defined. number is {number}')\n",
    "    print(type(number))\n",
    "    \n",
    "if text:\n",
    "    print(f'val text is defined. text is {text}')\n",
    "    print(type(text))"
   ]
  },
  {
   "cell_type": "code",
   "execution_count": 12,
   "metadata": {},
   "outputs": [
    {
     "name": "stdout",
     "output_type": "stream",
     "text": [
      "<class 'NoneType'>\n",
      "apple\n",
      "aliens is not None.\n"
     ]
    }
   ],
   "source": [
    "# Boolean & None\n",
    "\n",
    "apple = True\n",
    "aliens = None\n",
    "\n",
    "print(type(aliens))\n",
    "\n",
    "if not apple: # if apple != True\n",
    "    print('not apple')\n",
    "if apple:\n",
    "    print('apple')\n",
    "\n",
    "if aliens: # do nothing if aliens = None\n",
    "    print('nothing wil be printed.')\n",
    "if not aliens:\n",
    "    print('aliens is not None.')"
   ]
  },
  {
   "cell_type": "code",
   "execution_count": 16,
   "metadata": {},
   "outputs": [
    {
     "name": "stdout",
     "output_type": "stream",
     "text": [
      "python_course is true\n"
     ]
    }
   ],
   "source": [
    "python_course = True \n",
    "\n",
    "if not python_course: ## only being execute when the if statement is True.\n",
    "    print(\"Python is False. This will also not execute\")\n",
    "else:\n",
    "    print(f'python_course is true')\n"
   ]
  },
  {
   "cell_type": "code",
   "execution_count": 14,
   "metadata": {},
   "outputs": [
    {
     "name": "stdout",
     "output_type": "stream",
     "text": [
      "number is not 5\n"
     ]
    }
   ],
   "source": [
    "number = 7\n",
    "\n",
    "if number == 5:\n",
    "   print(\"This will execute\")\n",
    "else:\n",
    "    print('number is not 5')\n",
    "    "
   ]
  },
  {
   "cell_type": "code",
   "execution_count": 18,
   "metadata": {},
   "outputs": [
    {
     "name": "stdout",
     "output_type": "stream",
     "text": [
      "This will not execute. number2 = 7\n"
     ]
    }
   ],
   "source": [
    "number2 = 5\n",
    "\n",
    "if number2 != 7: ## False. therefore it won't be executed.\n",
    "   print(\"This will not execute. number2 = 7\")\n",
    "else:\n",
    "    print('number is 7')"
   ]
  },
  {
   "cell_type": "markdown",
   "metadata": {},
   "source": [
    "### Multiple if conditions"
   ]
  },
  {
   "cell_type": "code",
   "execution_count": 19,
   "metadata": {},
   "outputs": [
    {
     "name": "stdout",
     "output_type": "stream",
     "text": [
      "This will execute\n",
      "This will also execute\n"
     ]
    }
   ],
   "source": [
    "number = 3\n",
    "python_course = True\n",
    "\n",
    "if number == 3 and python_course:\n",
    "    print(\"This will execute\")\n",
    "    \n",
    "if number == 17 or python_course: \n",
    "    print(\"This will also execute\")"
   ]
  },
  {
   "cell_type": "markdown",
   "metadata": {},
   "source": [
    "### Ternary if "
   ]
  },
  {
   "cell_type": "code",
   "execution_count": 21,
   "metadata": {
    "scrolled": true
   },
   "outputs": [
    {
     "name": "stdout",
     "output_type": "stream",
     "text": [
      "This will also execute\n"
     ]
    }
   ],
   "source": [
    "a = 1\n",
    "b = 2\n",
    "\n",
    "if a > b or \"smaller\": ## if \"string\" always return True.\n",
    "    print(\"This will also execute\")"
   ]
  },
  {
   "cell_type": "markdown",
   "metadata": {},
   "source": [
    "## While & For Loops\n",
    "* while a condition is True:\n",
    "* for element in an iterable:"
   ]
  },
  {
   "cell_type": "markdown",
   "metadata": {},
   "source": [
    "#### print 0 to 10\n",
    "\n"
   ]
  },
  {
   "cell_type": "code",
   "execution_count": 23,
   "metadata": {},
   "outputs": [
    {
     "name": "stdout",
     "output_type": "stream",
     "text": [
      "0\n",
      "1\n",
      "2\n",
      "3\n",
      "4\n",
      "5\n",
      "6\n",
      "7\n",
      "8\n",
      "9\n",
      "10\n"
     ]
    }
   ],
   "source": [
    "# use while \n",
    "\n",
    "i = 0\n",
    "while i < 11:\n",
    "    print(i)\n",
    "    i += 1"
   ]
  },
  {
   "cell_type": "code",
   "execution_count": 8,
   "metadata": {},
   "outputs": [
    {
     "name": "stdout",
     "output_type": "stream",
     "text": [
      "0\n",
      "1\n",
      "2\n",
      "3\n",
      "4\n",
      "5\n",
      "6\n",
      "7\n",
      "8\n",
      "9\n",
      "10\n"
     ]
    }
   ],
   "source": [
    "# use for\n",
    "for i in range(0,11): #. range(start, end, step)\n",
    "    print(i)"
   ]
  },
  {
   "cell_type": "code",
   "execution_count": 22,
   "metadata": {},
   "outputs": [
    {
     "name": "stdout",
     "output_type": "stream",
     "text": [
      "0\n",
      "1\n",
      "3\n",
      "6\n",
      "10\n",
      "15\n",
      "21\n",
      "28\n",
      "36\n",
      "45\n",
      "55\n"
     ]
    }
   ],
   "source": [
    "# sum from 0 to 10 using while\n",
    "\n",
    "sum = 0\n",
    "x = 0\n",
    "while x <= 10:\n",
    "    sum += x\n",
    "    x += 1\n",
    "    \n",
    "    print(sum)"
   ]
  },
  {
   "cell_type": "code",
   "execution_count": 14,
   "metadata": {},
   "outputs": [
    {
     "name": "stdout",
     "output_type": "stream",
     "text": [
      "55\n"
     ]
    }
   ],
   "source": [
    "# sum from 0 to 10 using for\n",
    "\n",
    "sum = 0\n",
    "for n in range(0,11):\n",
    "    sum += n\n",
    "print(sum)"
   ]
  },
  {
   "cell_type": "markdown",
   "metadata": {},
   "source": [
    "### break"
   ]
  },
  {
   "cell_type": "code",
   "execution_count": 24,
   "metadata": {
    "scrolled": true
   },
   "outputs": [
    {
     "name": "stdout",
     "output_type": "stream",
     "text": [
      "current letter is p\n",
      "current letter is y\n",
      "current letter is t\n"
     ]
    }
   ],
   "source": [
    "# VIP\n",
    "# What's the output?\n",
    "\n",
    "for letter in 'python':\n",
    "    if letter == 'h':\n",
    "        break\n",
    "    print(f'current letter is {letter}')"
   ]
  },
  {
   "cell_type": "code",
   "execution_count": 27,
   "metadata": {},
   "outputs": [
    {
     "name": "stdout",
     "output_type": "stream",
     "text": [
      "1\n",
      "2\n",
      "3\n",
      "4\n",
      "5\n",
      "6\n",
      "7\n",
      "8\n",
      "9\n",
      "10\n"
     ]
    }
   ],
   "source": [
    "# print first 10 among 0-100\n",
    "\n",
    "x= 0\n",
    "while True:\n",
    "    if x >= 10: \n",
    "        break\n",
    "    x += 1\n",
    "    print(x)"
   ]
  },
  {
   "cell_type": "code",
   "execution_count": 57,
   "metadata": {},
   "outputs": [
    {
     "name": "stdout",
     "output_type": "stream",
     "text": [
      "apple\n",
      "pineapple\n",
      "['apple', 'pineapple', 'mango', 'banana']\n"
     ]
    }
   ],
   "source": [
    "# print fruit list until 'mango'\n",
    "fruit = [\"apple\", \"pineapple\", \"mango\", \"banana\", \"kiwi\"]\n",
    "\n",
    "for f in fruit:\n",
    "    if f == 'mango':\n",
    "        fruit.pop() ##remove the last one in the list\n",
    "        break\n",
    "    print(f)\n",
    "print(fruit)"
   ]
  },
  {
   "cell_type": "code",
   "execution_count": null,
   "metadata": {},
   "outputs": [],
   "source": []
  },
  {
   "cell_type": "code",
   "execution_count": null,
   "metadata": {},
   "outputs": [],
   "source": []
  }
 ],
 "metadata": {
  "kernelspec": {
   "display_name": "Python 3",
   "language": "python",
   "name": "python3"
  },
  "language_info": {
   "codemirror_mode": {
    "name": "ipython",
    "version": 3
   },
   "file_extension": ".py",
   "mimetype": "text/x-python",
   "name": "python",
   "nbconvert_exporter": "python",
   "pygments_lexer": "ipython3",
   "version": "3.7.4"
  }
 },
 "nbformat": 4,
 "nbformat_minor": 2
}
