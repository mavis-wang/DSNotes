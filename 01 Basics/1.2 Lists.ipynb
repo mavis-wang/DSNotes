{
 "cells": [
  {
   "cell_type": "markdown",
   "metadata": {},
   "source": [
    "# <a href=\"https://www.w3schools.com/python/python_lists.asp\">Lists</a>\n",
    "Lists are sequences of elements in Python\n",
    "* ordered\n",
    "* mutable\n",
    "* can be indexed and sliced\n",
    "* enclosed in [ ] and comma separated"
   ]
  },
  {
   "cell_type": "code",
   "execution_count": 20,
   "metadata": {},
   "outputs": [],
   "source": [
    "empty_list = [ ]\n",
    "number_list = [ 1, 3, 5, 7, 9]\n",
    "mixed_list = [ 1, 3.5, \"abc\"]\n",
    "fruit_list = [\"apple\", \"banana\", \"orange\", \"plum\"]"
   ]
  },
  {
   "cell_type": "code",
   "execution_count": 23,
   "metadata": {},
   "outputs": [
    {
     "data": {
      "text/plain": [
       "1"
      ]
     },
     "execution_count": 23,
     "metadata": {},
     "output_type": "execute_result"
    }
   ],
   "source": [
    "# find index of an element\n",
    "fruit_list.index('banana')"
   ]
  },
  {
   "cell_type": "markdown",
   "metadata": {},
   "source": [
    "## Access List Elements"
   ]
  },
  {
   "cell_type": "code",
   "execution_count": 16,
   "metadata": {},
   "outputs": [],
   "source": [
    "numbers = [ 1, 3, 5, 7, 9]"
   ]
  },
  {
   "cell_type": "code",
   "execution_count": 19,
   "metadata": {},
   "outputs": [
    {
     "name": "stdout",
     "output_type": "stream",
     "text": [
      "1\n",
      "9\n",
      "[5, 7]\n",
      "[3, 5, 7]\n",
      "[1, 3, 5]\n",
      "[7, 9]\n",
      "[7, 9]\n"
     ]
    }
   ],
   "source": [
    "print(numbers[0])\n",
    "print(numbers[-1])\n",
    "print(numbers[-3:-1])\n",
    "print(numbers[1:-1]) # remove start and end elements\n",
    "\n",
    "# from the start till index -3\n",
    "print(numbers[:-2])\n",
    "\n",
    "# from index 3 till the last one\n",
    "print(numbers[3:]) # [7, 9]\n",
    "\n",
    "# from index -2 till the end\n",
    "print(numbers[-2:])"
   ]
  },
  {
   "cell_type": "code",
   "execution_count": 9,
   "metadata": {},
   "outputs": [
    {
     "data": {
      "text/plain": [
       "3"
      ]
     },
     "execution_count": 9,
     "metadata": {},
     "output_type": "execute_result"
    }
   ],
   "source": [
    "# return index position of the value\n",
    "# .index(value, [started index])\n",
    "\n",
    "numbers.index(7)\n",
    "\n",
    "numbers.index(7,3)"
   ]
  },
  {
   "cell_type": "code",
   "execution_count": null,
   "metadata": {},
   "outputs": [],
   "source": [
    "# Errors\n",
    "\n",
    "numbers[-3:-1] # can't access in backword order\n",
    "numbers[-6] # IndexError: list index out of range"
   ]
  },
  {
   "cell_type": "markdown",
   "metadata": {},
   "source": [
    "## Change List Elements"
   ]
  },
  {
   "cell_type": "code",
   "execution_count": null,
   "metadata": {},
   "outputs": [],
   "source": [
    "numbers = [ 1, 3, 5, 7, 9]\n",
    "\n",
    "numbers[-1] = 2\n",
    "\n",
    "print(numbers) # [1, 3, 5, 7, 2]"
   ]
  },
  {
   "cell_type": "markdown",
   "metadata": {},
   "source": [
    "## List Methods"
   ]
  },
  {
   "cell_type": "code",
   "execution_count": 24,
   "metadata": {},
   "outputs": [],
   "source": [
    "num = [1, 3, 8 , 9, 7]"
   ]
  },
  {
   "cell_type": "code",
   "execution_count": 26,
   "metadata": {},
   "outputs": [
    {
     "name": "stdout",
     "output_type": "stream",
     "text": [
      "[1, 3, 8, 9, 7, 5, 'apple', 5, 'apple']\n"
     ]
    }
   ],
   "source": [
    "# append(value)\n",
    "\n",
    "num.append(5)\n",
    "num.append('apple')\n",
    "print(num)"
   ]
  },
  {
   "cell_type": "code",
   "execution_count": 27,
   "metadata": {
    "scrolled": true
   },
   "outputs": [
    {
     "name": "stdout",
     "output_type": "stream",
     "text": [
      "[1, 3, 8, 9, 7, 5, 'apple', 5, 'apple', 5, 8]\n"
     ]
    }
   ],
   "source": [
    "# extend(iterable)\n",
    "# extends the list by appending elements from iterable\n",
    "\n",
    "num.extend([5,8]) #=> [1, 5, 7, 9, 5, 5, 8]\n",
    "print(num)"
   ]
  },
  {
   "cell_type": "code",
   "execution_count": 28,
   "metadata": {},
   "outputs": [
    {
     "name": "stdout",
     "output_type": "stream",
     "text": [
      "[1, 4, 3, 8, 9, 7, 5, 'apple', 5, 'apple', 5, 8]\n"
     ]
    }
   ],
   "source": [
    "# insert(index, object)\n",
    "# inserts value just before the specified index\n",
    "\n",
    "num.insert(1,4) #=> [1, 4, 3, 5, 7, 9, 5, 5, 8]\n",
    "print(num)"
   ]
  },
  {
   "cell_type": "code",
   "execution_count": 29,
   "metadata": {},
   "outputs": [
    {
     "name": "stdout",
     "output_type": "stream",
     "text": [
      "[1, 4, 3, 8, 9, 7, 5, 'apple', 5, 8]\n"
     ]
    }
   ],
   "source": [
    "# remove(value)\n",
    "# removes the first occurrence of specified value\n",
    "\n",
    "num.remove(5) #=> [1, 4, 3, 7, 9, 5, 5, 8]\n",
    "num.remove('apple')\n",
    "print(num)"
   ]
  },
  {
   "cell_type": "code",
   "execution_count": 31,
   "metadata": {
    "scrolled": true
   },
   "outputs": [
    {
     "name": "stdout",
     "output_type": "stream",
     "text": [
      "[1, 4, 3, 7, 5, 'apple', 5, 8]\n",
      "[1, 4, 3, 7, 5, 'apple', 5]\n"
     ]
    }
   ],
   "source": [
    "# pop([index]) – removes and returns the item at index\n",
    "\n",
    "num.pop(3)\n",
    "print(num)\n",
    "\n",
    "num.pop()\n",
    "print(num)"
   ]
  },
  {
   "cell_type": "code",
   "execution_count": 32,
   "metadata": {},
   "outputs": [
    {
     "name": "stdout",
     "output_type": "stream",
     "text": [
      "2\n",
      "1\n"
     ]
    }
   ],
   "source": [
    "# count(value)\n",
    "# counts the number of occurrence of specified value in the list numbers.count(4)  1\n",
    "\n",
    "print(num.count(5))\n",
    "print(num.count('apple'))"
   ]
  },
  {
   "cell_type": "code",
   "execution_count": 37,
   "metadata": {},
   "outputs": [
    {
     "name": "stdout",
     "output_type": "stream",
     "text": [
      "[5, 'apple', 5, 7, 3, 4, 1]\n"
     ]
    }
   ],
   "source": [
    "# reverse()\n",
    "# reverse the list order\n",
    "num = [1, 4, 3, 7, 5, 'apple', 5]\n",
    "\n",
    "num.reverse()\n",
    "print(num)"
   ]
  },
  {
   "cell_type": "code",
   "execution_count": 40,
   "metadata": {},
   "outputs": [
    {
     "name": "stdout",
     "output_type": "stream",
     "text": [
      "[1, 3, 4, 5, 5, 7]\n"
     ]
    }
   ],
   "source": [
    "# sort(key=None, reverse=False)\n",
    "# sorts the list in numerical and lexicographical order\n",
    "num = [1, 4, 3, 7, 5, 5]\n",
    "\n",
    "num.sort()\n",
    "print(num)"
   ]
  },
  {
   "cell_type": "code",
   "execution_count": 121,
   "metadata": {},
   "outputs": [
    {
     "name": "stdout",
     "output_type": "stream",
     "text": [
      "[9, 7, 5, 5, 4, 3, 1]\n"
     ]
    }
   ],
   "source": [
    "# sort by number\n",
    "\n",
    "x = [5, 7, 9, 3, 5, 4, 1]\n",
    "\n",
    "x.sort(reverse = True)\n",
    "print(x)"
   ]
  },
  {
   "cell_type": "code",
   "execution_count": 529,
   "metadata": {},
   "outputs": [
    {
     "name": "stdout",
     "output_type": "stream",
     "text": [
      "['c', 'b', 'a']\n"
     ]
    }
   ],
   "source": [
    "# sort by alphabet\n",
    "x = ['a', 'c', 'b']\n",
    "\n",
    "x.sort(reverse = True)\n",
    "print(x)"
   ]
  },
  {
   "cell_type": "code",
   "execution_count": 545,
   "metadata": {},
   "outputs": [
    {
     "name": "stdout",
     "output_type": "stream",
     "text": [
      "['c', 'b', 'a']\n",
      "['a', 'c', 'b']\n"
     ]
    }
   ],
   "source": [
    "x = ['a', 'c', 'b']\n",
    "\n",
    "x_ = sorted(x, reverse = True) # call a function -> return a new list, x remains unchanged\n",
    "print(x_)\n",
    "print(x)"
   ]
  },
  {
   "cell_type": "code",
   "execution_count": 548,
   "metadata": {},
   "outputs": [
    {
     "name": "stdout",
     "output_type": "stream",
     "text": [
      "None\n",
      "['c', 'b', 'a']\n"
     ]
    }
   ],
   "source": [
    "x = ['a', 'c', 'b']\n",
    "\n",
    "x_ = x.sort(reverse = True) # use a method/action -> x is modified\n",
    "\n",
    "print(x_) \n",
    "print(x)"
   ]
  },
  {
   "cell_type": "markdown",
   "metadata": {},
   "source": [
    "### add elements\n",
    "* append('element')\n",
    "* extend(iterable)"
   ]
  },
  {
   "cell_type": "code",
   "execution_count": 549,
   "metadata": {
    "scrolled": true
   },
   "outputs": [
    {
     "name": "stdout",
     "output_type": "stream",
     "text": [
      "[5, 7, 9, 3, 4, 1, 'appended item']\n",
      "[5, 'inserted item', 7, 9, 3, 4, 1, 'appended item']\n",
      "[1, 3, 4, 5, 7, 9, 'x']\n",
      "[1, 3, 4, 5, 7, 9]\n"
     ]
    }
   ],
   "source": [
    "x = [5, 7, 9, 3, 4, 1]\n",
    "y = [1, 3, 4, 5, 7, 9]\n",
    "\n",
    "# append an element\n",
    "x.append('appended item')\n",
    "print(x)\n",
    "\n",
    "# insert an indexed element\n",
    "x.insert(1,'inserted item')\n",
    "print(x)\n",
    "\n",
    "# extend a iterable\n",
    "y.extend(['x'])\n",
    "print(y)\n",
    "\n",
    "# delete by index\n",
    "del y[-1]\n",
    "print(y)\n",
    "\n",
    "\n",
    "for i in y:\n",
    "    if i == 9:\n",
    "        pop"
   ]
  },
  {
   "cell_type": "markdown",
   "metadata": {},
   "source": [
    "### remove elements\n",
    "* .pop(index) // return then remove\n",
    "* .remove(value)\n",
    "* del y[index]\n",
    "* .clear()"
   ]
  },
  {
   "cell_type": "code",
   "execution_count": 12,
   "metadata": {
    "collapsed": true
   },
   "outputs": [
    {
     "name": "stdout",
     "output_type": "stream",
     "text": [
      "[1, 3, 5, 7, 9]\n"
     ]
    }
   ],
   "source": [
    "y = [1, 3, 4, 5, 7, 9]\n",
    "\n",
    "y.pop(2) \n",
    "print(y)"
   ]
  },
  {
   "cell_type": "code",
   "execution_count": 560,
   "metadata": {
    "collapsed": true
   },
   "outputs": [
    {
     "name": "stdout",
     "output_type": "stream",
     "text": [
      "[1, 4, 5, 7, 9]\n"
     ]
    }
   ],
   "source": [
    "y = [1, 3, 4, 5, 7, 9]\n",
    "\n",
    "y.remove(3)\n",
    "print(y)"
   ]
  },
  {
   "cell_type": "code",
   "execution_count": 564,
   "metadata": {},
   "outputs": [
    {
     "name": "stdout",
     "output_type": "stream",
     "text": [
      "[3, 4, 5, 7, 9]\n"
     ]
    }
   ],
   "source": [
    "y = [1, 3, 4, 5, 7, 9]\n",
    "\n",
    "del y[0]\n",
    "print(y)"
   ]
  },
  {
   "cell_type": "code",
   "execution_count": 565,
   "metadata": {},
   "outputs": [
    {
     "name": "stdout",
     "output_type": "stream",
     "text": [
      "[]\n"
     ]
    }
   ],
   "source": [
    "# num.clear()\n",
    "print(num)"
   ]
  },
  {
   "cell_type": "markdown",
   "metadata": {},
   "source": [
    "### Slices"
   ]
  },
  {
   "cell_type": "code",
   "execution_count": 41,
   "metadata": {
    "scrolled": true
   },
   "outputs": [
    {
     "name": "stdout",
     "output_type": "stream",
     "text": [
      "[4, 1]\n",
      "[5, 7, 9, 3]\n"
     ]
    }
   ],
   "source": [
    "# slice\n",
    "x = [5, 7, 9, 3, 4, 1]\n",
    "y = [1, 3, 4, 5, 7, 9]\n",
    "\n",
    "# slice last two index\n",
    "print(x[-2:])\n",
    "\n",
    "# print all before index -2\n",
    "print(x[:-2])"
   ]
  },
  {
   "cell_type": "markdown",
   "metadata": {},
   "source": [
    "## Exception Handling Error"
   ]
  },
  {
   "cell_type": "code",
   "execution_count": 125,
   "metadata": {
    "collapsed": true
   },
   "outputs": [
    {
     "ename": "ValueError",
     "evalue": "'cat' is not in list",
     "output_type": "error",
     "traceback": [
      "\u001b[0;31m---------------------------------------------------------------------------\u001b[0m",
      "\u001b[0;31mValueError\u001b[0m                                Traceback (most recent call last)",
      "\u001b[0;32m<ipython-input-125-c7b77314316e>\u001b[0m in \u001b[0;36m<module>\u001b[0;34m\u001b[0m\n\u001b[1;32m      1\u001b[0m \u001b[0manimals\u001b[0m \u001b[0;34m=\u001b[0m \u001b[0;34m[\u001b[0m\u001b[0;34m'man'\u001b[0m\u001b[0;34m,\u001b[0m \u001b[0;34m'bear'\u001b[0m\u001b[0;34m,\u001b[0m \u001b[0;34m'pig'\u001b[0m\u001b[0;34m]\u001b[0m\u001b[0;34m\u001b[0m\u001b[0;34m\u001b[0m\u001b[0m\n\u001b[1;32m      2\u001b[0m \u001b[0;34m\u001b[0m\u001b[0m\n\u001b[0;32m----> 3\u001b[0;31m \u001b[0mcat_index\u001b[0m \u001b[0;34m=\u001b[0m \u001b[0manimals\u001b[0m\u001b[0;34m.\u001b[0m\u001b[0mindex\u001b[0m\u001b[0;34m(\u001b[0m\u001b[0;34m'cat'\u001b[0m\u001b[0;34m)\u001b[0m  \u001b[0;31m#error\u001b[0m\u001b[0;34m\u001b[0m\u001b[0;34m\u001b[0m\u001b[0m\n\u001b[0m\u001b[1;32m      4\u001b[0m \u001b[0mprint\u001b[0m\u001b[0;34m(\u001b[0m\u001b[0mcat_index\u001b[0m\u001b[0;34m)\u001b[0m\u001b[0;34m\u001b[0m\u001b[0;34m\u001b[0m\u001b[0m\n",
      "\u001b[0;31mValueError\u001b[0m: 'cat' is not in list"
     ]
    }
   ],
   "source": [
    "animals = ['man', 'bear', 'pig']\n",
    "\n",
    "cat_index = animals.index('cat')  #error\n",
    "print(cat_index)"
   ]
  },
  {
   "cell_type": "markdown",
   "metadata": {},
   "source": [
    "### try... except..."
   ]
  },
  {
   "cell_type": "code",
   "execution_count": 126,
   "metadata": {},
   "outputs": [
    {
     "name": "stdout",
     "output_type": "stream",
     "text": [
      "'cat' is not in list\n"
     ]
    }
   ],
   "source": [
    "# use try except to handle error\n",
    "\n",
    "animals = ['man', 'bear', 'pig']\n",
    "\n",
    "try:\n",
    "    cat_index = animals.index('cat') #if True, do nothing\n",
    "except: # execute if try is not True\n",
    "    cat_index = \"'cat' is not in list\"\n",
    "\n",
    "print(cat_index)"
   ]
  },
  {
   "cell_type": "markdown",
   "metadata": {},
   "source": [
    "### Loops\n",
    "\n",
    "#### traverse items in a list"
   ]
  },
  {
   "cell_type": "code",
   "execution_count": 104,
   "metadata": {},
   "outputs": [
    {
     "name": "stdout",
     "output_type": "stream",
     "text": [
      "man\n",
      "bear\n",
      "pig\n"
     ]
    }
   ],
   "source": [
    "# for loop\n",
    "\n",
    "animals = ['man', 'bear', 'pig']\n",
    "\n",
    "for animal in animals:\n",
    "    print(animal)"
   ]
  },
  {
   "cell_type": "code",
   "execution_count": 42,
   "metadata": {
    "scrolled": true
   },
   "outputs": [
    {
     "name": "stdout",
     "output_type": "stream",
     "text": [
      "man\n",
      "bear\n",
      "pig\n"
     ]
    }
   ],
   "source": [
    "# using range to traverse\n",
    "\n",
    "animals = ['man', 'bear', 'pig']\n",
    "\n",
    "for index in range(0,len(animals)):\n",
    "    print(animals[index])"
   ]
  },
  {
   "cell_type": "code",
   "execution_count": null,
   "metadata": {},
   "outputs": [],
   "source": [
    "# while condition\n",
    "\n",
    "animals = ['man', 'bear', 'pig']\n",
    "\n",
    "# print animals[0], animals[1]...animals[index]\n",
    "index = 0\n",
    "while index < len(animals):\n",
    "    print(animals[index])\n",
    "    index += 1"
   ]
  },
  {
   "cell_type": "markdown",
   "metadata": {},
   "source": [
    "### sort\n",
    "* sort() ==> method ==> will modify the list it is called on.\n",
    "* sorted(object) ==> function ==> create a new list containing a sorted version of the list."
   ]
  },
  {
   "cell_type": "code",
   "execution_count": 7,
   "metadata": {
    "scrolled": true
   },
   "outputs": [
    {
     "name": "stdout",
     "output_type": "stream",
     "text": [
      "['apple', 'bananna', 'mango', 'orange']\n",
      "['apple', 'orange', 'bananna', 'mango']\n"
     ]
    }
   ],
   "source": [
    "fruit = ['apple','orange', 'bananna', 'mango']\n",
    "\n",
    "# create a new list of the sorted (fruit items)\n",
    "print(sorted(fruit))\n",
    "\n",
    "# the original list remains the same\n",
    "print(fruit)\n"
   ]
  },
  {
   "cell_type": "code",
   "execution_count": 89,
   "metadata": {},
   "outputs": [
    {
     "name": "stdout",
     "output_type": "stream",
     "text": [
      "['apple', 'bananna', 'mango', 'orange']\n"
     ]
    }
   ],
   "source": [
    "fruit = ['apple','orange', 'bananna', 'mango']\n",
    "\n",
    "# modify the list\n",
    "fruit.sort()\n",
    "\n",
    "print(fruit)"
   ]
  },
  {
   "cell_type": "code",
   "execution_count": 91,
   "metadata": {},
   "outputs": [],
   "source": [
    "# concatenation\n",
    "\n",
    "fruit = ['apple','orange', 'bananna', 'mango']\n",
    "veggie = ['tomatto', 'broccoli']\n",
    "\n",
    "food = fruit + veggie\n",
    "\n",
    "print(food)"
   ]
  },
  {
   "cell_type": "markdown",
   "metadata": {},
   "source": [
    "### Ranges\n",
    "* range(start, stop, step)"
   ]
  },
  {
   "cell_type": "code",
   "execution_count": 100,
   "metadata": {},
   "outputs": [
    {
     "name": "stdout",
     "output_type": "stream",
     "text": [
      "3\n",
      "5\n",
      "7\n",
      "9\n",
      "\n",
      "3\n",
      "5\n",
      "7\n",
      "9\n"
     ]
    }
   ],
   "source": [
    "# print all odd numbers between 2 - 10\n",
    "\n",
    "for num in range(2, 11):\n",
    "    if num%2 == 1:\n",
    "        print(num)\n",
    "\n",
    "print()\n",
    "\n",
    "# same as above\n",
    "for n in range(3, 11, 2):\n",
    "    print(n)"
   ]
  },
  {
   "cell_type": "code",
   "execution_count": 102,
   "metadata": {},
   "outputs": [
    {
     "name": "stdout",
     "output_type": "stream",
     "text": [
      "apple\n",
      "bananna\n"
     ]
    }
   ],
   "source": [
    "# print every other item from a list\n",
    "\n",
    "fruit = ['apple','orange', 'bananna', 'mango']\n",
    "\n",
    "for index in range(0, len(fruit), 2):\n",
    "    print(fruit[index])"
   ]
  },
  {
   "cell_type": "markdown",
   "metadata": {},
   "source": [
    "### Copy a List\n",
    "You cannot copy a list simply by typing list2 = list1, because: list2 will only be a reference to list1, and changes made in list1 will automatically also be made in list2."
   ]
  },
  {
   "cell_type": "code",
   "execution_count": 49,
   "metadata": {},
   "outputs": [
    {
     "name": "stdout",
     "output_type": "stream",
     "text": [
      "[1, 3, 4, 5, 5, 7]\n",
      "[1, 3, 4, 5, 5, 7]\n"
     ]
    }
   ],
   "source": [
    "numCopy = num.copy() # == numCopy = list(num)\n",
    "numCopy2 = list(num)\n",
    "\n",
    "print(numCopy)\n",
    "print(numCopy2)\n"
   ]
  },
  {
   "cell_type": "code",
   "execution_count": 135,
   "metadata": {},
   "outputs": [
    {
     "name": "stdout",
     "output_type": "stream",
     "text": [
      "[1, 3, 4, 5, 7]\n",
      "[1, 3, 4, 5, 7, 9]\n"
     ]
    }
   ],
   "source": [
    "num.pop(-1) #remove last index value\n",
    "print(num)\n",
    "print(numCopy)"
   ]
  },
  {
   "cell_type": "code",
   "execution_count": 147,
   "metadata": {},
   "outputs": [
    {
     "name": "stdout",
     "output_type": "stream",
     "text": [
      "['apple', 'orange', 'bananna', 'mango']\n",
      "['apple', 'bananna', 'mango']\n",
      "['apple', 'bananna', 'mango']\n"
     ]
    }
   ],
   "source": [
    "fruit = ['apple','orange', 'bananna', 'mango']\n",
    "\n",
    "copied_fruit = fruit.copy() # create a new copy list\n",
    "fruit.pop(1) # remove index 1 item\n",
    "print(copied_fruit)\n",
    "\n",
    "print(sorted(fruit)) # create a new list\n",
    "fruit.sort() # use sort method to modify the ist\n",
    "print(fruit)\n"
   ]
  },
  {
   "cell_type": "markdown",
   "metadata": {},
   "source": [
    "## Traverse a List"
   ]
  },
  {
   "cell_type": "code",
   "execution_count": 148,
   "metadata": {
    "collapsed": true
   },
   "outputs": [
    {
     "name": "stdout",
     "output_type": "stream",
     "text": [
      "[1, 3, 5, 7, 9, 11, 13, 15]\n",
      "[1, 3, 5, 7, 9, 11, 13, 15]\n"
     ]
    }
   ],
   "source": [
    "numList1 = [ 1, 3, 5, 7, 9, 11, 13, 15]\n",
    "\n",
    "#same as\n",
    "numList2 = list(range(1, 16, 2))\n",
    "\n",
    "print(numList1)\n",
    "print(numList2)"
   ]
  },
  {
   "cell_type": "markdown",
   "metadata": {},
   "source": [
    "### Enumerate"
   ]
  },
  {
   "cell_type": "code",
   "execution_count": 54,
   "metadata": {},
   "outputs": [
    {
     "name": "stdout",
     "output_type": "stream",
     "text": [
      "0 1\n",
      "1 3\n",
      "2 5\n",
      "3 7\n",
      "4 9\n",
      "5 11\n",
      "6 13\n",
      "7 15\n",
      "\n",
      "(0, 1)\n",
      "(1, 3)\n",
      "(2, 5)\n",
      "(3, 7)\n",
      "(4, 9)\n",
      "(5, 11)\n",
      "(6, 13)\n",
      "(7, 15)\n"
     ]
    }
   ],
   "source": [
    "# print the numbers with indices\n",
    "numList1 = [ 1, 3, 5, 7, 9, 11, 13, 15]\n",
    "\n",
    "\n",
    "for index, number in enumerate(numList1): \n",
    "    print(index, number)\n",
    "\n",
    "print()\n",
    "\n",
    "# return tuple \n",
    "for number in enumerate(numList1): \n",
    "    print(number)\n",
    "    "
   ]
  },
  {
   "cell_type": "code",
   "execution_count": 150,
   "metadata": {
    "collapsed": true
   },
   "outputs": [
    {
     "name": "stdout",
     "output_type": "stream",
     "text": [
      "1\n",
      "3\n",
      "5\n",
      "7\n",
      "9\n",
      "11\n",
      "13\n",
      "15\n"
     ]
    }
   ],
   "source": [
    "for num in numList1:\n",
    "    print(num)"
   ]
  },
  {
   "cell_type": "code",
   "execution_count": 50,
   "metadata": {},
   "outputs": [
    {
     "name": "stdout",
     "output_type": "stream",
     "text": [
      "[(0, 1), (1, 3), (2, 5), (3, 7), (4, 9), (5, 11), (6, 13), (7, 15)]\n"
     ]
    }
   ],
   "source": [
    "# return a tuple\n",
    "numList = enumerate([ 1, 3, 5, 7, 9, 11, 13, 15])\n",
    "numList = list(numList)\n",
    "\n",
    "print(numList)"
   ]
  },
  {
   "cell_type": "markdown",
   "metadata": {},
   "source": [
    "### Using Loop w range"
   ]
  },
  {
   "cell_type": "code",
   "execution_count": 24,
   "metadata": {
    "scrolled": false
   },
   "outputs": [
    {
     "name": "stdout",
     "output_type": "stream",
     "text": [
      "apple\n",
      "orange\n",
      "banana\n",
      "mango\n"
     ]
    }
   ],
   "source": [
    "# while loop\n",
    "\n",
    "fruit = ['apple','orange', 'banana', 'mango']\n",
    "\n",
    "index = 0\n",
    "while index < len(fruit):\n",
    "    print(fruit[index])\n",
    "    index += 1"
   ]
  },
  {
   "cell_type": "code",
   "execution_count": null,
   "metadata": {},
   "outputs": [],
   "source": []
  },
  {
   "cell_type": "code",
   "execution_count": 27,
   "metadata": {},
   "outputs": [
    {
     "name": "stdout",
     "output_type": "stream",
     "text": [
      "apple\n",
      "orange\n",
      "banana\n",
      "mango\n"
     ]
    }
   ],
   "source": [
    "# for loop\n",
    "\n",
    "fruit = ['apple','orange', 'banana', 'mango']\n",
    "\n",
    "for i in range(0, len(fruit)):\n",
    "\tprint(fruit[i])\n"
   ]
  },
  {
   "cell_type": "markdown",
   "metadata": {},
   "source": [
    "### List Comprehension \n",
    "* when to use?"
   ]
  },
  {
   "cell_type": "code",
   "execution_count": 55,
   "metadata": {},
   "outputs": [
    {
     "name": "stdout",
     "output_type": "stream",
     "text": [
      "[0, 1, 2, 3, 4, 5, 6, 7, 8, 9]\n",
      "[0, 1, 2, 3, 4, 5, 6, 7, 8, 9]\n"
     ]
    }
   ],
   "source": [
    "# l = [0, 1, 2, 3, 4, 5, 6, 7, 8, 9]\n",
    "\n",
    "l = list(range(0,10))\n",
    "print(l)\n",
    "\n",
    "lc = [i for i in range(10)]\n",
    "print(lc)"
   ]
  },
  {
   "cell_type": "code",
   "execution_count": null,
   "metadata": {},
   "outputs": [],
   "source": [
    "# create lsqr=[0,1,4,9,16,25,36,49,64,81]\n",
    "\n",
    "lsqr = [x*x for x in l]\n",
    "print(lsqr)"
   ]
  },
  {
   "cell_type": "code",
   "execution_count": null,
   "metadata": {},
   "outputs": [],
   "source": [
    "# lsqr2 = [0, 4, 16, 36, 64] \n",
    "\n",
    "lsqr2 = [x*x for x in l if x % 2 == 0]\n",
    "print(lsqr2)"
   ]
  },
  {
   "cell_type": "code",
   "execution_count": 57,
   "metadata": {},
   "outputs": [
    {
     "name": "stdout",
     "output_type": "stream",
     "text": [
      "[0, 1, 4, 27, 16, 125, 36, 343, 64, 729]\n",
      "[0, 1, 2, 3, 4, 5, 6, 7, 8, 9]\n"
     ]
    }
   ],
   "source": [
    "# VIP\n",
    "# [0, 1, 4, 27, 16, 125, 36, 343, 64, 729]\n",
    "# even -> pow(x , 2); odd -> pow(x, 3)\n",
    "\n",
    "l2 = [x**2 if x%2 == 0 else x**3 for x in l]\n",
    "print(l2)\n",
    "print(l)"
   ]
  },
  {
   "cell_type": "code",
   "execution_count": 185,
   "metadata": {},
   "outputs": [
    {
     "name": "stdout",
     "output_type": "stream",
     "text": [
      "['APPLE', 'BANANA', 'ORANGE', 'PLUM']\n"
     ]
    }
   ],
   "source": [
    "# transform fruits list to ['APPLE', 'BANANA', 'ORANGE', 'PLUM’]\n",
    "fruits = [\"apple\", \"banana\", \"orange\", \"plum\"]\n",
    "\n",
    "upperF = [f.upper() for f in fruits] # upper() is a string method\n",
    "print(upperF)\n"
   ]
  },
  {
   "cell_type": "code",
   "execution_count": 180,
   "metadata": {},
   "outputs": [
    {
     "name": "stdout",
     "output_type": "stream",
     "text": [
      "APPLE, BANANA, ORANGE, PLUM\n"
     ]
    }
   ],
   "source": [
    "fruits = [\"apple\", \"banana\", \"orange\", \"plum\"]\n",
    "          \n",
    "# upper(), lower() are methods for string\n",
    "fruit_str = \"apple, banana, orange, plum\"\n",
    "obj = fruit_str.upper()\n",
    "print(obj)"
   ]
  },
  {
   "cell_type": "markdown",
   "metadata": {},
   "source": [
    "### Find elements in a list\n",
    "* List all vowls in 'MathemAtics'.\n"
   ]
  },
  {
   "cell_type": "code",
   "execution_count": 42,
   "metadata": {},
   "outputs": [
    {
     "name": "stdout",
     "output_type": "stream",
     "text": [
      "a\n",
      "e\n",
      "A\n",
      "i\n"
     ]
    }
   ],
   "source": [
    "# method 1\n",
    "\n",
    "s = \"MathemAtics\"\n",
    "\n",
    "vowl = \"aeiouAEIOU\"\n",
    "\n",
    "for i in s: \n",
    "    if i in vowl:\n",
    "        print(i)"
   ]
  },
  {
   "cell_type": "code",
   "execution_count": 214,
   "metadata": {},
   "outputs": [
    {
     "name": "stdout",
     "output_type": "stream",
     "text": [
      "a\n",
      "e\n",
      "A\n",
      "i\n"
     ]
    }
   ],
   "source": [
    "# method 2 - using index\n",
    "\n",
    "s = \"MathemAtics\"\n",
    "\n",
    "vowl = \"aeiouAEIOU\"\n",
    "\n",
    "for i in range(0, len(s)):\n",
    "#     print(s[i])\n",
    "    if s[i] in vowl:\n",
    "        print(s[i])\n"
   ]
  },
  {
   "cell_type": "code",
   "execution_count": 241,
   "metadata": {},
   "outputs": [
    {
     "name": "stdout",
     "output_type": "stream",
     "text": [
      "['a', 'e', 'A', 'i']\n"
     ]
    }
   ],
   "source": [
    "# use list comprehension\n",
    "vowl = \"aeiouAEIOU\"\n",
    "\n",
    "isVowl = [ i for i in s if i in vowl]\n",
    "print(isVowl)"
   ]
  },
  {
   "cell_type": "code",
   "execution_count": 285,
   "metadata": {},
   "outputs": [
    {
     "name": "stdout",
     "output_type": "stream",
     "text": [
      "['a', 'e', 'A', 'i']\n"
     ]
    }
   ],
   "source": [
    "s = ['M', 'a', 't', 'h', 'e', 'm', 'A', 't', 'i', 'c', 's']\n",
    "\n",
    "s2 = [x for x in s if x in \"aeiouAEIOU\"]\n",
    "print(s2)\n"
   ]
  },
  {
   "cell_type": "code",
   "execution_count": 253,
   "metadata": {},
   "outputs": [
    {
     "name": "stdout",
     "output_type": "stream",
     "text": [
      "['a', 'e', 'A', 'i']\n"
     ]
    }
   ],
   "source": [
    "# write a function\n",
    "s = \"MathemAtics\"\n",
    "\n",
    "def isVowl(s):\n",
    "\tvowl = \"aeiouAEIOU\"\n",
    "\tvowl_list = []\n",
    "\tfor i in s:\n",
    "\t\tif i in vowl:\n",
    "\t\t\tvowl_list.append(i)\n",
    "\tprint(vowl_list)\n",
    "isVowl(s)\n"
   ]
  },
  {
   "cell_type": "code",
   "execution_count": 263,
   "metadata": {},
   "outputs": [
    {
     "name": "stdout",
     "output_type": "stream",
     "text": [
      "['a', 'e', 'A', 'i']\n"
     ]
    }
   ],
   "source": [
    "# return\n",
    "s = \"MathemAtics\"\n",
    "\n",
    "def isVowl(s):\n",
    "\tvowl = \"aeiouAEIOU\"\n",
    "\tvowl_list = []\n",
    "\tfor i in s:\n",
    "\t\tif i in vowl:\n",
    "\t\t\tvowl_list.append(i)\n",
    "\treturn vowl_list\n",
    "\n",
    "\n",
    "print(isVowl(s))"
   ]
  },
  {
   "cell_type": "code",
   "execution_count": 264,
   "metadata": {},
   "outputs": [
    {
     "name": "stdout",
     "output_type": "stream",
     "text": [
      "<generator object isVowl at 0x10788d6d0>\n"
     ]
    }
   ],
   "source": [
    "# yield generator\n",
    "s = \"MathemAtics\"\n",
    "\n",
    "def isVowl(s):\n",
    "\tvowl = \"aeiouAEIOU\"\n",
    "\tvowl_list = []\n",
    "\tfor i in s:\n",
    "\t\tif i in vowl:\n",
    "\t\t\tvowl_list.append(i)\n",
    "\tyield vowl_list\n",
    "    \n",
    "print(isVowl(s))"
   ]
  },
  {
   "cell_type": "code",
   "execution_count": 216,
   "metadata": {},
   "outputs": [
    {
     "name": "stdout",
     "output_type": "stream",
     "text": [
      "['a', 'e', 'A', 'i']\n",
      "['a', 'e', 'A', 'i']\n",
      "['a', 'e', 'A', 'i']\n"
     ]
    }
   ],
   "source": [
    "# solutions\n",
    "print([y for y in 'MathemAtics' if y in 'aeiouAEIOU'])\n",
    "\n",
    "vowls = 'aeiouAEIOU'\n",
    "mystring = 'MathemAtics'\n",
    "\n",
    "# solution 2 \n",
    "print([x for x in mystring if x in vowls])\n",
    "\n",
    "# solution 3\n",
    "def isVowl(mystring):\n",
    "    for x in mystring:\n",
    "        if x in vowls:\n",
    "            yield x\n",
    "\n",
    "v = list(isVowl(mystring))\n",
    "print(v)"
   ]
  },
  {
   "cell_type": "markdown",
   "metadata": {},
   "source": [
    "### Replace non-vowls with 'x' in myString"
   ]
  },
  {
   "cell_type": "code",
   "execution_count": 101,
   "metadata": {},
   "outputs": [
    {
     "data": {
      "text/plain": [
       "'Hello I a2 Yuki!'"
      ]
     },
     "execution_count": 101,
     "metadata": {},
     "output_type": "execute_result"
    }
   ],
   "source": [
    "myString = 'Hello I am Yuki!'\n",
    "myString.replace('m','2')\n",
    "# myString + 'x'"
   ]
  },
  {
   "cell_type": "code",
   "execution_count": 289,
   "metadata": {
    "scrolled": true
   },
   "outputs": [
    {
     "name": "stdout",
     "output_type": "stream",
     "text": [
      "['x', 'e', 'x', 'x', 'o', 'x', 'I', 'x', 'a', 'x', 'x', 'x', 'u', 'x', 'i', 'x']\n"
     ]
    }
   ],
   "source": [
    "myString2 = [letter if letter in \"aeiouAEIOU\" else 'x' for letter in myString]\n",
    "print(myString2)"
   ]
  },
  {
   "cell_type": "code",
   "execution_count": 58,
   "metadata": {},
   "outputs": [
    {
     "name": "stdout",
     "output_type": "stream",
     "text": [
      "Hxllx x xm Yxkx!\n"
     ]
    }
   ],
   "source": [
    "# replace vowls with x\n",
    "myString = 'Hello I am Yuki!'\n",
    "vowls = \"aeiouAEIOU\"\n",
    "\n",
    "noVowl_list = [i if not i in vowls else 'x' for i in myString]\n",
    "print(''.join(noVowl_list))\n"
   ]
  },
  {
   "cell_type": "code",
   "execution_count": 122,
   "metadata": {},
   "outputs": [
    {
     "data": {
      "text/plain": [
       "'Hrllo I am Yuki!'"
      ]
     },
     "execution_count": 122,
     "metadata": {},
     "output_type": "execute_result"
    }
   ],
   "source": [
    "# replace vowls with \"x\" in myString\n",
    "vowls = \"aeiouAEIOU\"\n",
    "myString = 'Hello I am Yuki!'\n",
    "\n",
    "\n",
    "# myString.replace('e','r')\n",
    "\n",
    "# newString = \"\"\n",
    "\n",
    "for i in range(0, len(myString)):\n",
    "    if myString[i] == vowls:\n",
    "        myString.\n",
    "\n",
    "# print(myString)\n"
   ]
  },
  {
   "cell_type": "code",
   "execution_count": 525,
   "metadata": {},
   "outputs": [
    {
     "name": "stdout",
     "output_type": "stream",
     "text": [
      "['H', 'x', 'l', 'l', 'x', ' ', 'x', ' ', 'x', 'm', ' ', 'Y', 'x', 'k', 'x', '!']\n",
      "Hxllx x xm Yxkx!\n"
     ]
    }
   ],
   "source": [
    "# list comprehension\n",
    "\n",
    "myString = 'Hello I am Yuki!'\n",
    "vowls = \"aeiouAEIOU\"\n",
    "\n",
    "LC = [i if not i in vowls else 'x' for i in myString]\n",
    "print(LC)\n",
    "print(''.join(LC))"
   ]
  },
  {
   "cell_type": "code",
   "execution_count": 526,
   "metadata": {},
   "outputs": [
    {
     "name": "stdout",
     "output_type": "stream",
     "text": [
      "['x', 'e', 'x', 'x', 'o', 'x', 'I', 'x', 'a', 'x', 'x', 'x', 'u', 'x', 'i', 'x']\n",
      "xexxoxIxaxxxuxix\n"
     ]
    }
   ],
   "source": [
    "myString = 'Hello I am Yuki!'\n",
    "vowls = \"aeiouAEIOU\"\n",
    "\n",
    "LC = ['x' if not i in vowls else i for i in myString]\n",
    "print(LC)\n",
    "print(''.join(LC))"
   ]
  },
  {
   "cell_type": "code",
   "execution_count": 523,
   "metadata": {},
   "outputs": [
    {
     "name": "stdout",
     "output_type": "stream",
     "text": [
      "x e x x o   I   a x   x u x i x\n"
     ]
    }
   ],
   "source": [
    "myString = 'Hello I am Yuki!'\n",
    "myString = \" \".join(['x' if not i in 'aeiouAEIOU' and i != \" \" else i for i in myString])\n",
    "\n",
    "print(myString)"
   ]
  },
  {
   "cell_type": "markdown",
   "metadata": {},
   "source": [
    "### List Comprehension"
   ]
  },
  {
   "cell_type": "code",
   "execution_count": 13,
   "metadata": {},
   "outputs": [
    {
     "name": "stdout",
     "output_type": "stream",
     "text": [
      "['A', 'E', 'I', 'O']\n",
      "['A', 'E', 'I', 'O']\n"
     ]
    }
   ],
   "source": [
    "a = [x for x in 'MATHEISO' if x in 'A''E''I''O''U']\n",
    "print(a)\n",
    "\n",
    "# the same as\n",
    "b = [x for x in 'MATHEISO' if x in 'AEIOU']\n",
    "print(b)"
   ]
  },
  {
   "cell_type": "code",
   "execution_count": null,
   "metadata": {},
   "outputs": [],
   "source": []
  },
  {
   "cell_type": "markdown",
   "metadata": {},
   "source": [
    "## Remove punctuation\n",
    "* Check a char\n",
    "* Traverse a String\n",
    "> \"\".join(string)"
   ]
  },
  {
   "cell_type": "code",
   "execution_count": 65,
   "metadata": {},
   "outputs": [
    {
     "name": "stdout",
     "output_type": "stream",
     "text": [
      "!\"#$%&'()*+,-./:;<=>?@[\\]^_`{|}~\n"
     ]
    }
   ],
   "source": [
    "import string\n",
    "string.punctuation\n",
    "print(string.punctuation)"
   ]
  },
  {
   "cell_type": "code",
   "execution_count": 128,
   "metadata": {},
   "outputs": [],
   "source": [
    "content = [\"Provided by USConstitution.net\", \"United States of America.\"]"
   ]
  },
  {
   "cell_type": "code",
   "execution_count": 129,
   "metadata": {},
   "outputs": [
    {
     "name": "stdout",
     "output_type": "stream",
     "text": [
      "Provided by USConstitutionnet United States of America \n"
     ]
    }
   ],
   "source": [
    "# method 1.\n",
    "# remove punctuation\n",
    "\n",
    "new_content = \"\"\n",
    "for words in content:\n",
    "    for c in words:\n",
    "        if c not in string.punctuation:\n",
    "            new_content += c\n",
    "    new_content += \" \"\n",
    "\n",
    "print(new_content)\n"
   ]
  },
  {
   "cell_type": "code",
   "execution_count": 142,
   "metadata": {},
   "outputs": [
    {
     "name": "stdout",
     "output_type": "stream",
     "text": [
      "Provided by USConstitution.net United States of America.\n",
      "<class 'str'>\n",
      "Provided by USConstitutionnet United States of America\n"
     ]
    }
   ],
   "source": [
    "# method 2.\n",
    "content = [\"Provided by USConstitution.net\", \"United States of America.\"]\n",
    "\n",
    "a = \" \".join(content)\n",
    "print(a)\n",
    "print(type(a))\n",
    "\n",
    "b = [x for x in a if x not in string.punctuation]\n",
    "print(\"\".join(b))"
   ]
  },
  {
   "cell_type": "markdown",
   "metadata": {},
   "source": [
    "## Remove  words\n",
    "* Check a word\n",
    "* Traverse a list to check\n",
    "> split()"
   ]
  },
  {
   "cell_type": "code",
   "execution_count": 181,
   "metadata": {
    "scrolled": true
   },
   "outputs": [
    {
     "name": "stdout",
     "output_type": "stream",
     "text": [
      "['Provided', 'mon', 'is', 'mom,', 'United', 'States', 'of', 'America.']\n"
     ]
    }
   ],
   "source": [
    "# remove \"me, you, her\" from content\n",
    "\n",
    "remove_string = \"my your her\"\n",
    "content = \"Provided my mon is your mom, United her States of America.\"\n",
    "\n",
    "# convert to list\n",
    "new_string = remove_string.split()\n",
    "new_content = content.split()\n",
    "\n",
    "# move not in new_string to a new list\n",
    "new_content = [w for w in new_content if w not in new_string]\n",
    "\n",
    "print(new_content)"
   ]
  },
  {
   "cell_type": "markdown",
   "metadata": {},
   "source": [
    "### Ex. Remove \"aeiouAEIOU\" from a string.\n",
    "s = \"Provided my mon is your mom, United her States of America.\"  "
   ]
  },
  {
   "cell_type": "code",
   "execution_count": 61,
   "metadata": {},
   "outputs": [],
   "source": [
    "s = \"Provided my mon is your mom, United her States of America.\"  "
   ]
  },
  {
   "cell_type": "code",
   "execution_count": 13,
   "metadata": {},
   "outputs": [
    {
     "name": "stdout",
     "output_type": "stream",
     "text": [
      "Prvdd my mn s yr mm, ntd hr Stts f mrc.\n"
     ]
    }
   ],
   "source": [
    "# method 1: list comprehension\n",
    "\n",
    "rm_s = \"\".join([c for c in s if c not in \"aeiouAEIOU\"])\n",
    "print(rm_s)  "
   ]
  },
  {
   "cell_type": "code",
   "execution_count": 15,
   "metadata": {
    "scrolled": true
   },
   "outputs": [
    {
     "name": "stdout",
     "output_type": "stream",
     "text": [
      "Prvdd my mn s yr mm, ntd hr Stts f mrc.\n"
     ]
    }
   ],
   "source": [
    "# method 2: loop with range\n",
    "\n",
    "newS = \"\"\n",
    "for index in range(0, len(s)):\n",
    "    if s[index] not in \"aeiouAEIOU\":\n",
    "        newS += s[index]\n",
    "print(newS)"
   ]
  },
  {
   "cell_type": "code",
   "execution_count": null,
   "metadata": {},
   "outputs": [],
   "source": []
  }
 ],
 "metadata": {
  "kernelspec": {
   "display_name": "Python 3",
   "language": "python",
   "name": "python3"
  },
  "language_info": {
   "codemirror_mode": {
    "name": "ipython",
    "version": 3
   },
   "file_extension": ".py",
   "mimetype": "text/x-python",
   "name": "python",
   "nbconvert_exporter": "python",
   "pygments_lexer": "ipython3",
   "version": "3.7.4"
  }
 },
 "nbformat": 4,
 "nbformat_minor": 2
}
