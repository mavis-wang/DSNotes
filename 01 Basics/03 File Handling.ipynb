{
 "cells": [
  {
   "cell_type": "markdown",
   "metadata": {},
   "source": [
    "## File Handling\n",
    "Files are used for persistence\n",
    "* Files are objects in Python\n",
    "* Many different file types commonly used in Python: \n",
    "    * json\n",
    "    * csv\n",
    "    * pickle\n",
    "\n",
    "* <b>Open and close files\n",
    "* Rename files\n",
    "* Delete files"
   ]
  },
  {
   "cell_type": "markdown",
   "metadata": {
    "slideshow": {
     "slide_type": "slide"
    }
   },
   "source": [
    "### Open and Read File"
   ]
  },
  {
   "cell_type": "code",
   "execution_count": 1,
   "metadata": {
    "scrolled": true
   },
   "outputs": [
    {
     "ename": "FileNotFoundError",
     "evalue": "[Errno 2] No such file or directory: 'samplecsv.csv'",
     "output_type": "error",
     "traceback": [
      "\u001b[0;31m---------------------------------------------------------------------------\u001b[0m",
      "\u001b[0;31mFileNotFoundError\u001b[0m                         Traceback (most recent call last)",
      "\u001b[0;32m<ipython-input-1-718a7b7880f1>\u001b[0m in \u001b[0;36m<module>\u001b[0;34m\u001b[0m\n\u001b[1;32m      1\u001b[0m \u001b[0;31m# read all content in the file\u001b[0m\u001b[0;34m\u001b[0m\u001b[0;34m\u001b[0m\u001b[0;34m\u001b[0m\u001b[0m\n\u001b[1;32m      2\u001b[0m \u001b[0;34m\u001b[0m\u001b[0m\n\u001b[0;32m----> 3\u001b[0;31m \u001b[0;32mwith\u001b[0m \u001b[0mopen\u001b[0m\u001b[0;34m(\u001b[0m\u001b[0;34m'samplecsv.csv'\u001b[0m\u001b[0;34m,\u001b[0m \u001b[0;34m'r'\u001b[0m\u001b[0;34m)\u001b[0m \u001b[0;32mas\u001b[0m \u001b[0mf\u001b[0m\u001b[0;34m:\u001b[0m\u001b[0;34m\u001b[0m\u001b[0;34m\u001b[0m\u001b[0m\n\u001b[0m\u001b[1;32m      4\u001b[0m     \u001b[0mcontent\u001b[0m \u001b[0;34m=\u001b[0m \u001b[0mf\u001b[0m\u001b[0;34m.\u001b[0m\u001b[0mread\u001b[0m\u001b[0;34m(\u001b[0m\u001b[0;34m)\u001b[0m\u001b[0;34m\u001b[0m\u001b[0;34m\u001b[0m\u001b[0m\n\u001b[1;32m      5\u001b[0m \u001b[0mprint\u001b[0m\u001b[0;34m(\u001b[0m\u001b[0mcontent\u001b[0m\u001b[0;34m)\u001b[0m \u001b[0;31m# type == string\u001b[0m\u001b[0;34m\u001b[0m\u001b[0;34m\u001b[0m\u001b[0m\n",
      "\u001b[0;31mFileNotFoundError\u001b[0m: [Errno 2] No such file or directory: 'samplecsv.csv'"
     ]
    }
   ],
   "source": [
    "# read all content in the file\n",
    "\n",
    "with open('samplecsv.csv', 'r') as f:\n",
    "    content = f.read() \n",
    "print(content) # type == string"
   ]
  },
  {
   "cell_type": "code",
   "execution_count": 29,
   "metadata": {},
   "outputs": [
    {
     "name": "stdout",
     "output_type": "stream",
     "text": [
      "aa, 2,22.5, 1, dfs, aa\n",
      "\n"
     ]
    }
   ],
   "source": [
    "# read a line upon a call \n",
    "\n",
    "with open('samplecsv.csv', 'r') as f:\n",
    "    f.readline()\n",
    "    line = f.readline()\n",
    "print(line) # 2nd line, type == string\n"
   ]
  },
  {
   "cell_type": "code",
   "execution_count": 21,
   "metadata": {},
   "outputs": [
    {
     "name": "stdout",
     "output_type": "stream",
     "text": [
      "['Col0,Col1, Col2, Col3, Col4,Col5\\n', 'aa, 2,22.5, 1, dfs, aa\\n', 'ab, 2,20, 23, df, ab\\n', 'aa, 2,18,111, ddd, aa\\n', 'cd, 2,23.5, da, 22, cd\\n', 'bb, 2,23,dfa, 2123, bb']\n",
      "\n",
      "Col0,Col1, Col2, Col3, Col4,Col5\n",
      "\n",
      "l\n"
     ]
    }
   ],
   "source": [
    "# read all content by lines ==> a list\n",
    "\n",
    "with open('samplecsv.csv', 'r') as f:\n",
    "    lines = f.readlines()\n",
    "print(lines) # type == list \n",
    "    \n",
    "print(\"\")\n",
    "\n",
    "print(lines[0]) #==> Col0,Col1, Col2, Col3, Col4,Col5\n",
    "print(lines[0][2])#==> l"
   ]
  },
  {
   "cell_type": "code",
   "execution_count": 5,
   "metadata": {},
   "outputs": [
    {
     "name": "stdout",
     "output_type": "stream",
     "text": [
      "['ac', '2 ']\n",
      "['aa', '6 ']\n",
      "['bb', '4 ']\n",
      "['ab', '2 ']\n",
      "['ac', '2 ']\n",
      "\n",
      "<_csv.reader object at 0x10ad50d50>\n"
     ]
    }
   ],
   "source": [
    "# Read csv file\n",
    "import csv\n",
    "\n",
    "with open('samplecsv.csv', 'r') as f:\n",
    "    content_by_line = csv.reader(f)\n",
    "    for rows in content_by_line:\n",
    "        print(rows)\n",
    "        \n",
    "print('')\n",
    "\n",
    "print(content_by_line) #==> type = object\n",
    "\n",
    "# ['Col0', 'Col1', ' Col2', ' Col3', ' Col4', 'Col5']\n",
    "# ['aa', ' 2', '22.5', ' 1', ' dfs', ' aa']\n",
    "# ['ab', ' 2', '20', ' 23', ' df', ' ab']\n",
    "# ['aa', ' 2', '18', '111', ' ddd', ' aa']\n",
    "# ['cd', ' 2', '23.5', ' da', ' 22', ' cd']\n",
    "# ['bb', ' 2', '23', 'dfa', ' 2123', ' bb']"
   ]
  },
  {
   "cell_type": "code",
   "execution_count": 2,
   "metadata": {},
   "outputs": [
    {
     "ename": "FileNotFoundError",
     "evalue": "[Errno 2] No such file or directory: 'demofile2.txt'",
     "output_type": "error",
     "traceback": [
      "\u001b[0;31m---------------------------------------------------------------------------\u001b[0m",
      "\u001b[0;31mFileNotFoundError\u001b[0m                         Traceback (most recent call last)",
      "\u001b[0;32m<ipython-input-2-958fe96f2243>\u001b[0m in \u001b[0;36m<module>\u001b[0;34m\u001b[0m\n\u001b[1;32m      2\u001b[0m \u001b[0;32mimport\u001b[0m \u001b[0mcsv\u001b[0m\u001b[0;34m\u001b[0m\u001b[0;34m\u001b[0m\u001b[0m\n\u001b[1;32m      3\u001b[0m \u001b[0;34m\u001b[0m\u001b[0m\n\u001b[0;32m----> 4\u001b[0;31m \u001b[0;32mwith\u001b[0m \u001b[0mopen\u001b[0m\u001b[0;34m(\u001b[0m\u001b[0;34m'demofile2.txt'\u001b[0m\u001b[0;34m,\u001b[0m \u001b[0;34m'r'\u001b[0m\u001b[0;34m)\u001b[0m \u001b[0;32mas\u001b[0m \u001b[0mf\u001b[0m\u001b[0;34m:\u001b[0m\u001b[0;34m\u001b[0m\u001b[0;34m\u001b[0m\u001b[0m\n\u001b[0m\u001b[1;32m      5\u001b[0m     \u001b[0mcontent_by_line\u001b[0m \u001b[0;34m=\u001b[0m \u001b[0mcsv\u001b[0m\u001b[0;34m.\u001b[0m\u001b[0mreader\u001b[0m\u001b[0;34m(\u001b[0m\u001b[0mf\u001b[0m\u001b[0;34m)\u001b[0m\u001b[0;34m\u001b[0m\u001b[0;34m\u001b[0m\u001b[0m\n\u001b[1;32m      6\u001b[0m     \u001b[0;32mfor\u001b[0m \u001b[0mrows\u001b[0m \u001b[0;32min\u001b[0m \u001b[0mcontent_by_line\u001b[0m\u001b[0;34m:\u001b[0m\u001b[0;34m\u001b[0m\u001b[0;34m\u001b[0m\u001b[0m\n",
      "\u001b[0;31mFileNotFoundError\u001b[0m: [Errno 2] No such file or directory: 'demofile2.txt'"
     ]
    }
   ],
   "source": [
    "# Read .txt file with csv reader\n",
    "import csv\n",
    "\n",
    "with open('demofile2.txt', 'r') as f:\n",
    "    content_by_line = csv.reader(f)\n",
    "    for rows in content_by_line:\n",
    "        print(rows)\n",
    "        \n",
    "print('\\n')\n",
    "\n",
    "print(content_by_line) #==> type = object ==> [a string list]\n"
   ]
  },
  {
   "cell_type": "code",
   "execution_count": null,
   "metadata": {},
   "outputs": [],
   "source": []
  },
  {
   "cell_type": "code",
   "execution_count": 35,
   "metadata": {},
   "outputs": [
    {
     "name": "stdout",
     "output_type": "stream",
     "text": [
      "Col1\n",
      " 2\n",
      " 2\n",
      " 2\n",
      " 2\n",
      " 2\n"
     ]
    }
   ],
   "source": [
    "# read a col\n",
    "\n",
    "with open('samplecsv.csv', 'r') as f:\n",
    "    reader = csv.reader(f)\n",
    "    for row in reader:\n",
    "        print(row[1])"
   ]
  },
  {
   "cell_type": "markdown",
   "metadata": {},
   "source": [
    "### Write and/or Create a New File\n",
    "* \"a\" - Append - will append to the end of the file\n",
    "\n",
    "* \"w\" - Write - will overwrite any existing content\n",
    "* \"x\" - Create - will create a file, returns an error if the file exist"
   ]
  },
  {
   "cell_type": "code",
   "execution_count": 40,
   "metadata": {},
   "outputs": [
    {
     "name": "stdout",
     "output_type": "stream",
     "text": [
      "Now the file has more content!Now the file has more content!Now the file has more content!Now the file has more content!Now the file has more content!Now the file has more content!Now the file has more content!Now the file has more content!Now the file has more content!Now the file has more content!Now the file has more content!Now the file has more content!I just write somethingI just write somethingI just write somethingI just write something!\n"
     ]
    }
   ],
   "source": [
    "# Open the file \"demofile2.txt\" and append content to the file:\n",
    "\n",
    "with open(\"demofile2.txt\", \"a\") as f:\n",
    "    f.write(\"I just write something!\") # write a string\n",
    "\n",
    "#open and read the file after the appending:\n",
    "with open(\"demofile2.txt\", \"r\") as f:\n",
    "    print(f.read())\n"
   ]
  },
  {
   "cell_type": "code",
   "execution_count": 41,
   "metadata": {},
   "outputs": [
    {
     "name": "stdout",
     "output_type": "stream",
     "text": [
      "Woops! I have deleted the content!\n"
     ]
    }
   ],
   "source": [
    "# Open the file \"demofile3.txt\" and overwrite the content:\n",
    "\n",
    "f = open(\"demofile3.txt\", \"w\")\n",
    "f.write(\"Woops! I have deleted the content!\")\n",
    "f.close()\n",
    "\n",
    "#open and read the file after the appending:\n",
    "f = open(\"demofile3.txt\", \"r\")\n",
    "print(f.read())"
   ]
  },
  {
   "cell_type": "code",
   "execution_count": 69,
   "metadata": {},
   "outputs": [
    {
     "name": "stdout",
     "output_type": "stream",
     "text": [
      "file.csv, hello2file.csv, hello2file.csv, hello2hello, i am stringnew string new string new stringababcabc200,300abcabca new stringabc a new stringcsvfile.csvabc a new stringabc a new stringababababi am a string dataabc a new stringi am a string dataabc helloi am a string data\n"
     ]
    }
   ],
   "source": [
    "# writelines(data or string)\n",
    "\n",
    "with open('rewrite.csv','a') as f:\n",
    "    f.writelines(['a','b','c']) # can be string or data\n",
    "    f.writelines(' hello') # can be string or data\n",
    "    f.writelines(data) # can be string or data\n",
    "\n",
    "f = open(\"rewrite.csv\", \"r\")\n",
    "print(f.read())    "
   ]
  },
  {
   "cell_type": "markdown",
   "metadata": {},
   "source": [
    "## OS functions"
   ]
  },
  {
   "cell_type": "code",
   "execution_count": null,
   "metadata": {},
   "outputs": [],
   "source": [
    "import os"
   ]
  },
  {
   "cell_type": "markdown",
   "metadata": {},
   "source": [
    "### Get Current Working Directory"
   ]
  },
  {
   "cell_type": "code",
   "execution_count": null,
   "metadata": {
    "scrolled": true
   },
   "outputs": [],
   "source": [
    "os.getcwd()"
   ]
  },
  {
   "cell_type": "markdown",
   "metadata": {},
   "source": [
    "### List directory\n",
    "\n",
    "<b> os.listdir(path) </b>\n",
    "\n",
    "This method returns a list containing the names of the entries in the directory given by path.\n",
    "\n",
    "path − This is the directory, which needs to be explored.\n"
   ]
  },
  {
   "cell_type": "code",
   "execution_count": 73,
   "metadata": {},
   "outputs": [
    {
     "data": {
      "text/plain": [
       "['flights_by_airline.csv',\n",
       " '02 Tuples.ipynb',\n",
       " '.DS_Store',\n",
       " 'record.json',\n",
       " 'dummyfile1.txt',\n",
       " 'test.csv',\n",
       " '02 Input Output.ipynb',\n",
       " 'week 4 notes.py',\n",
       " 'Dictionary.ipynb',\n",
       " 'demofile2.txt',\n",
       " 'const.txt',\n",
       " 'CSV File.ipynb',\n",
       " '03 File Handling.ipynb',\n",
       " 'rewrite.csv',\n",
       " 'whiteboard.ipynb',\n",
       " '02 Lists.ipynb',\n",
       " 'csvfile.csv',\n",
       " 'test2.csv',\n",
       " '.ipynb_checkpoints',\n",
       " 'samplecsv.csv',\n",
       " '02 Set.ipynb',\n",
       " '04 functional programming.ipynb',\n",
       " '01 Overview.ipynb',\n",
       " '03 Exception Handling.ipynb',\n",
       " '02 Strings.ipynb',\n",
       " '02 Dictionaries.ipynb',\n",
       " '02 Functions.ipynb']"
      ]
     },
     "execution_count": 73,
     "metadata": {},
     "output_type": "execute_result"
    }
   ],
   "source": [
    "# \".\" list all files under the current directory\n",
    "os.listdir(\".\")"
   ]
  },
  {
   "cell_type": "code",
   "execution_count": 76,
   "metadata": {},
   "outputs": [
    {
     "data": {
      "text/plain": [
       "'/Users/maviswang/Desktop/_DATA 200 Python_copy/EXERCISE'"
      ]
     },
     "execution_count": 76,
     "metadata": {},
     "output_type": "execute_result"
    }
   ],
   "source": [
    "# os.chdir(\"/Users/maviswang/Desktop/_DATA 200 Python/EXERCISE/\")\n",
    "os.getcwd()"
   ]
  },
  {
   "cell_type": "markdown",
   "metadata": {},
   "source": [
    "### Check if File exist"
   ]
  },
  {
   "cell_type": "code",
   "execution_count": 72,
   "metadata": {},
   "outputs": [],
   "source": [
    "import os\n",
    "if os.path.exists(\"demofile3.txt\"):\n",
    "  os.remove(\"demofile3.txt\")\n",
    "else:\n",
    "  print(\"The file does not exist\")"
   ]
  },
  {
   "cell_type": "markdown",
   "metadata": {},
   "source": [
    "### Traverse thr current directory"
   ]
  },
  {
   "cell_type": "code",
   "execution_count": null,
   "metadata": {},
   "outputs": [],
   "source": [
    "for root, dirs, files in os.walk(\"/Users/maviswang/Desktop/_DATA 200 Python/EXERCISE\"):\n",
    "    print(root)\n",
    "    print(dirs)\n",
    "    print(files)\n",
    "    print(\"\\n\\n\")"
   ]
  },
  {
   "cell_type": "code",
   "execution_count": null,
   "metadata": {},
   "outputs": [],
   "source": [
    "home = os.path.expanduser(\"~\")\n",
    "print(home)\n"
   ]
  },
  {
   "cell_type": "markdown",
   "metadata": {},
   "source": [
    "### Delete Folder"
   ]
  },
  {
   "cell_type": "code",
   "execution_count": null,
   "metadata": {},
   "outputs": [],
   "source": [
    "import os\n",
    "os.rmdir(\"myfolder\")"
   ]
  },
  {
   "cell_type": "markdown",
   "metadata": {},
   "source": [
    "### Delete File"
   ]
  },
  {
   "cell_type": "code",
   "execution_count": null,
   "metadata": {
    "scrolled": false
   },
   "outputs": [],
   "source": [
    "### remove a file from os\n",
    "\n",
    "os.remove(\"dummyfile.txt\")"
   ]
  },
  {
   "cell_type": "markdown",
   "metadata": {},
   "source": [
    "### dir()\n",
    "returns list of the attributes and methods of any object (say functions , modules, strings, lists, dictionaries etc.)"
   ]
  },
  {
   "cell_type": "code",
   "execution_count": null,
   "metadata": {},
   "outputs": [],
   "source": [
    "a = [1,3,\"apple\"]\n",
    "dir(a)\n"
   ]
  },
  {
   "cell_type": "markdown",
   "metadata": {},
   "source": [
    "### glob.glob(pathname)\n",
    "* glob.glob(pathname) returns a list of files matching the pattern\n",
    "* glob.iglob() returns a generator to the files matching the pattern"
   ]
  },
  {
   "cell_type": "code",
   "execution_count": 7,
   "metadata": {},
   "outputs": [
    {
     "data": {
      "text/plain": [
       "['flights_by_airline.csv',\n",
       " '02 Tuples.ipynb',\n",
       " 'record.json',\n",
       " 'dummyfile1.txt',\n",
       " 'test.csv',\n",
       " '03 functional programming.ipynb',\n",
       " '02 Input Output.ipynb',\n",
       " 'week 4 notes.py',\n",
       " 'Dictionary.ipynb',\n",
       " 'demofile2.txt',\n",
       " 'const.txt',\n",
       " 'CSV File.ipynb',\n",
       " '03 File Handling.ipynb',\n",
       " '03 Exceptions.ipynb',\n",
       " 'rewrite.csv',\n",
       " 'whiteboard.ipynb',\n",
       " '02 Lists.ipynb',\n",
       " 'csvfile.csv',\n",
       " 'test2.csv',\n",
       " 'samplecsv.csv',\n",
       " '02 Set.ipynb',\n",
       " '01 Overview.ipynb',\n",
       " '02 Strings.ipynb',\n",
       " '02 Dictionaries.ipynb',\n",
       " '02 Functions.ipynb']"
      ]
     },
     "execution_count": 7,
     "metadata": {},
     "output_type": "execute_result"
    }
   ],
   "source": [
    "import glob\n",
    "\n",
    "glob.glob(\"*.*\")"
   ]
  },
  {
   "cell_type": "code",
   "execution_count": null,
   "metadata": {},
   "outputs": [],
   "source": []
  }
 ],
 "metadata": {
  "kernelspec": {
   "display_name": "Python 3",
   "language": "python",
   "name": "python3"
  },
  "language_info": {
   "codemirror_mode": {
    "name": "ipython",
    "version": 3
   },
   "file_extension": ".py",
   "mimetype": "text/x-python",
   "name": "python",
   "nbconvert_exporter": "python",
   "pygments_lexer": "ipython3",
   "version": "3.7.4"
  }
 },
 "nbformat": 4,
 "nbformat_minor": 2
}
