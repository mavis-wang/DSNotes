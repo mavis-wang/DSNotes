{
  "nbformat": 4,
  "nbformat_minor": 0,
  "metadata": {
    "colab": {
      "name": "04 median .ipynb",
      "provenance": [],
      "collapsed_sections": [],
      "authorship_tag": "ABX9TyMnXfmcz5YuHfgH5FJcJbwL"
    },
    "kernelspec": {
      "name": "python3",
      "display_name": "Python 3"
    },
    "language_info": {
      "name": "python"
    }
  },
  "cells": [
    {
      "cell_type": "markdown",
      "source": [
        "# 04 Median\n",
        "\n",
        "Given two sorted arrays nums1 and nums2 of size m and n respectively, return the median of the (combined) two sorted arrays.\n",
        "\n",
        "The overall run time complexity should be O(log (m+n)).\n",
        "\n",
        "\n",
        "- Example 1:\n",
        "Input: nums1 = [1,3], nums2 = [2]\n",
        "Output: 2.00000\n",
        "Explanation: merged array = [1,2,3] and median is 2.\n",
        "\n",
        "- Example 2:\n",
        "Input: nums1 = [1,2], nums2 = [3,4]\n",
        "Output: 2.50000\n",
        "Explanation: merged array = [1,2,3,4] and median is (2 + 3) / 2 = 2.5."
      ],
      "metadata": {
        "id": "r3xr4k6tjip4"
      }
    },
    {
      "cell_type": "code",
      "execution_count": null,
      "metadata": {
        "id": "cwgWBYoijcf4"
      },
      "outputs": [],
      "source": [
        "import numpy as np"
      ]
    },
    {
      "cell_type": "code",
      "source": [
        "num1 = [1,3]\n",
        "num2 = [2,7]"
      ],
      "metadata": {
        "id": "W_6xRYiIoUDT"
      },
      "execution_count": null,
      "outputs": []
    },
    {
      "cell_type": "code",
      "source": [
        "sorted(num1+num2)"
      ],
      "metadata": {
        "colab": {
          "base_uri": "https://localhost:8080/"
        },
        "id": "Spgq65TGzw4k",
        "outputId": "7c129298-4ce6-46e5-ee88-638e1ebd4ce2"
      },
      "execution_count": null,
      "outputs": [
        {
          "output_type": "execute_result",
          "data": {
            "text/plain": [
              "[1, 2, 3, 7]"
            ]
          },
          "metadata": {},
          "execution_count": 42
        }
      ]
    },
    {
      "cell_type": "code",
      "source": [
        "def findMed(num1, num2):\n",
        "  # even median indices\n",
        "  if len(num1+num2)%2 == 0:\n",
        "    m2_index = len(num1+num2) // 2\n",
        "    m1_index = m2_index - 1\n",
        "\n",
        "    return ((sorted(num1+num2)[m1_index]) + (sorted(num1+num2)[m2_index])) / 2\n",
        "\n",
        "  # odd median index\n",
        "  else:\n",
        "    m_index = len(num1+num2) // 2\n",
        "\n",
        "    return sorted(num1+num2)[m_index]\n",
        "\n",
        "# test\n",
        "findMed(num1, num2)"
      ],
      "metadata": {
        "colab": {
          "base_uri": "https://localhost:8080/"
        },
        "id": "NcNiRMCMsVtw",
        "outputId": "863c99ab-4c96-4927-ee7d-d2b0b7eece4e"
      },
      "execution_count": null,
      "outputs": [
        {
          "output_type": "execute_result",
          "data": {
            "text/plain": [
              "2.5"
            ]
          },
          "metadata": {},
          "execution_count": 50
        }
      ]
    }
  ]
}