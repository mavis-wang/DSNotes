{
  "nbformat": 4,
  "nbformat_minor": 0,
  "metadata": {
    "colab": {
      "name": "11 Container With Most Wateripynb",
      "provenance": [],
      "collapsed_sections": [],
      "authorship_tag": "ABX9TyMw1pDFmiUxkz+bM0cKAn1m"
    },
    "kernelspec": {
      "name": "python3",
      "display_name": "Python 3"
    },
    "language_info": {
      "name": "python"
    }
  },
  "cells": [
    {
      "cell_type": "markdown",
      "source": [
        "# 11. Container With Most Water\n",
        "Source: [LeetCode Problem #11](https://leetcode.com/problems/container-with-most-water/)\n",
        "\n",
        "You are given an integer array height of length n. There are n vertical lines drawn such that the two endpoints of the ith line are (i, 0) and (i, height[i]).\n",
        "\n",
        "1. Find two lines that together with the x-axis form a container, such that the container contains the most water.\n",
        "\n",
        "2. Return the maximum amount of water a container can store.\n",
        "\n",
        "Notice that you may not slant the container.\n",
        "\n",
        "\n",
        "**Constraints**:\n",
        "- n == height.length\n",
        "- 2 <= n <= 105\n",
        "- 0 <= height[i] <= 104"
      ],
      "metadata": {
        "id": "3It2eSfkgQ8m"
      }
    },
    {
      "cell_type": "code",
      "source": [
        "import numpy as np"
      ],
      "metadata": {
        "id": "YJz1vcsggQFO"
      },
      "execution_count": 2,
      "outputs": []
    },
    {
      "cell_type": "code",
      "source": [
        "# how to return the max number in a list without using max function?\n",
        "nums = [1,4,3,7,2,1]\n",
        "\n",
        "max_num = 0. # initialize\n",
        "for i in nums:\n",
        "  if i > max_num:\n",
        "    max_num = i\n",
        "\n",
        "print(f'num: {max_num}, index: {nums.index(max_num)}')\n"
      ],
      "metadata": {
        "colab": {
          "base_uri": "https://localhost:8080/"
        },
        "id": "WRbZgZYVdvb1",
        "outputId": "23cfdd5b-36a0-45da-ea21-fcf618602cd5"
      },
      "execution_count": 270,
      "outputs": [
        {
          "output_type": "stream",
          "name": "stdout",
          "text": [
            "num: 7, index: 3\n"
          ]
        }
      ]
    },
    {
      "cell_type": "code",
      "source": [
        "# example 1 => 49\n",
        "height = np.array([1,8,6,2,5,4,8,3,7])\n",
        "\n",
        "# store index and height in\n",
        "dic = {}\n",
        "for i, h in enumerate(height):\n",
        "  dic[i] = h\n",
        "\n",
        "for i in dic:\n",
        "  print(i, dic[i])"
      ],
      "metadata": {
        "colab": {
          "base_uri": "https://localhost:8080/"
        },
        "id": "K6k4o4bsha5i",
        "outputId": "5e526bc6-3dd0-4025-e55f-689502b3356a"
      },
      "execution_count": 275,
      "outputs": [
        {
          "output_type": "stream",
          "name": "stdout",
          "text": [
            "0 1\n",
            "1 8\n",
            "2 6\n",
            "3 2\n",
            "4 5\n",
            "5 4\n",
            "6 8\n",
            "7 3\n",
            "8 7\n"
          ]
        }
      ]
    },
    {
      "cell_type": "code",
      "source": [
        "# interval/length = end_line index - start_line index\n",
        "# height = min(start_line, end_line)\n",
        "# area = interval * height\n",
        "\n",
        "# calculate area from start to end lines\n",
        "interval = 8-1\n",
        "height = min(dic[8], dic[1])\n",
        "area = interval * height\n",
        "\n",
        "print(area)"
      ],
      "metadata": {
        "colab": {
          "base_uri": "https://localhost:8080/"
        },
        "id": "VDTX0pMv7hV3",
        "outputId": "e6c566bb-3439-4518-e530-94ec6c50a608"
      },
      "execution_count": 85,
      "outputs": [
        {
          "output_type": "stream",
          "name": "stdout",
          "text": [
            "49\n"
          ]
        }
      ]
    },
    {
      "cell_type": "markdown",
      "source": [
        "## Solution"
      ],
      "metadata": {
        "id": "x8wJupMJiNS3"
      }
    },
    {
      "cell_type": "code",
      "source": [
        "# interval = (i,j)\n",
        "# height = min(dic[i],dic[j])\n",
        "# area = interval * height\n",
        "\n",
        "def maxArea(height):\n",
        "  maxArea = 0\n",
        "  for i in range(len(height)):\n",
        "    for j in range(len(height)):\n",
        "      # only display non-repeat pairs of lines\n",
        "      if i < j:\n",
        "        # area\n",
        "        area = (j-i) * min(height[i],height[j])\n",
        "      \n",
        "        # upadate maxArea\n",
        "        if area > maxArea:\n",
        "          maxArea = area\n",
        "        # store full details\n",
        "          maxAreaDic = {\"start\":i,\"end\":j, \"area\":maxArea} \n",
        "\n",
        "  return maxArea, maxAreaDic\n",
        "\n",
        "maxArea(height)"
      ],
      "metadata": {
        "colab": {
          "base_uri": "https://localhost:8080/"
        },
        "id": "WKSXNUc2n45X",
        "outputId": "e484c2c6-f2bd-4bf9-c1d1-2259ffb7221e"
      },
      "execution_count": 305,
      "outputs": [
        {
          "output_type": "execute_result",
          "data": {
            "text/plain": [
              "(49, {'area': 49, 'end': 8, 'start': 1})"
            ]
          },
          "metadata": {},
          "execution_count": 305
        }
      ]
    },
    {
      "cell_type": "code",
      "source": [
        ""
      ],
      "metadata": {
        "id": "5N7ARrH9oQlW"
      },
      "execution_count": null,
      "outputs": []
    }
  ]
}