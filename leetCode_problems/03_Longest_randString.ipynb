{
  "nbformat": 4,
  "nbformat_minor": 0,
  "metadata": {
    "colab": {
      "name": "03 Longest_randString.ipynb",
      "provenance": [],
      "collapsed_sections": []
    },
    "kernelspec": {
      "name": "python3",
      "display_name": "Python 3"
    },
    "language_info": {
      "name": "python"
    }
  },
  "cells": [
    {
      "cell_type": "code",
      "execution_count": null,
      "metadata": {
        "id": "1d8oROf-lIMD"
      },
      "outputs": [],
      "source": [
        "import string\n",
        "import random"
      ]
    },
    {
      "cell_type": "markdown",
      "source": [
        "# 03. Longest non-repeat Substring"
      ],
      "metadata": {
        "id": "YDwMXBtlKj2r"
      }
    },
    {
      "cell_type": "code",
      "source": [
        "letters = string.ascii_letters\n",
        "letters"
      ],
      "metadata": {
        "colab": {
          "base_uri": "https://localhost:8080/",
          "height": 35
        },
        "id": "r-QfdWY-mFSz",
        "outputId": "9b9cc942-a62f-44fb-9555-67a81a5d6f5c"
      },
      "execution_count": null,
      "outputs": [
        {
          "output_type": "execute_result",
          "data": {
            "application/vnd.google.colaboratory.intrinsic+json": {
              "type": "string"
            },
            "text/plain": [
              "'abcdefghijklmnopqrstuvwxyzABCDEFGHIJKLMNOPQRSTUVWXYZ'"
            ]
          },
          "metadata": {},
          "execution_count": 2
        }
      ]
    },
    {
      "cell_type": "code",
      "source": [
        "# printing punctuation\n",
        "symbols = string.punctuation\n",
        "symbols"
      ],
      "metadata": {
        "colab": {
          "base_uri": "https://localhost:8080/",
          "height": 35
        },
        "id": "Sg1Y0XE2ox5Z",
        "outputId": "e3436093-4f96-455a-fd55-19f22d05ca6a"
      },
      "execution_count": null,
      "outputs": [
        {
          "output_type": "execute_result",
          "data": {
            "application/vnd.google.colaboratory.intrinsic+json": {
              "type": "string"
            },
            "text/plain": [
              "'!\"#$%&\\'()*+,-./:;<=>?@[\\\\]^_`{|}~'"
            ]
          },
          "metadata": {},
          "execution_count": 3
        }
      ]
    },
    {
      "cell_type": "code",
      "source": [
        "# digit\n",
        "digits = string.digits\n",
        "digits"
      ],
      "metadata": {
        "colab": {
          "base_uri": "https://localhost:8080/",
          "height": 35
        },
        "id": "DNp97gs4qob0",
        "outputId": "5a804762-d79a-4b1d-cf07-6cc077d8270b"
      },
      "execution_count": null,
      "outputs": [
        {
          "output_type": "execute_result",
          "data": {
            "application/vnd.google.colaboratory.intrinsic+json": {
              "type": "string"
            },
            "text/plain": [
              "'0123456789'"
            ]
          },
          "metadata": {},
          "execution_count": 4
        }
      ]
    },
    {
      "cell_type": "markdown",
      "source": [
        "## Generate random string with repeat"
      ],
      "metadata": {
        "id": "AwTPFp69r39x"
      }
    },
    {
      "cell_type": "code",
      "source": [
        "rand_source = string.ascii_letters + string.punctuation + string.digits + \" \"\n",
        "rand_source"
      ],
      "metadata": {
        "colab": {
          "base_uri": "https://localhost:8080/",
          "height": 35
        },
        "id": "gyHlhsCOrrOa",
        "outputId": "5092263b-79ea-4bae-baee-5a4a4dfe2c04"
      },
      "execution_count": null,
      "outputs": [
        {
          "output_type": "execute_result",
          "data": {
            "application/vnd.google.colaboratory.intrinsic+json": {
              "type": "string"
            },
            "text/plain": [
              "'abcdefghijklmnopqrstuvwxyzABCDEFGHIJKLMNOPQRSTUVWXYZ!\"#$%&\\'()*+,-./:;<=>?@[\\\\]^_`{|}~0123456789 '"
            ]
          },
          "metadata": {},
          "execution_count": 5
        }
      ]
    },
    {
      "cell_type": "code",
      "source": [
        "# random string with repeat\n",
        "rand_str = ''.join(random.choice(rand_source) for i in range(10))\n",
        "rand_str"
      ],
      "metadata": {
        "colab": {
          "base_uri": "https://localhost:8080/",
          "height": 35
        },
        "id": "1DNdoBhgo2nG",
        "outputId": "a4465599-7167-46d1-e0b5-9ff16ab52ea6"
      },
      "execution_count": null,
      "outputs": [
        {
          "output_type": "execute_result",
          "data": {
            "application/vnd.google.colaboratory.intrinsic+json": {
              "type": "string"
            },
            "text/plain": [
              "'Pa9`:6J[Gj'"
            ]
          },
          "metadata": {},
          "execution_count": 6
        }
      ]
    },
    {
      "cell_type": "code",
      "source": [
        "# find\n",
        "a = \"abcd\"\n",
        "a[0+1:]\n",
        "len(a)"
      ],
      "metadata": {
        "colab": {
          "base_uri": "https://localhost:8080/"
        },
        "id": "K3c1hlwaREel",
        "outputId": "4803721c-3d28-45c9-8197-9e22cd4d36ca"
      },
      "execution_count": null,
      "outputs": [
        {
          "output_type": "execute_result",
          "data": {
            "text/plain": [
              "4"
            ]
          },
          "metadata": {},
          "execution_count": 27
        }
      ]
    },
    {
      "cell_type": "code",
      "source": [
        "def dfsdf(string: str):\n",
        "  print('correct')\n",
        "dfsdf(\"aa\")"
      ],
      "metadata": {
        "colab": {
          "base_uri": "https://localhost:8080/"
        },
        "id": "NKwPtW4TYWl5",
        "outputId": "adea130b-1b3d-4ae0-eb19-45b6929a17ee"
      },
      "execution_count": null,
      "outputs": [
        {
          "output_type": "stream",
          "name": "stdout",
          "text": [
            "correct\n"
          ]
        }
      ]
    },
    {
      "cell_type": "markdown",
      "source": [
        "## Count the char of the longset non-repeat substring"
      ],
      "metadata": {
        "id": "cTpLiZhftF45"
      }
    },
    {
      "cell_type": "code",
      "source": [
        "# len(\"s549dkV.BZxYwWR\") = 15\n",
        "# rand_str = \"aBaCe.s549dkV.BZxYwWR\"\n",
        "rand_str = \"abcabcbb\"\n",
        "\n",
        "# # random string with repeat\n",
        "# rand_source = string.ascii_letters + string.punctuation + string.digits + \" \"\n",
        "# rand_str = ''.join(random.choice(rand_source) for i in range(10))\n",
        "# print(f'random string = {rand_str}')\n",
        "\n",
        "def find_sub(aString: str):\n",
        "  temp_str = \"\"\n",
        "  # initialize the current temp_str as the longest str\n",
        "  longest_len = len(temp_str)\n",
        "\n",
        "  for i in range(len(rand_str)):\n",
        "    # 1. Check if char is repeated\n",
        "    if rand_str[i] not in temp_str:\n",
        "      temp_str += rand_str[i]\n",
        "    \n",
        "    # find the index of the element of the same value\n",
        "    # update the element from the array\n",
        "    else:\n",
        "      ind = temp_str.find(rand_str[i])\n",
        "      temp_str = temp_str[ind+1:] + rand_str[i]\n",
        "    \n",
        "    # 2. check if the str is the longest\n",
        "    if len(temp_str) >= longest_len:\n",
        "      longest_str = temp_str\n",
        "      longest_len = len(temp_str)\n",
        "    \n",
        "  return len(longest_str), longest_str\n",
        "\n",
        "find_sub(rand_str)"
      ],
      "metadata": {
        "colab": {
          "base_uri": "https://localhost:8080/"
        },
        "id": "aQWUzxHpJnZe",
        "outputId": "e42cb1b6-f651-462b-ca75-9729dcbbf942"
      },
      "execution_count": null,
      "outputs": [
        {
          "output_type": "execute_result",
          "data": {
            "text/plain": [
              "(3, 'abc')"
            ]
          },
          "metadata": {},
          "execution_count": 5
        }
      ]
    },
    {
      "cell_type": "code",
      "source": [
        ""
      ],
      "metadata": {
        "id": "sXTBy9v7tkG-"
      },
      "execution_count": null,
      "outputs": []
    }
  ]
}