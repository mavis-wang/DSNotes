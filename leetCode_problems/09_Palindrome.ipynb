{
  "nbformat": 4,
  "nbformat_minor": 0,
  "metadata": {
    "colab": {
      "name": "09 Palindrome.ipynb",
      "provenance": [],
      "collapsed_sections": [],
      "authorship_tag": "ABX9TyNWciPHVhzfibg1vPDqMtyw"
    },
    "kernelspec": {
      "name": "python3",
      "display_name": "Python 3"
    },
    "language_info": {
      "name": "python"
    }
  },
  "cells": [
    {
      "cell_type": "markdown",
      "source": [
        "# 09. Palindrome\n",
        "Given an integer x, return true if x is palindrome integer.\n",
        "An integer is a palindrome when it reads the same backward as forward.\n",
        "For example, 121 is a palindrome while 123 is not.\n",
        "\n",
        "\n",
        "- Example 1:\n",
        "Input: x = 121\n",
        "Output: true\n",
        "Explanation: 121 reads as 121 from left to right and from right to left.\n",
        "\n",
        "- Example 2:\n",
        "Input: x = -121\n",
        "Output: false\n",
        "Explanation: From left to right, it reads -121. From right to left, it becomes 121-. Therefore it is not a palindrome.\n",
        "\n",
        "- Example 3:\n",
        "Input: x = 10\n",
        "Output: false\n",
        "Explanation: Reads 01 from right to left. Therefore it is not a palindrome.\n",
        "\n",
        "\n",
        "(Gnaw Hint: check if the number is mirrored)"
      ],
      "metadata": {
        "id": "lynefuFdaGj-"
      }
    },
    {
      "cell_type": "code",
      "source": [
        "import numpy as np"
      ],
      "metadata": {
        "id": "7nTr4RrudgZJ"
      },
      "execution_count": null,
      "outputs": []
    },
    {
      "cell_type": "code",
      "source": [
        "input = 33466\n",
        "\n",
        "# check if input is palindrome\n",
        "\n",
        "input = str(input)\n",
        "print(input)"
      ],
      "metadata": {
        "colab": {
          "base_uri": "https://localhost:8080/"
        },
        "id": "8ZMK0oMBckh0",
        "outputId": "4b225165-575c-48ff-d2b5-d120190aec19"
      },
      "execution_count": null,
      "outputs": [
        {
          "output_type": "stream",
          "name": "stdout",
          "text": [
            "33466\n"
          ]
        }
      ]
    },
    {
      "cell_type": "code",
      "execution_count": null,
      "metadata": {
        "colab": {
          "base_uri": "https://localhost:8080/",
          "height": 35
        },
        "id": "TrOSuLUNZ87r",
        "outputId": "8864376e-a8bc-4da3-e523-45828d20afb3"
      },
      "outputs": [
        {
          "output_type": "execute_result",
          "data": {
            "application/vnd.google.colaboratory.intrinsic+json": {
              "type": "string"
            },
            "text/plain": [
              "'433'"
            ]
          },
          "metadata": {},
          "execution_count": 127
        }
      ],
      "source": [
        "# reverse a string from index 2\n",
        "input[2::-1]"
      ]
    },
    {
      "cell_type": "code",
      "source": [
        "rev = input[::-1]\n",
        "print(rev)\n",
        "print(rev==input)"
      ],
      "metadata": {
        "colab": {
          "base_uri": "https://localhost:8080/"
        },
        "id": "tuWGQcpWhUHB",
        "outputId": "ea2a97c1-3fc3-4a98-abbf-eb714237959c"
      },
      "execution_count": null,
      "outputs": [
        {
          "output_type": "stream",
          "name": "stdout",
          "text": [
            "66433\n",
            "False\n"
          ]
        }
      ]
    },
    {
      "cell_type": "code",
      "source": [
        "def isPalindrome(num: int):\n",
        "  # convert int to string\n",
        "  num = str(num)\n",
        "  \n",
        "  # create a reverse string\n",
        "  rev_num = str(num)[::-1]\n",
        "  \n",
        "  return num == rev_num\n",
        "\n",
        "isPalindrome(665575566)"
      ],
      "metadata": {
        "colab": {
          "base_uri": "https://localhost:8080/"
        },
        "id": "GWRPUwaVdwYB",
        "outputId": "452c5dea-608a-4678-b18b-24472a369f05"
      },
      "execution_count": null,
      "outputs": [
        {
          "output_type": "execute_result",
          "data": {
            "text/plain": [
              "False"
            ]
          },
          "metadata": {},
          "execution_count": 70
        }
      ]
    },
    {
      "cell_type": "markdown",
      "source": [
        "## Solution 2: slicing\n",
        "\n",
        "1. Find median index to divide array into two parts equally\n",
        "2. Slicing to check first and the later half of the array"
      ],
      "metadata": {
        "id": "6ZoJ6Nxc_2I5"
      }
    },
    {
      "cell_type": "code",
      "source": [
        "x = 12321\n",
        "\n",
        "x = str(x)\n",
        "\n",
        "# num of elements for each half\n",
        "# len(x)//2 \n",
        "\n",
        "# odd\n",
        "if len(x)%2 != 0:\n",
        "  # first half == later half\n",
        "  print(x[0:len(x)//2] == x[len(x)//2+1:][::-1])\n",
        "# even\n",
        "else:\n",
        "  print(x[0:len(x)//2] == x[len(x)//2:][::-1])"
      ],
      "metadata": {
        "id": "dIi_HHBfnsPk",
        "colab": {
          "base_uri": "https://localhost:8080/"
        },
        "outputId": "4f67db44-e6ba-4d83-8e22-c7160187e39d"
      },
      "execution_count": null,
      "outputs": [
        {
          "output_type": "stream",
          "name": "stdout",
          "text": [
            "True\n"
          ]
        }
      ]
    },
    {
      "cell_type": "code",
      "source": [
        ""
      ],
      "metadata": {
        "id": "ieFa1WmHKwPf"
      },
      "execution_count": null,
      "outputs": []
    }
  ]
}