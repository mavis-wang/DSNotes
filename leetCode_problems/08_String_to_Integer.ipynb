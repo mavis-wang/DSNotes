{
  "nbformat": 4,
  "nbformat_minor": 0,
  "metadata": {
    "colab": {
      "name": "08 String to Integer.ipynb",
      "provenance": [],
      "collapsed_sections": [],
      "authorship_tag": "ABX9TyOgdtVuUVwVzwkdGsLPexOR"
    },
    "kernelspec": {
      "name": "python3",
      "display_name": "Python 3"
    },
    "language_info": {
      "name": "python"
    }
  },
  "cells": [
    {
      "cell_type": "markdown",
      "source": [
        "# [08 String to Integer](https://leetcode.com/problems/string-to-integer-atoi/)\n",
        "Implement the myAtoi(string s) function, which converts a string to a 32-bit signed integer (similar to C/C++'s atoi function).\n",
        "\n",
        "The algorithm for myAtoi(string s) is as follows:\n",
        "\n",
        "1.   Read in and ignore any leading whitespace.\n",
        "2.   Check if the next character (if not already at the end of the string) is '-' or '+'. Read this character in if it is either. This determines if the final result is negative or positive respectively. Assume the result is positive if neither is present.\n",
        "3.  Read in next the characters until the next non-digit character or the end of the input is reached. The rest of the string is ignored.\n",
        "4. Convert these digits into an integer (i.e. \"123\" -> 123, \"0032\" -> 32). If no digits were read, then the integer is 0. Change the sign as necessary (from step 2).\n",
        "\n",
        "5. If the integer is out of the 32-bit signed integer range [-231, 231 - 1], then clamp the integer so that it remains in the range. Specifically, integers less than -231 should be clamped to -231, and integers greater than 231 - 1 should be clamped to 231 - 1.\n",
        "\n",
        "6. Return the integer as the final result.\n",
        "\n",
        "**Note:**\n",
        "Only the space character ' ' is considered a whitespace character.\n",
        "Do not ignore any characters other than the leading whitespace or the rest of the string after the digits."
      ],
      "metadata": {
        "id": "gWCzOFBdrEmY"
      }
    },
    {
      "cell_type": "code",
      "execution_count": null,
      "metadata": {
        "colab": {
          "base_uri": "https://localhost:8080/"
        },
        "id": "npDOAbcObCnX",
        "outputId": "c52ff96e-636b-471c-97c0-162b279d295d"
      },
      "outputs": [
        {
          "output_type": "stream",
          "name": "stdout",
          "text": [
            "123\n"
          ]
        }
      ],
      "source": [
        "# convert string into int\n",
        "a = \"00123\"\n",
        "a = int(a)\n",
        "print(a)"
      ]
    },
    {
      "cell_type": "code",
      "source": [
        "# regex\n",
        "import re\n",
        "s = \"words and 987\"\n",
        "\n",
        "# remove white space\n",
        "s = s.replace(\" \", \"\")\n",
        "print(s)\n",
        "\n",
        "# return first conti. digit with or without - sign\n",
        "# convert to int\n",
        "digit = int(re.findall(r\"[-\\d][\\d]+\", s)[0])\n",
        "digit\n",
        "\n",
        "# check constraints"
      ],
      "metadata": {
        "colab": {
          "base_uri": "https://localhost:8080/"
        },
        "id": "09md4KRodkse",
        "outputId": "dacbebfd-72ff-4448-c949-92b73f929026"
      },
      "execution_count": null,
      "outputs": [
        {
          "output_type": "stream",
          "name": "stdout",
          "text": [
            "wordsand987\n"
          ]
        },
        {
          "output_type": "execute_result",
          "data": {
            "text/plain": [
              "987"
            ]
          },
          "metadata": {},
          "execution_count": 98
        }
      ]
    },
    {
      "cell_type": "markdown",
      "source": [
        "## Solution"
      ],
      "metadata": {
        "id": "GLPxaW0ZDK4l"
      }
    },
    {
      "cell_type": "code",
      "source": [
        "def myAtoi(s: str) -> int:\n",
        "    \n",
        "    s = s.replace(\" \", \"\")\n",
        "    digit = int(re.findall(r\"[-\\d]\\d+\", s)[0])\n",
        "    \n",
        "    if digit < -2**31:\n",
        "        return -2**31\n",
        "    \n",
        "    elif digit > 2**31-1:\n",
        "        return 2**31-1   \n",
        "    else:\n",
        "        return digit\n",
        "\n",
        "myAtoi(\"words and 987\")"
      ],
      "metadata": {
        "colab": {
          "base_uri": "https://localhost:8080/"
        },
        "id": "HdcHGb9wrJek",
        "outputId": "e3c405a9-2282-4e0e-8c7f-79c9ee8f09e9"
      },
      "execution_count": null,
      "outputs": [
        {
          "output_type": "execute_result",
          "data": {
            "text/plain": [
              "987"
            ]
          },
          "metadata": {},
          "execution_count": 100
        }
      ]
    },
    {
      "cell_type": "code",
      "source": [
        ""
      ],
      "metadata": {
        "id": "f7cRzzw_Bx1j"
      },
      "execution_count": null,
      "outputs": []
    }
  ]
}