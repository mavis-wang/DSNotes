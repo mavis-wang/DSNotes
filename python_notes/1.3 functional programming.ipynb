{
 "cells": [
  {
   "cell_type": "markdown",
   "metadata": {},
   "source": [
    "### ?"
   ]
  },
  {
   "cell_type": "markdown",
   "metadata": {},
   "source": [
    " ## Functional Programming\n",
    "* Functional Programming\n",
    "    * a paradigm of writing code that treats computation as the evaluation of mathematical\n",
    "functions\n",
    "    * based on Lambda calculus in 1930’s\n",
    "    * no changing state and mutable data\n",
    "    * decompose the problem into functions\n",
    "    * doesn’t support iteration like loop statements and conditional statements\n",
    "* Suitable applications:\n",
    "    * mathematical computations\n",
    "    * concurrency or parallel processing\n",
    "\n",
    "\n",
    "1. Iterators & Generators\n",
    "2. Map & Filter\n",
    "3. Lambdas\n",
    "4. Decorators (maybe later)"
   ]
  },
  {
   "cell_type": "markdown",
   "metadata": {},
   "source": [
    "### [Iterable & Iterators](https://www.geeksforgeeks.org/python-difference-iterable-iterator/)\n",
    "\n",
    "* iterables: list, tuple, set... ==> call iter() to conver to iterator type\n",
    "* iterator: to traverse an iterable object => call next(iterator) function\n",
    "* iter(iterable) ==> iterator"
   ]
  },
  {
   "cell_type": "code",
   "execution_count": 138,
   "metadata": {
    "scrolled": true
   },
   "outputs": [
    {
     "name": "stdout",
     "output_type": "stream",
     "text": [
      "San Jose\n",
      "Redwood City\n",
      "Sunnyvale\n"
     ]
    }
   ],
   "source": [
    "# iterable has iter() method\n",
    "\n",
    "cities = [\"San Jose\", \"Redwood City\", \"Sunnyvale\"]\n",
    "\n",
    "for city in iter(cities): \n",
    "    print(city)\n"
   ]
  },
  {
   "cell_type": "code",
   "execution_count": 139,
   "metadata": {},
   "outputs": [
    {
     "name": "stdout",
     "output_type": "stream",
     "text": [
      "San Jose\n",
      "Redwood City\n",
      "Sunnyvale\n"
     ]
    }
   ],
   "source": [
    "# ex. list\n",
    "# iter() can be skipped\n",
    "\n",
    "cities = iter([\"San Jose\", \"Redwood City\", \"Sunnyvale\"])\n",
    "\n",
    "for city in cities: \n",
    "    print(city)"
   ]
  },
  {
   "cell_type": "code",
   "execution_count": 1,
   "metadata": {},
   "outputs": [
    {
     "name": "stdout",
     "output_type": "stream",
     "text": [
      "False\n",
      "<list_iterator object at 0x10e103ed0>\n",
      "['San Jose', 'Redwood City', 'Sunnyvale']\n",
      "\n",
      "San Jose\n",
      "Redwood City\n",
      "Sunnyvale\n",
      "\n",
      "San Jose\n",
      "Redwood City\n",
      "Sunnyvale\n",
      "\n",
      "['San Jose', 'Redwood City', 'Sunnyvale']\n"
     ]
    }
   ],
   "source": [
    "city1 = iter([\"San Jose\", \"Redwood City\", \"Sunnyvale\"])\n",
    "city2 = [\"San Jose\", \"Redwood City\", \"Sunnyvale\"]\n",
    "\n",
    "print(city1 == city2)\n",
    "print(city1)\n",
    "print(city2)\n",
    "\n",
    "print()\n",
    "\n",
    "# access values in a itorator\n",
    "for i in city1:\n",
    "    print(i)\n",
    "    \n",
    "print()\n",
    "\n",
    "# access values in a itorator\n",
    "for j in city2:\n",
    "    print(j)\n",
    "    \n",
    "print()\n",
    "\n",
    "print(city2[0:])"
   ]
  },
  {
   "cell_type": "code",
   "execution_count": 4,
   "metadata": {
    "scrolled": true
   },
   "outputs": [
    {
     "name": "stdout",
     "output_type": "stream",
     "text": [
      "C++\n",
      "Java\n",
      "Python\n"
     ]
    }
   ],
   "source": [
    "# tuple\n",
    "for lang in (\"C++\", \"Java\", \"Python\"): \n",
    "    print(lang)"
   ]
  },
  {
   "cell_type": "code",
   "execution_count": 5,
   "metadata": {},
   "outputs": [
    {
     "name": "stdout",
     "output_type": "stream",
     "text": [
      "I t e r a t i o n   i s   e a s y "
     ]
    }
   ],
   "source": [
    "# string\n",
    "for char in \"Iteration is easy\": \n",
    "    print(char, end=\" \")"
   ]
  },
  {
   "cell_type": "code",
   "execution_count": 19,
   "metadata": {
    "scrolled": false
   },
   "outputs": [
    {
     "name": "stdout",
     "output_type": "stream",
     "text": [
      "San Jose\n",
      "Redwood City\n",
      "Sunnyvale\n"
     ]
    },
    {
     "ename": "StopIteration",
     "evalue": "",
     "output_type": "error",
     "traceback": [
      "\u001b[0;31m---------------------------------------------------------------------------\u001b[0m",
      "\u001b[0;31mStopIteration\u001b[0m                             Traceback (most recent call last)",
      "\u001b[0;32m<ipython-input-19-4140e4399cd5>\u001b[0m in \u001b[0;36m<module>\u001b[0;34m\u001b[0m\n\u001b[1;32m     10\u001b[0m \u001b[0mprint\u001b[0m\u001b[0;34m(\u001b[0m\u001b[0mnext\u001b[0m\u001b[0;34m(\u001b[0m\u001b[0miterator_obj\u001b[0m\u001b[0;34m)\u001b[0m\u001b[0;34m)\u001b[0m\u001b[0;34m\u001b[0m\u001b[0;34m\u001b[0m\u001b[0m\n\u001b[1;32m     11\u001b[0m \u001b[0mprint\u001b[0m\u001b[0;34m(\u001b[0m\u001b[0mnext\u001b[0m\u001b[0;34m(\u001b[0m\u001b[0miterator_obj\u001b[0m\u001b[0;34m)\u001b[0m\u001b[0;34m)\u001b[0m\u001b[0;34m\u001b[0m\u001b[0;34m\u001b[0m\u001b[0m\n\u001b[0;32m---> 12\u001b[0;31m \u001b[0mprint\u001b[0m\u001b[0;34m(\u001b[0m\u001b[0mnext\u001b[0m\u001b[0;34m(\u001b[0m\u001b[0miterator_obj\u001b[0m\u001b[0;34m)\u001b[0m\u001b[0;34m)\u001b[0m\u001b[0;34m\u001b[0m\u001b[0;34m\u001b[0m\u001b[0m\n\u001b[0m",
      "\u001b[0;31mStopIteration\u001b[0m: "
     ]
    }
   ],
   "source": [
    "# generator == iter(iterable)\n",
    "\n",
    "# list of cities\n",
    "cities = [\"San Jose\", \"Redwood City\", \"Sunnyvale\"] \n",
    "\n",
    "# create an iterator over cities\n",
    "iterator_obj = iter(cities)\n",
    "\n",
    "print(next(iterator_obj)) \n",
    "print(next(iterator_obj)) \n",
    "print(next(iterator_obj))\n",
    "print(next(iterator_obj))"
   ]
  },
  {
   "cell_type": "code",
   "execution_count": 72,
   "metadata": {},
   "outputs": [
    {
     "name": "stdout",
     "output_type": "stream",
     "text": [
      "<list_iterator object at 0x1113042d0>\n",
      "<class 'list_iterator'>\n",
      "['San Jose', 'Redwood City', 'Sunnyvale']\n"
     ]
    }
   ],
   "source": [
    "cities = [\"San Jose\", \"Redwood City\", \"Sunnyvale\"] \n",
    "a = iter(cities) # conver to iter type\n",
    "\n",
    "print(a)\n",
    "print(type(a))\n",
    "\n",
    "# convert iterator to list type\n",
    "print(list(a))\n",
    "\n",
    "# print(next(a))\n",
    "# print(next(a))\n",
    "\n",
    "# # traverse an iterator\n",
    "# for i in a:\n",
    "#     print(i)\n",
    "\n"
   ]
  },
  {
   "cell_type": "markdown",
   "metadata": {},
   "source": [
    "### Generators\n",
    "* “Resumable <b>functions</b>”: functions that can be paused and resumed on the fly\n",
    "* return an <b>iterator</b> that will generate a stream of values\n",
    "* local variables and their states are remembered between successive calls\n",
    "* In Python, the keyword <b>yield</b> tells the interpreter to treat the function as a generator\n",
    "* use next(generator) function to iterate\n",
    "\n",
    "#### Why use iterators & generators\n",
    "* Data computed as needed (lazy evaluation)\n",
    "    * reduce memory usage\n",
    "    * represent streams of data\n",
    "* Good for network or web access"
   ]
  },
  {
   "cell_type": "code",
   "execution_count": 45,
   "metadata": {},
   "outputs": [
    {
     "name": "stdout",
     "output_type": "stream",
     "text": [
      "<class 'generator'>\n",
      "0\n",
      "1\n",
      "2\n"
     ]
    }
   ],
   "source": [
    "# a simple generator\n",
    "def generate_ints(n):\n",
    "    for i in range(n):\n",
    "        yield i     # <<  makes this function a generator\n",
    "\n",
    "# doesn't start the function!\n",
    "g = generate_ints(3) \n",
    "print(type(g))\n",
    "\n",
    "print(next(g)) \n",
    "print(next(g)) \n",
    "print(next(g)) \n",
    "# next(g) #--> StopIteration: \n"
   ]
  },
  {
   "cell_type": "code",
   "execution_count": 46,
   "metadata": {},
   "outputs": [],
   "source": [
    "for i in g:\n",
    "    print(i)"
   ]
  },
  {
   "cell_type": "markdown",
   "metadata": {},
   "source": [
    "### Generator Expression\n",
    "* similar to list comprehension. but with ()"
   ]
  },
  {
   "cell_type": "code",
   "execution_count": 116,
   "metadata": {
    "scrolled": true
   },
   "outputs": [
    {
     "name": "stdout",
     "output_type": "stream",
     "text": [
      "[0, 1, 4, 9, 16, 25, 36, 49, 64, 81]\n"
     ]
    }
   ],
   "source": [
    "# list out [0, 1, 4, 9, 16, 25, 36, 49, 64, 81]\n",
    "\n",
    "# List Comprehension:\n",
    "LC1 = [ i*i for i in range(10) ] \n",
    "print(LC1) #>> [0, 1, 4, 9, 16, 25, 36, 49, 64, 81]"
   ]
  },
  {
   "cell_type": "code",
   "execution_count": 115,
   "metadata": {},
   "outputs": [
    {
     "name": "stdout",
     "output_type": "stream",
     "text": [
      "<class 'list'>\n",
      "[0, 4, 16]\n"
     ]
    }
   ],
   "source": [
    "print(type(LC1))\n",
    "print(LC1[0:5:2])"
   ]
  },
  {
   "cell_type": "code",
   "execution_count": 117,
   "metadata": {},
   "outputs": [
    {
     "name": "stdout",
     "output_type": "stream",
     "text": [
      "<generator object <genexpr> at 0x11120a6d0>\n",
      "0\n",
      "1\n",
      "4\n",
      "9\n",
      "16\n",
      "25\n",
      "36\n",
      "49\n",
      "64\n",
      "81\n"
     ]
    }
   ],
   "source": [
    "# generator\n",
    "GT = (i*i for i in range(10))\n",
    "print(GT)\n",
    "\n",
    "# access values in a generator method #1\n",
    "# StopIteration error will occur when out of scope\n",
    "print(next(GT))\n",
    "\n",
    "# access values in a generator method #2\n",
    "for j in GT:\n",
    "    print(j)"
   ]
  },
  {
   "cell_type": "code",
   "execution_count": 58,
   "metadata": {},
   "outputs": [
    {
     "name": "stdout",
     "output_type": "stream",
     "text": [
      "apple\n",
      "orange\n"
     ]
    }
   ],
   "source": [
    "fruit = ['apple','orange', 'banana', 'mango']\n",
    "\n",
    "# for index in range(0, len(fruit), 2):\n",
    "#     print(fruit[index])\n",
    "   \n",
    "for index in range(0, 2):\n",
    "    print(fruit[index])\n"
   ]
  },
  {
   "cell_type": "code",
   "execution_count": 59,
   "metadata": {},
   "outputs": [
    {
     "name": "stdout",
     "output_type": "stream",
     "text": [
      "4\n",
      "5\n",
      "6\n"
     ]
    }
   ],
   "source": [
    "# print index 3 - index 5 value\n",
    "rank = [1,2,3,4,5,6,7] \n",
    "\n",
    "for i in range(3,6):\n",
    "    print(rank[i])"
   ]
  },
  {
   "cell_type": "markdown",
   "metadata": {},
   "source": [
    "### Map Function (skip for loop)\n",
    "* applies a function to all the items in an input (an iterable)\n",
    "* map(function, iterable)\n",
    "* return a map object (an iterable)"
   ]
  },
  {
   "cell_type": "code",
   "execution_count": null,
   "metadata": {},
   "outputs": [],
   "source": [
    "# Ex. list string length of the city name\n",
    "\n",
    "cities = [\"San Jose\", \"Redwood City\", \"Sunnyvale\"]\n",
    "\n",
    "# list comprehension => type = list\n",
    "[len(s) for s in cities] # [8, 12, 9]\n",
    "\n",
    "# map examples ==> map obj\n",
    "map(len, cities) # map object <8, 12, 9>"
   ]
  },
  {
   "cell_type": "code",
   "execution_count": 60,
   "metadata": {},
   "outputs": [
    {
     "name": "stdout",
     "output_type": "stream",
     "text": [
      "[2, 4, 6, 8, 10, 12]\n",
      "[2, 4, 6, 8, 10, 12]\n",
      "[2, 4, 6, 8, 10, 12]\n",
      "[2, 4, 6, 8, 10, 12]\n"
     ]
    }
   ],
   "source": [
    "# print out [2, 4, 6, 8, 10, 12]\n",
    "\n",
    "numbers = [1, 2, 3, 4, 5, 6] \n",
    "\n",
    "# map function # skip for loop iteration\n",
    "def double(num):\n",
    "    return num*2\n",
    "\n",
    "# list comprehension\n",
    "doubleLC = [i*2 for i in numbers]\n",
    "print(doubleLC)\n",
    "\n",
    "# list comprehension with map function f(x)\n",
    "doubleLC2 = [double(n) for n in numbers]\n",
    "print(doubleLC2)\n",
    "\n",
    "# map\n",
    "mapNum = map(double, numbers)\n",
    "print(list(mapNum))\n",
    "\n",
    "mapNum2 = map(lambda x: x*2, numbers)\n",
    "print(list(mapNum2))\n"
   ]
  },
  {
   "cell_type": "code",
   "execution_count": 152,
   "metadata": {},
   "outputs": [],
   "source": [
    "# write a function f(x) = x*2\n",
    "# to return a result [2, 4, 6, 8, 10, 12]\n",
    "\n",
    "numbers = [1, 2, 3, 4, 5, 6] \n",
    "\n",
    "def double(x):\n",
    "    return x * 2"
   ]
  },
  {
   "cell_type": "code",
   "execution_count": 155,
   "metadata": {},
   "outputs": [
    {
     "name": "stdout",
     "output_type": "stream",
     "text": [
      "[2, 4, 6, 8, 10, 12]\n"
     ]
    }
   ],
   "source": [
    "# 1. use map to return the result\n",
    "\n",
    "result = map(double, numbers) # iterate elements in numbers iterable\n",
    "print(list(result))"
   ]
  },
  {
   "cell_type": "code",
   "execution_count": 156,
   "metadata": {},
   "outputs": [
    {
     "name": "stdout",
     "output_type": "stream",
     "text": [
      "[2, 4, 6, 8, 10, 12]\n"
     ]
    }
   ],
   "source": [
    "# 2. use list comprehension\n",
    "\n",
    "result1 = [double(x) for x in numbers] #. double(x)   \n",
    "print(result1)"
   ]
  },
  {
   "cell_type": "code",
   "execution_count": 224,
   "metadata": {},
   "outputs": [
    {
     "name": "stdout",
     "output_type": "stream",
     "text": [
      "[1, 2, 3, 4, 5, 6, 1, 2, 3, 4, 5, 6]\n",
      "[2, 4, 6, 8, 10, 12]\n",
      "[2, 4, 6, 8, 10, 12]\n",
      "[2, 4, 6, 8, 10, 12]\n",
      "[2, 4, 6, 8, 10, 12]\n",
      "[2, 4, 6, 8, 10, 12]\n"
     ]
    }
   ],
   "source": [
    "# summary\n",
    "\n",
    "numbers = [1, 2, 3, 4, 5, 6] \n",
    "\n",
    "def double(x):\n",
    "    return x * 2\n",
    "\n",
    "print(double(numbers)) #. regular function call\n",
    "\n",
    "print(list(map(double, numbers))) #.    map fucntion call ==> iterate the element\n",
    "print([x*2 for x in numbers]) #. list comprehensio w/o calling function\n",
    "print([double(x) for x in numbers]) #. list comprehension with a map function\n",
    "\n",
    "# using lamda to replace function\n",
    "print([(lambda x: x *2)(num) for num in numbers])\n",
    "print(list(map(lambda x: x * 2, numbers)))"
   ]
  },
  {
   "cell_type": "markdown",
   "metadata": {},
   "source": [
    "### Filter\n",
    "* Filters out items from an input based on a predicate (a function)\n",
    "* filter(predicate, iterable) -> filter object (an iterable)\n",
    "* return a condition == True"
   ]
  },
  {
   "cell_type": "code",
   "execution_count": 228,
   "metadata": {},
   "outputs": [
    {
     "name": "stdout",
     "output_type": "stream",
     "text": [
      "[1, 2, 3]\n"
     ]
    }
   ],
   "source": [
    "numbers = [1, 2, 3, 4, 5, 6]\n",
    "\n",
    "# filter function\n",
    "# def less_than_4(num):\n",
    "#     if num < 4:\n",
    "#         return num\n",
    "\n",
    "def less_than_four(x):\n",
    "    return x < 4\n",
    "\n",
    "filterNum = filter(less_than_4, numbers)\n",
    "print(list(filterNum)) # >>[1, 2, 3]"
   ]
  },
  {
   "cell_type": "code",
   "execution_count": 230,
   "metadata": {},
   "outputs": [
    {
     "name": "stdout",
     "output_type": "stream",
     "text": [
      "[1, 2, 3]\n",
      "[1, 2, 3]\n",
      "[1, 2, 3]\n",
      "[True, True, True, False, False, False]\n"
     ]
    }
   ],
   "source": [
    "# list comprehension with filter function\n",
    "filterLS = [n for n in numbers if less_than_4(n)]\n",
    "print(filterLS)\n",
    "\n",
    "filterLambdaLS = [n for n in numbers if (lambda x: x < 4)(n)]\n",
    "print(filterLambdaLS)\n",
    "\n",
    "# lambda filter\n",
    "filterLambdaLS2 = filter(lambda n: n<4, numbers)\n",
    "\n",
    "# print(filterLambdaLS2)\n",
    "print(list(filterLambdaLS2))\n"
   ]
  },
  {
   "cell_type": "code",
   "execution_count": 231,
   "metadata": {},
   "outputs": [
    {
     "name": "stdout",
     "output_type": "stream",
     "text": [
      "[True, True, True, False, False, False]\n"
     ]
    }
   ],
   "source": [
    "filterLambdaLS2 = [(lambda x: x<4)(n) for n in numbers]\n",
    "print(filterLambdaLS2)"
   ]
  },
  {
   "cell_type": "markdown",
   "metadata": {},
   "source": [
    "### Lambdas function\n",
    "\n",
    "* inline/anonymous function that contains a single expression \n",
    "* can be on-the-fly\n",
    "* can be named or unnamed\n",
    "\n",
    "### lambda x: f(x)\n"
   ]
  },
  {
   "cell_type": "code",
   "execution_count": 319,
   "metadata": {},
   "outputs": [
    {
     "name": "stdout",
     "output_type": "stream",
     "text": [
      "Hello\n",
      "Hello\n",
      "<function <lambda> at 0x1112f4320>\n"
     ]
    },
    {
     "data": {
      "text/plain": [
       "7"
      ]
     },
     "execution_count": 319,
     "metadata": {},
     "output_type": "execute_result"
    }
   ],
   "source": [
    "# lambda\n",
    "def greeting():\n",
    "    return \"Hello\"\n",
    "\n",
    "x = greeting()\n",
    "print(x)\n",
    "\n",
    "# equals to \n",
    "greeting = lambda : \"Hello\"\n",
    "print(greeting())\n",
    "# print(greeting)\n",
    "\n",
    "# execute a lambda function\n",
    "a = lambda x: x+5\n",
    "print(a)\n",
    "print(a(2))"
   ]
  },
  {
   "cell_type": "markdown",
   "metadata": {},
   "source": [
    "#### Execute a lambda function\n",
    "\n",
    "lambda_function_name(parameter(s))"
   ]
  },
  {
   "cell_type": "code",
   "execution_count": 256,
   "metadata": {
    "collapsed": true
   },
   "outputs": [
    {
     "name": "stdout",
     "output_type": "stream",
     "text": [
      "4\n",
      "4\n"
     ]
    }
   ],
   "source": [
    "# ex1. Translate the function into lambda function:\n",
    "\n",
    "def double(x):\n",
    "    return x * 2\n",
    "print(double(2))\n",
    "\n",
    "# equals to:\n",
    "double = lambda x: x*2\n",
    "print(double(2))"
   ]
  },
  {
   "cell_type": "code",
   "execution_count": 257,
   "metadata": {
    "collapsed": true
   },
   "outputs": [
    {
     "name": "stdout",
     "output_type": "stream",
     "text": [
      "5\n",
      "5\n"
     ]
    }
   ],
   "source": [
    "#  ex2. Translate the lambda function into a name function:\n",
    "\n",
    "y = lambda a, b: a + b\n",
    "print(y(2,3))\n",
    "\n",
    "# equals to:\n",
    "def y(a,b):\n",
    "    return a+b\n",
    "\n",
    "print(y(2,3))"
   ]
  },
  {
   "cell_type": "code",
   "execution_count": 201,
   "metadata": {
    "collapsed": true
   },
   "outputs": [
    {
     "name": "stdout",
     "output_type": "stream",
     "text": [
      "16\n",
      "7\n"
     ]
    }
   ],
   "source": [
    "# lambdas = f(x, y, ...)\n",
    "\n",
    "x = lambda a: a + 10\n",
    "print(x(6))\n",
    "\n",
    "y = lambda a,b: a+b\n",
    "print(y(2,5))"
   ]
  },
  {
   "cell_type": "code",
   "execution_count": 272,
   "metadata": {
    "collapsed": true
   },
   "outputs": [
    {
     "name": "stdout",
     "output_type": "stream",
     "text": [
      "15\n",
      "15\n"
     ]
    }
   ],
   "source": [
    "# lambdas\n",
    "# use them as an anonymous function inside another function.\n",
    "\n",
    "def myfunc(n):\n",
    "  return lambda a,b : a + b * n\n",
    "\n",
    "mydoubler = myfunc(2)\n",
    "print(mydoubler(11,2))\n",
    "\n",
    "# same as below:\n",
    "print(myfunc(2)(11,2))"
   ]
  },
  {
   "cell_type": "code",
   "execution_count": 17,
   "metadata": {
    "collapsed": true
   },
   "outputs": [
    {
     "name": "stdout",
     "output_type": "stream",
     "text": [
      "22\n",
      "33\n"
     ]
    }
   ],
   "source": [
    "# lambda\n",
    "# Or, use the same function definition to make both functions, in the same program:\n",
    "\n",
    "def myfunc(n):\n",
    "  return lambda a : a * n\n",
    "\n",
    "mydoubler = myfunc(2)\n",
    "mytripler = myfunc(3)\n",
    "\n",
    "print(mydoubler(11)) \n",
    "print(mytripler(11))"
   ]
  },
  {
   "cell_type": "code",
   "execution_count": 309,
   "metadata": {
    "collapsed": true
   },
   "outputs": [
    {
     "name": "stdout",
     "output_type": "stream",
     "text": [
      "22\n",
      "22\n"
     ]
    }
   ],
   "source": [
    "# ex. relplace with lanmbda function\n",
    "\n",
    "def myfun2(a, n):\n",
    "    return a * n\n",
    "\n",
    "# result = myfun2(2,11)\n",
    "# print(result)\n",
    "\n",
    "# 1.\n",
    "def myfun3(n):\n",
    "    return lambda a: a*n\n",
    "print(myfun3(11)(2))\n",
    "\n",
    "# 2\n",
    "myfun2 = lambda a, n: a * n\n",
    "print(myfun2(2,11))"
   ]
  },
  {
   "cell_type": "code",
   "execution_count": 18,
   "metadata": {
    "scrolled": true
   },
   "outputs": [
    {
     "name": "stdout",
     "output_type": "stream",
     "text": [
      "[(1, 'San Francisco'), (2, 'New York'), (3, 'Chicago'), (4, 'Los Angeles')]\n",
      "[(3, 'Chicago'), (4, 'Los Angeles'), (2, 'New York'), (1, 'San Francisco')]\n"
     ]
    }
   ],
   "source": [
    "# ############################\n",
    "# \n",
    "# lambda example - sort dictionary items\n",
    "# \n",
    "\n",
    "d = {1:\"San Francisco\", 2:\"New York\", 3:\"Chicago\", 4:\"Los Angeles\"}\n",
    "\n",
    "\n",
    "sortbykeys = sorted(d.items())\n",
    "print(sortbykeys)\n",
    "\n",
    "sortedbyValues = sorted(d.items(), key=lambda x: x[1])\n",
    "print(sortedbyValues)\n",
    "\n",
    "\n"
   ]
  },
  {
   "cell_type": "code",
   "execution_count": 19,
   "metadata": {
    "scrolled": true
   },
   "outputs": [
    {
     "name": "stdout",
     "output_type": "stream",
     "text": [
      "[18, 24, 32]\n",
      "18\n",
      "24\n",
      "32\n",
      "[18, 24, 32]\n"
     ]
    }
   ],
   "source": [
    "# filter vs. yield\n",
    "# Filter the array, and return a new array with only the values equal to or above 18:\n",
    "\n",
    "ages = [5, 12, 17, 18, 24, 32]\n",
    "\n",
    "# method 1\n",
    "\n",
    "def newAge(array):\n",
    "    for i in array:\n",
    "        if i >= 18:\n",
    "            yield i #--> wait here. 'return' will return the first value in the array.\n",
    "                  \n",
    "print(list(newAge(ages)))\n",
    "\n",
    "# method 2\n",
    "for x in newAge(ages):\n",
    "    print(x)\n",
    "\n",
    "# method 3: list comprehension\n",
    "newLC = [i for i in ages if i >= 18]\n",
    "print(newLC)\n"
   ]
  },
  {
   "cell_type": "code",
   "execution_count": 20,
   "metadata": {
    "scrolled": false
   },
   "outputs": [
    {
     "name": "stdout",
     "output_type": "stream",
     "text": [
      "<class 'filter'>\n",
      "[18, 24, 32]\n"
     ]
    }
   ],
   "source": [
    "# filter -- continue \n",
    "# filter(function, iterable)\n",
    "\n",
    "# method 4\n",
    "\n",
    "ages2 = [5, 12, 17, 18, 24, 32]\n",
    "\n",
    "def ageFilter(i):\n",
    "    if i >= 18:\n",
    "        return True\n",
    "    \n",
    "adult = filter(ageFilter, ages)\n",
    "print(type(adult))\n",
    "print(list(adult))\n"
   ]
  },
  {
   "cell_type": "markdown",
   "metadata": {},
   "source": [
    "### Generator, Map, Filter, List Comprehension"
   ]
  },
  {
   "cell_type": "code",
   "execution_count": 21,
   "metadata": {},
   "outputs": [
    {
     "name": "stdout",
     "output_type": "stream",
     "text": [
      "[1, 2, 3]\n",
      "1\n",
      "2\n",
      "3\n",
      "<map object at 0x109943a50> <1,2,3>\n",
      "[1, 2, 3, None, None, None, None]\n",
      "[1, 2, 3]\n",
      "[1, 2, 3]\n"
     ]
    }
   ],
   "source": [
    "##### \n",
    "# generator (yield):\n",
    "#     same as function but paused\n",
    "#     return an iterate object\n",
    "# \n",
    "# map, filter:\n",
    "#     can pass one or more iterables to a function\n",
    "#     skip 'for loop' in a function\n",
    "# \n",
    "# list comprehension:\n",
    "#       can only pass one iterable.\n",
    "#         no need to call function.\n",
    "# \n",
    "########\n",
    "\n",
    "# example: output = # less than 4\n",
    "\n",
    "mynumbers = [1, 2, 3, 4, 5, 6,7]\n",
    "\n",
    "# generator\n",
    "def myNum(x):\n",
    "    for i in mynumbers:\n",
    "        if i < 4:\n",
    "           yield i ## return an iterable\n",
    "        \n",
    "a = list(myNum(mynumbers))\n",
    "print(a)\n",
    "\n",
    "for j in myNum(mynumbers):\n",
    "    print(j)\n",
    "\n",
    "# map expression\n",
    "\n",
    "def mfun(n):\n",
    "#     print(n < 4) ## return booling\n",
    "# \n",
    "    if n < 4:\n",
    "        return(n) ## return a value \n",
    "\n",
    "myMap = map(mfun, mynumbers)\n",
    "print(f'{(myMap)} <1,2,3>')\n",
    "print(list(myMap)) # return the same # of iterators\n",
    "    \n",
    "\n",
    "# filter\n",
    "def myfilter(x):\n",
    "    if x < 4:\n",
    "        return True\n",
    "\n",
    "filtered = filter(myfilter, mynumbers)\n",
    "print(list(filtered))\n",
    "\n",
    "\n",
    "# list comprehension\n",
    "listcomp = [x for x in mynumbers if x < 4]\n",
    "print(listcomp)"
   ]
  },
  {
   "cell_type": "code",
   "execution_count": 22,
   "metadata": {},
   "outputs": [
    {
     "name": "stdout",
     "output_type": "stream",
     "text": [
      "[2, 4, 6, 8, 10, 12]\n"
     ]
    }
   ],
   "source": [
    "# output = [2,4,6,8,10,12]\n",
    "numbers = [1,2,3,4,5,6]\n",
    "numbers2 = [2,2,2,2,2,2]\n",
    "\n",
    "# function\n",
    "alist = []\n",
    "def mulNum(numbers):\n",
    "    for i in numbers:\n",
    "        alist.append(i*2)\n",
    "    \n",
    "mulNum(numbers)\n",
    "print(alist)\n"
   ]
  },
  {
   "cell_type": "code",
   "execution_count": 23,
   "metadata": {},
   "outputs": [
    {
     "name": "stdout",
     "output_type": "stream",
     "text": [
      "[2, 4, 6, 8, 10, 12]\n",
      "[2, 4, 6, 8, 10, 12]\n",
      "<map object at 0x10991bc90>\n",
      "[2, 4, 6, 8, 10, 12]\n"
     ]
    }
   ],
   "source": [
    "# list comprehension\n",
    "lc = [i*2 for i in numbers]\n",
    "print(lc)\n",
    "\n",
    "# lambda + list comprehension\n",
    "\n",
    "mylambdalc = [(lambda x: x*2)(n) for n in numbers]\n",
    "print(mylambdalc)\n",
    "\n",
    "# lambda + map\n",
    "mylambdaMap = map(lambda x: x*2, numbers)\n",
    "print(mylambdaMap)\n",
    "print(list(mylambdaMap))"
   ]
  },
  {
   "cell_type": "code",
   "execution_count": 32,
   "metadata": {},
   "outputs": [
    {
     "name": "stdout",
     "output_type": "stream",
     "text": [
      "[1, 2, 3]\n",
      "[1, 2, 3]\n",
      "[1, 2, 3]\n",
      "[1, 2, 3]\n"
     ]
    }
   ],
   "source": [
    "# list comprehensions with filter n < 4\n",
    "numbers = [1,2,3,4,5,6]\n",
    "\n",
    "filterLC = [i for i in numbers if i < 4]\n",
    "print(filterLC)\n",
    "\n",
    "# lambda + list comprehension\n",
    "filterLC2 = [(lambda x: x)(i) for i in numbers if i < 4]\n",
    "print(filterLC2)\n",
    "\n",
    "filterLC3 = [n for n in numbers if (lambda x: x < 4)(n)]\n",
    "print(filterLC3)\n",
    "\n",
    "# lambda + filter\n",
    "filtered = filter(lambda x: x<4, numbers)\n",
    "print(list(filtered))\n"
   ]
  },
  {
   "cell_type": "code",
   "execution_count": 2,
   "metadata": {},
   "outputs": [
    {
     "name": "stdout",
     "output_type": "stream",
     "text": [
      "/Users/maviswang/opt/anaconda3/bin/python\n"
     ]
    }
   ],
   "source": [
    "import sys\n",
    "print(sys.executable)"
   ]
  },
  {
   "cell_type": "code",
   "execution_count": null,
   "metadata": {},
   "outputs": [],
   "source": []
  }
 ],
 "metadata": {
  "kernelspec": {
   "display_name": "Python 3",
   "language": "python",
   "name": "python3"
  },
  "language_info": {
   "codemirror_mode": {
    "name": "ipython",
    "version": 3
   },
   "file_extension": ".py",
   "mimetype": "text/x-python",
   "name": "python",
   "nbconvert_exporter": "python",
   "pygments_lexer": "ipython3",
   "version": "3.7.4"
  }
 },
 "nbformat": 4,
 "nbformat_minor": 2
}
