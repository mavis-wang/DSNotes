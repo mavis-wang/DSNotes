{
 "cells": [
  {
   "cell_type": "markdown",
   "metadata": {},
   "source": [
    "## <a href=\"https://www.w3schools.com/python/python_sets.asp\">Set</a>\n",
    "Sets are collection of elements in Python\n",
    "* mutable\n",
    "* unordered\n",
    "* no index\n",
    "* distinct (eliminate duplicate entries)\n",
    "* very fast membership testing: O(1)\n",
    "* enclosed in { } and comma separated"
   ]
  },
  {
   "cell_type": "code",
   "execution_count": 25,
   "metadata": {},
   "outputs": [],
   "source": [
    "# Examples\n",
    "\n",
    "empty_dict = {} # <class 'dict'>\n",
    "d = {'a': 3, 'b':2}\n",
    "\n",
    "empty_set = set()\n",
    "empty_set = set(d)\n",
    "number_set = set([1, 3, 5, 7, 9, 3, 1, 8])\n",
    "mixed_set = set([1, 3.5, \"abc\"])\n",
    "fruit_set = set([ \"apple\", \"banana\", \"orange\", \"plum\", \"banana\"])\n"
   ]
  },
  {
   "cell_type": "code",
   "execution_count": 21,
   "metadata": {},
   "outputs": [
    {
     "name": "stdout",
     "output_type": "stream",
     "text": [
      "{'a': 3, 'b': 2}\n",
      "{1, 3, 5, 7, 8, 9}\n",
      "{1, 3.5, 'abc'}\n",
      "{'banana', 'orange', 'apple', 'plum'}\n"
     ]
    }
   ],
   "source": [
    "print(d)\n",
    "print(number_set)\n",
    "print(mixed_set) #. remove redundant values\n",
    "print(fruit_set)"
   ]
  },
  {
   "cell_type": "code",
   "execution_count": 24,
   "metadata": {},
   "outputs": [
    {
     "data": {
      "text/plain": [
       "{1, 3, 5, 7, 8, 9, 'apple', 'banana', 'orange', 'plum'}"
      ]
     },
     "execution_count": 24,
     "metadata": {},
     "output_type": "execute_result"
    }
   ],
   "source": [
    "number_set | fruit_set"
   ]
  },
  {
   "cell_type": "code",
   "execution_count": 22,
   "metadata": {},
   "outputs": [
    {
     "name": "stdout",
     "output_type": "stream",
     "text": [
      "{'a', 3, 'b'}\n"
     ]
    }
   ],
   "source": [
    "# distinct\n",
    "some_set = {'a','b', 3, 'b'}\n",
    "print(some_set) # {'b', 3, 'a'}"
   ]
  },
  {
   "cell_type": "code",
   "execution_count": 23,
   "metadata": {},
   "outputs": [
    {
     "name": "stdout",
     "output_type": "stream",
     "text": [
      "['a', '4', 3, 534, 4534, 'b', 'a', 'b']\n",
      "{'a', 3, 'b', 4534, 534, '4'}\n"
     ]
    }
   ],
   "source": [
    "lista = ['a','4',3,534,4534,'b','a','b']\n",
    "print(lista)\n",
    "\n",
    "setlista = set(lista)\n",
    "print(setlista)"
   ]
  },
  {
   "cell_type": "markdown",
   "metadata": {},
   "source": [
    "### Set Methods"
   ]
  },
  {
   "cell_type": "code",
   "execution_count": 153,
   "metadata": {},
   "outputs": [
    {
     "name": "stdout",
     "output_type": "stream",
     "text": [
      "{1, 2, 3, 'a'}\n",
      "{2, 3, 4}\n"
     ]
    }
   ],
   "source": [
    "aSet = set('hello')\n",
    "print(a)\n",
    "\n",
    "aList = list('hello')\n",
    "print(b)"
   ]
  },
  {
   "cell_type": "code",
   "execution_count": 156,
   "metadata": {},
   "outputs": [
    {
     "name": "stdout",
     "output_type": "stream",
     "text": [
      "{'l', 'o', 'e', 'h'}\n",
      "4\n"
     ]
    }
   ],
   "source": [
    "print(aSet)\n",
    "print(len(aSet))"
   ]
  },
  {
   "cell_type": "code",
   "execution_count": 78,
   "metadata": {},
   "outputs": [
    {
     "data": {
      "text/plain": [
       "'e'"
      ]
     },
     "execution_count": 78,
     "metadata": {},
     "output_type": "execute_result"
    }
   ],
   "source": [
    "aSet.add(5)\n",
    "aList.append(5)\n",
    "aList.extend([1,3, 'x'])\n",
    "\n",
    "# aSet.remove(2) # KeyError: 2\n",
    "aSet.discard(2)\n",
    "\n",
    "# aList.remove('l')\n",
    "\n",
    "aSet.pop() #random discard the last one\n",
    "aList.pop(0) # remove first index value\n",
    "\n"
   ]
  },
  {
   "cell_type": "code",
   "execution_count": null,
   "metadata": {},
   "outputs": [],
   "source": [
    "aSet.clear()\n",
    "aList.clear()"
   ]
  },
  {
   "cell_type": "code",
   "execution_count": 79,
   "metadata": {},
   "outputs": [
    {
     "name": "stdout",
     "output_type": "stream",
     "text": [
      "{'o', 'l', 'e'}\n",
      "['l', 'l', 'o', 5, 1, 3, 'x', 5, 1, 3, 'x']\n"
     ]
    }
   ],
   "source": [
    "print(aSet)\n",
    "print(aList)"
   ]
  },
  {
   "cell_type": "markdown",
   "metadata": {},
   "source": [
    "### Set Operations\n",
    "* to remove redundancy"
   ]
  },
  {
   "cell_type": "code",
   "execution_count": 88,
   "metadata": {
    "collapsed": true
   },
   "outputs": [
    {
     "name": "stdout",
     "output_type": "stream",
     "text": [
      "{'o', 'z', 'i'}\n",
      "{'s', 'i', 'o', 'z', 'a', 'k', 'r', 'n'}\n",
      "{'n', 'r', 'a'}\n"
     ]
    }
   ],
   "source": [
    "# VIP\n",
    "\n",
    "a = set(\"arizona\")\n",
    "b = set(\"arkansas\")\n",
    "\n",
    "print(a-b) # only keep <= a\n",
    "# print(a+b) # TypeError: unsupported operand type(s) for +: 'set' and 'set'\n",
    "\n",
    "print(a|b) #  union\n",
    "print(a & b) #intersaction\n"
   ]
  },
  {
   "cell_type": "code",
   "execution_count": 91,
   "metadata": {
    "collapsed": true
   },
   "outputs": [
    {
     "name": "stdout",
     "output_type": "stream",
     "text": [
      "['a', 'r', 'i', 'z', 'o', 'n', 'a', 'a', 'r', 'k', 'a', 'n', 's', 'a', 's']\n"
     ]
    }
   ],
   "source": [
    "c = list(\"arizona\")\n",
    "d = list(\"arkansas\")\n",
    "\n",
    "print(c+d)"
   ]
  },
  {
   "cell_type": "markdown",
   "metadata": {},
   "source": [
    "### [Python Operations](https://www.tutorialspoint.com/python/python_basic_operators.htm)"
   ]
  },
  {
   "cell_type": "markdown",
   "metadata": {},
   "source": [
    "### logical ==> true/false\n",
    "* (false and true) = False = 0\n",
    "* (true and ture) = True = 1\n",
    "* (false and false) = False = 0"
   ]
  },
  {
   "cell_type": "code",
   "execution_count": 109,
   "metadata": {},
   "outputs": [
    {
     "name": "stdout",
     "output_type": "stream",
     "text": [
      "==>> and\n",
      "0\n",
      "1\n",
      "0\n",
      "==> or\n",
      "1\n",
      "True\n",
      "==> numbers\n",
      "5\n",
      "6\n"
     ]
    }
   ],
   "source": [
    "# logical\n",
    "# 0 = False, 1 = True\n",
    "\n",
    "print('==>> and')\n",
    "print(0 and 1)\n",
    "print(1 and 1)\n",
    "print(0 and 0)\n",
    "\n",
    "print('==> or')\n",
    "print(0 or 1)\n",
    "print(not 0 or 1) # true or true ==> True/False\n",
    "\n",
    "print('==> numbers')\n",
    "print(5 or 6) #. either one is true, return the first true value\n",
    "print(5 and 6) #. both need to be true. return later one"
   ]
  },
  {
   "cell_type": "markdown",
   "metadata": {},
   "source": [
    "### Relational / Comparison ==> condition = true/false"
   ]
  },
  {
   "cell_type": "code",
   "execution_count": 107,
   "metadata": {
    "collapsed": true
   },
   "outputs": [
    {
     "name": "stdout",
     "output_type": "stream",
     "text": [
      "False\n",
      "True\n",
      "True\n",
      "False\n"
     ]
    }
   ],
   "source": [
    "a = 'x'\n",
    "b = 'y'\n",
    "\n",
    "c = 0\n",
    "d = 1\n",
    "print(a == b)\n",
    "print(a != b)\n",
    "\n",
    "print(d >= c)\n",
    "print(c > d)"
   ]
  },
  {
   "cell_type": "code",
   "execution_count": 108,
   "metadata": {},
   "outputs": [
    {
     "name": "stdout",
     "output_type": "stream",
     "text": [
      "True\n",
      "False\n",
      "0\n"
     ]
    }
   ],
   "source": [
    "print(0 != 1)\n",
    "print(0 == 1)\n",
    "print(0 and 1) # false and true = false = 0"
   ]
  },
  {
   "cell_type": "code",
   "execution_count": 78,
   "metadata": {},
   "outputs": [
    {
     "data": {
      "text/plain": [
       "3"
      ]
     },
     "execution_count": 78,
     "metadata": {},
     "output_type": "execute_result"
    }
   ],
   "source": [
    "6//2"
   ]
  },
  {
   "cell_type": "code",
   "execution_count": 144,
   "metadata": {},
   "outputs": [],
   "source": [
    "# exercise: operations\n",
    "# what are the outputs?\n",
    "\n",
    "a = set([1,2,3, 'a'])\n",
    "b = set([2,3,4])\n",
    "\n",
    "c = [3,4,5,'a','b']\n",
    "d = [4,5,6]\n",
    "e = []\n",
    "\n",
    "g = 'x'\n",
    "h = \"y\""
   ]
  },
  {
   "cell_type": "code",
   "execution_count": 145,
   "metadata": {
    "collapsed": true
   },
   "outputs": [
    {
     "name": "stdout",
     "output_type": "stream",
     "text": [
      "{2, 3}\n",
      "{1, 2, 3, 'a', 4}\n",
      "{1, 'a'}\n",
      "0\n",
      "1\n"
     ]
    }
   ],
   "source": [
    "print(a & b) \n",
    "print(a | b)\n",
    "print(a - b)\n",
    "\n",
    "print(0 & 1)\n",
    "print(0 | 1)"
   ]
  },
  {
   "cell_type": "code",
   "execution_count": 143,
   "metadata": {
    "collapsed": true
   },
   "outputs": [
    {
     "name": "stdout",
     "output_type": "stream",
     "text": [
      "{2, 3, 4}\n",
      "{1, 2, 3, 'a'}\n",
      "0\n",
      "1\n",
      "0\n",
      "[3, 4, 5, 'a', 'b']\n",
      "[4, 5, 6]\n",
      "x\n",
      "y\n"
     ]
    }
   ],
   "source": [
    "print(a and b) # return later one for both true.\n",
    "print(a or b)\n",
    "\n",
    "print(0 and 1)\n",
    "print(0 or 1) # if (0 is true or 1 is true) = true.\n",
    "print(0 or 0) # always flase\n",
    "\n",
    "print(c or d)\n",
    "print(c and d)\n",
    "\n",
    "print(g or h)\n",
    "print(g and h)\n",
    "\n",
    "# TypeError: unsupported operand type(s) for |: 'list' and 'list'\n",
    "# print(c | d)\n",
    "\n",
    "# TypeError: unsupported operand type(s) for +: 'set' and 'list'\n",
    "# print(a + c)"
   ]
  },
  {
   "cell_type": "code",
   "execution_count": 152,
   "metadata": {},
   "outputs": [
    {
     "name": "stdout",
     "output_type": "stream",
     "text": [
      "0\n",
      "1\n",
      "0\n",
      "1\n"
     ]
    }
   ],
   "source": [
    "print(0 & 1)\n",
    "print(0 | 1)\n",
    "\n",
    "# same as\n",
    "print(0 and 1)\n",
    "print(0 or 1)"
   ]
  },
  {
   "cell_type": "code",
   "execution_count": null,
   "metadata": {},
   "outputs": [],
   "source": []
  }
 ],
 "metadata": {
  "kernelspec": {
   "display_name": "Python 3",
   "language": "python",
   "name": "python3"
  },
  "language_info": {
   "codemirror_mode": {
    "name": "ipython",
    "version": 3
   },
   "file_extension": ".py",
   "mimetype": "text/x-python",
   "name": "python",
   "nbconvert_exporter": "python",
   "pygments_lexer": "ipython3",
   "version": "3.7.4"
  }
 },
 "nbformat": 4,
 "nbformat_minor": 2
}
