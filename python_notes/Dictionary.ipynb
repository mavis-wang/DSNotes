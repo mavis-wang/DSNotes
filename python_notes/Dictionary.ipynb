{
 "cells": [
  {
   "cell_type": "markdown",
   "metadata": {},
   "source": [
    "## Dictionary"
   ]
  },
  {
   "cell_type": "code",
   "execution_count": 1,
   "metadata": {},
   "outputs": [],
   "source": [
    "d = {1:\"San Francisco\", 2:\"New York\", 3:\"Chicago\", 4:\"Los Angeles\"}"
   ]
  },
  {
   "cell_type": "markdown",
   "metadata": {},
   "source": [
    "### Access dictionary item"
   ]
  },
  {
   "cell_type": "code",
   "execution_count": 4,
   "metadata": {},
   "outputs": [
    {
     "name": "stdout",
     "output_type": "stream",
     "text": [
      "dict_items([(1, 'San Francisco'), (2, 'New York'), (3, 'Chicago'), (4, 'Los Angeles')])\n",
      "<class 'dict_items'>\n"
     ]
    }
   ],
   "source": [
    "print(d.items())\n",
    "print(type(d.items()))"
   ]
  },
  {
   "cell_type": "code",
   "execution_count": 19,
   "metadata": {},
   "outputs": [
    {
     "name": "stdout",
     "output_type": "stream",
     "text": [
      "[(1, 'San Francisco'), (2, 'New York'), (3, 'Chicago'), (4, 'Los Angeles')]\n",
      "(1, 'San Francisco')\n",
      "1\n",
      "San Francisco\n",
      "dict_keys([1, 2, 3, 4])\n",
      "dict_values(['San Francisco', 'New York', 'Chicago', 'Los Angeles'])\n",
      "Los Angeles\n"
     ]
    }
   ],
   "source": [
    "# accessing dict\n",
    "\n",
    "itemList = list(d.items())\n",
    "print(itemList)\n",
    "\n",
    "print(itemList[0])\n",
    "print(itemList[0][0])\n",
    "print(itemList[0][1])\n",
    "\n",
    "print(d.keys())\n",
    "print(d.values())\n",
    "\n",
    "print(d[4]) //print value of \n",
    "\n",
    "key=4\n"
   ]
  },
  {
   "cell_type": "markdown",
   "metadata": {},
   "source": [
    "### Count from multiple lists"
   ]
  },
  {
   "cell_type": "code",
   "execution_count": 16,
   "metadata": {},
   "outputs": [
    {
     "name": "stdout",
     "output_type": "stream",
     "text": [
      "dict_items([('aa', 6), ('bb', 4), ('ab', 2), ('ac', 2)])\n"
     ]
    }
   ],
   "source": [
    "afile = ['aa','bb','ab','ac','bb','aa','aa']\n",
    "bfile = ['aa','bb','ab','ac','bb','aa','aa']\n",
    "\n",
    "file_list = [afile, bfile]\n",
    "\n",
    "# count & add to a dictionary\n",
    "\n",
    "flights = {}\n",
    "\n",
    "def addFlight(file):\n",
    "    for i in file:\n",
    "        if i in flights:\n",
    "            flights[i] += 1\n",
    "        else:\n",
    "            flights[i] = 1\n",
    "\n",
    "for j in file_list:\n",
    "    addFlight(j)\n",
    "\n",
    "print(flights.items())"
   ]
  },
  {
   "cell_type": "markdown",
   "metadata": {},
   "source": [
    "### Write a dictionary to a csv file"
   ]
  },
  {
   "cell_type": "code",
   "execution_count": null,
   "metadata": {},
   "outputs": [],
   "source": [
    "# sorted by dict.values() --> type: <class 'list'>\n",
    "fl_list = sorted(flights.items(), key=lambda x: x[1], reverse = True)\n",
    "\n",
    "\n",
    "# write data to file \n",
    "with open('flights_by_airline.csv','w') as f:    \n",
    "        f.write(\"Airline, # Flights \\n\")\n",
    "for n in fl_list:\n",
    "    fl_info = str(f'{n[0]},{n[1]} \\n')   \n",
    "\n",
    "    with open('flights_by_airline.csv','a') as f:    \n",
    "        f.writelines(fl_info) "
   ]
  },
  {
   "cell_type": "code",
   "execution_count": 7,
   "metadata": {},
   "outputs": [
    {
     "ename": "ZeroDivisionError",
     "evalue": "division by zero",
     "output_type": "error",
     "traceback": [
      "\u001b[0;31m---------------------------------------------------------------------------\u001b[0m",
      "\u001b[0;31mZeroDivisionError\u001b[0m                         Traceback (most recent call last)",
      "\u001b[0;32m<ipython-input-7-7ffc0d84a9fb>\u001b[0m in \u001b[0;36m<module>\u001b[0;34m\u001b[0m\n\u001b[0;32m----> 1\u001b[0;31m \u001b[0mx\u001b[0m \u001b[0;34m=\u001b[0m \u001b[0;36m0\u001b[0m \u001b[0;32mor\u001b[0m \u001b[0;36m1\u001b[0m\u001b[0;34m/\u001b[0m\u001b[0;36m0\u001b[0m\u001b[0;34m\u001b[0m\u001b[0;34m\u001b[0m\u001b[0m\n\u001b[0m",
      "\u001b[0;31mZeroDivisionError\u001b[0m: division by zero"
     ]
    }
   ],
   "source": []
  }
 ],
 "metadata": {
  "kernelspec": {
   "display_name": "Python 3",
   "language": "python",
   "name": "python3"
  },
  "language_info": {
   "codemirror_mode": {
    "name": "ipython",
    "version": 3
   },
   "file_extension": ".py",
   "mimetype": "text/x-python",
   "name": "python",
   "nbconvert_exporter": "python",
   "pygments_lexer": "ipython3",
   "version": "3.7.4"
  }
 },
 "nbformat": 4,
 "nbformat_minor": 2
}
