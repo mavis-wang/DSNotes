{
 "cells": [
  {
   "cell_type": "markdown",
   "metadata": {},
   "source": [
    "# Probablility & Hypothesis Testing\n",
    "by [Mavis Wang](https://github.com/mavisw)"
   ]
  },
  {
   "cell_type": "code",
   "execution_count": 1,
   "metadata": {},
   "outputs": [],
   "source": [
    "from scipy.stats import binom, poisson, expon"
   ]
  },
  {
   "cell_type": "markdown",
   "metadata": {},
   "source": [
    "1. Joon takes a 40-question exam, but did not study so choose the answer randomly. Each question has two possible choices for the answer (True of False). Find the probability that the Joon guesses more than 30 questions correctly (# of correct answer > 30). (Please use Binomial distribution) (20 points)"
   ]
  },
  {
   "cell_type": "code",
   "execution_count": 2,
   "metadata": {},
   "outputs": [
    {
     "name": "stdout",
     "output_type": "stream",
     "text": [
      "P(X > 30) = 0.0003\n"
     ]
    }
   ],
   "source": [
    "# X~B(x; n,P), n=40, p=0.5\n",
    "# P(X > 30) = 1- P(≤ 30)\n",
    "\n",
    "x1 = binom(40,0.5)\n",
    "\n",
    "# 1-cdf(30) = sf(30)\n",
    "print(f'P(X > 30) = {1-x1.cdf(30):.4f}')"
   ]
  },
  {
   "cell_type": "markdown",
   "metadata": {},
   "source": [
    "2. The average number of pets our students have their lifetime is 1.47. Suppose that one student is randomly chosen (Let’s define a random variable X as the number of pets for our students) (please use Poisson distribution) (20 points)\n",
    "\n",
    "    a. Find the probability that the student has no pet.</br>\n",
    "    b. Find the probability that the student has fewer pet than the average.</br>\n",
    "    c. Find the probability that the student has more pets than the average."
   ]
  },
  {
   "cell_type": "code",
   "execution_count": 3,
   "metadata": {},
   "outputs": [
    {
     "name": "stdout",
     "output_type": "stream",
     "text": [
      "a. P(X=0)=0.2299\n",
      "b. P(X<1.47) = P(X≤1)= 0.5679\n",
      "c. P(X > 1.47)= 0.4321\n"
     ]
    }
   ],
   "source": [
    "# λ = 1.47\n",
    "# Χ = # of pets ~Poisson(λ)\n",
    "\n",
    "# a. P(X = 0)\n",
    "# b. P(X < 1.47) = P(X≤1)\n",
    "# c. P(X > 1.47) = 1-P(X≤1.47)\n",
    "\n",
    "x2 = poisson(1.47)\n",
    "\n",
    "print(f'a. P(X=0)={x2.pmf(0):.4f}')\n",
    "print(f'b. P(X<1.47) = P(X≤1)= {x2.cdf(1.47):.4f}')\n",
    "print(f'c. P(X > 1.47)= {1-x2.cdf(1.47):.4f}')"
   ]
  },
  {
   "cell_type": "markdown",
   "metadata": {},
   "source": [
    "3. Suppose that the useful life of a particular car battery, measured in months, decays with parameter 0.025 (Exponential distribution). We are interested in the life of the battery. Let’s define a random variable X as the life time of battery). (20 points)\n",
    "\n",
    "    a. On average, how long would you expect one car battery to last?</br>\n",
    "    b. Find the probability that a car battery lasts less than 36 months."
   ]
  },
  {
   "cell_type": "code",
   "execution_count": 4,
   "metadata": {},
   "outputs": [
    {
     "name": "stdout",
     "output_type": "stream",
     "text": [
      "a. Average car battery life = 40.0 months.\n",
      "b. P(X<36) = 0.5934.\n"
     ]
    }
   ],
   "source": [
    "# decay parameter = 0.025 = λ\n",
    "# μ = 1/λ\n",
    "# X ~ Expon(x;0.025)\n",
    "\n",
    "# a. E(X) = μ = 1/λ\n",
    "# b. P(X<36)\n",
    "\n",
    "mu = 1/0.025\n",
    "x3 = expon(scale=mu)\n",
    "\n",
    "print(f'a. Average car battery life = {mu} months.')\n",
    "print(f'b. P(X<36) = {x3.cdf(36):.4f}.')"
   ]
  },
  {
   "cell_type": "markdown",
   "metadata": {},
   "source": [
    "#### Practical\n",
    "The bank wants to check who has a personal loan. They collect data and assume that three factors (age, income, education) are related to the personal loan. Please help them using hypothesis testing. (40 points)\n",
    "\n",
    "   a. Find “Bank.csv” and load it using pandas.</br>\n",
    "   b. Splitting it into two groups (PersonalLoan=0 and 1). (10 points)</br>\n",
    "   c. Please do three hypothesis tests (t-test) using “ttest_ind” for (1) Age, (2) Income, and (3) Education. Show your results for 95% confidence level (p=0.05). (Note: your Null hypothesis (H0) is that the population mean of the two groups is the same (no difference)). (30 points)"
   ]
  },
  {
   "cell_type": "code",
   "execution_count": 5,
   "metadata": {},
   "outputs": [],
   "source": [
    "import numpy as np\n",
    "import pandas as pd"
   ]
  },
  {
   "cell_type": "markdown",
   "metadata": {},
   "source": [
    "### a. load dataset\n",
    "- Bank.csv"
   ]
  },
  {
   "cell_type": "code",
   "execution_count": 15,
   "metadata": {},
   "outputs": [],
   "source": [
    "bank_df = pd.read_csv('Bank.csv', usecols = ['Age', 'Income', 'Education', 'PersonalLoan'])"
   ]
  },
  {
   "cell_type": "code",
   "execution_count": 17,
   "metadata": {},
   "outputs": [
    {
     "data": {
      "text/html": [
       "<div>\n",
       "<style scoped>\n",
       "    .dataframe tbody tr th:only-of-type {\n",
       "        vertical-align: middle;\n",
       "    }\n",
       "\n",
       "    .dataframe tbody tr th {\n",
       "        vertical-align: top;\n",
       "    }\n",
       "\n",
       "    .dataframe thead th {\n",
       "        text-align: right;\n",
       "    }\n",
       "</style>\n",
       "<table border=\"1\" class=\"dataframe\">\n",
       "  <thead>\n",
       "    <tr style=\"text-align: right;\">\n",
       "      <th></th>\n",
       "      <th>Age</th>\n",
       "      <th>Income</th>\n",
       "      <th>Education</th>\n",
       "      <th>PersonalLoan</th>\n",
       "    </tr>\n",
       "  </thead>\n",
       "  <tbody>\n",
       "    <tr>\n",
       "      <th>0</th>\n",
       "      <td>25</td>\n",
       "      <td>49</td>\n",
       "      <td>1</td>\n",
       "      <td>0</td>\n",
       "    </tr>\n",
       "    <tr>\n",
       "      <th>1</th>\n",
       "      <td>45</td>\n",
       "      <td>34</td>\n",
       "      <td>1</td>\n",
       "      <td>0</td>\n",
       "    </tr>\n",
       "    <tr>\n",
       "      <th>2</th>\n",
       "      <td>39</td>\n",
       "      <td>11</td>\n",
       "      <td>1</td>\n",
       "      <td>0</td>\n",
       "    </tr>\n",
       "    <tr>\n",
       "      <th>3</th>\n",
       "      <td>35</td>\n",
       "      <td>100</td>\n",
       "      <td>2</td>\n",
       "      <td>0</td>\n",
       "    </tr>\n",
       "    <tr>\n",
       "      <th>4</th>\n",
       "      <td>35</td>\n",
       "      <td>45</td>\n",
       "      <td>2</td>\n",
       "      <td>0</td>\n",
       "    </tr>\n",
       "  </tbody>\n",
       "</table>\n",
       "</div>"
      ],
      "text/plain": [
       "   Age  Income  Education  PersonalLoan\n",
       "0   25      49          1             0\n",
       "1   45      34          1             0\n",
       "2   39      11          1             0\n",
       "3   35     100          2             0\n",
       "4   35      45          2             0"
      ]
     },
     "execution_count": 17,
     "metadata": {},
     "output_type": "execute_result"
    }
   ],
   "source": [
    "bank_df.head()"
   ]
  },
  {
   "cell_type": "markdown",
   "metadata": {},
   "source": [
    "### b. split into groups \n",
    "\n",
    "- no_Loan: PersonalLoan = 0\n",
    "- with_Loan: PersonalLoan = 1"
   ]
  },
  {
   "cell_type": "code",
   "execution_count": 18,
   "metadata": {},
   "outputs": [],
   "source": [
    "# PersonalLoan = 0\n",
    "noLoan = bank_df[bank_df['PersonalLoan']== 0]\n",
    "\n",
    "# PersonalLoan = 1\n",
    "withLoan = bank_df[bank_df['PersonalLoan']== 1]"
   ]
  },
  {
   "cell_type": "code",
   "execution_count": 19,
   "metadata": {},
   "outputs": [
    {
     "data": {
      "text/html": [
       "<div>\n",
       "<style scoped>\n",
       "    .dataframe tbody tr th:only-of-type {\n",
       "        vertical-align: middle;\n",
       "    }\n",
       "\n",
       "    .dataframe tbody tr th {\n",
       "        vertical-align: top;\n",
       "    }\n",
       "\n",
       "    .dataframe thead th {\n",
       "        text-align: right;\n",
       "    }\n",
       "</style>\n",
       "<table border=\"1\" class=\"dataframe\">\n",
       "  <thead>\n",
       "    <tr style=\"text-align: right;\">\n",
       "      <th></th>\n",
       "      <th>Age</th>\n",
       "      <th>Income</th>\n",
       "      <th>Education</th>\n",
       "      <th>PersonalLoan</th>\n",
       "    </tr>\n",
       "  </thead>\n",
       "  <tbody>\n",
       "    <tr>\n",
       "      <th>0</th>\n",
       "      <td>25</td>\n",
       "      <td>49</td>\n",
       "      <td>1</td>\n",
       "      <td>0</td>\n",
       "    </tr>\n",
       "    <tr>\n",
       "      <th>1</th>\n",
       "      <td>45</td>\n",
       "      <td>34</td>\n",
       "      <td>1</td>\n",
       "      <td>0</td>\n",
       "    </tr>\n",
       "    <tr>\n",
       "      <th>2</th>\n",
       "      <td>39</td>\n",
       "      <td>11</td>\n",
       "      <td>1</td>\n",
       "      <td>0</td>\n",
       "    </tr>\n",
       "    <tr>\n",
       "      <th>3</th>\n",
       "      <td>35</td>\n",
       "      <td>100</td>\n",
       "      <td>2</td>\n",
       "      <td>0</td>\n",
       "    </tr>\n",
       "    <tr>\n",
       "      <th>4</th>\n",
       "      <td>35</td>\n",
       "      <td>45</td>\n",
       "      <td>2</td>\n",
       "      <td>0</td>\n",
       "    </tr>\n",
       "  </tbody>\n",
       "</table>\n",
       "</div>"
      ],
      "text/plain": [
       "   Age  Income  Education  PersonalLoan\n",
       "0   25      49          1             0\n",
       "1   45      34          1             0\n",
       "2   39      11          1             0\n",
       "3   35     100          2             0\n",
       "4   35      45          2             0"
      ]
     },
     "execution_count": 19,
     "metadata": {},
     "output_type": "execute_result"
    }
   ],
   "source": [
    "noLoan.head()"
   ]
  },
  {
   "cell_type": "code",
   "execution_count": 20,
   "metadata": {},
   "outputs": [
    {
     "data": {
      "text/html": [
       "<div>\n",
       "<style scoped>\n",
       "    .dataframe tbody tr th:only-of-type {\n",
       "        vertical-align: middle;\n",
       "    }\n",
       "\n",
       "    .dataframe tbody tr th {\n",
       "        vertical-align: top;\n",
       "    }\n",
       "\n",
       "    .dataframe thead th {\n",
       "        text-align: right;\n",
       "    }\n",
       "</style>\n",
       "<table border=\"1\" class=\"dataframe\">\n",
       "  <thead>\n",
       "    <tr style=\"text-align: right;\">\n",
       "      <th></th>\n",
       "      <th>Age</th>\n",
       "      <th>Income</th>\n",
       "      <th>Education</th>\n",
       "      <th>PersonalLoan</th>\n",
       "    </tr>\n",
       "  </thead>\n",
       "  <tbody>\n",
       "    <tr>\n",
       "      <th>9</th>\n",
       "      <td>34</td>\n",
       "      <td>180</td>\n",
       "      <td>3</td>\n",
       "      <td>1</td>\n",
       "    </tr>\n",
       "    <tr>\n",
       "      <th>16</th>\n",
       "      <td>38</td>\n",
       "      <td>130</td>\n",
       "      <td>3</td>\n",
       "      <td>1</td>\n",
       "    </tr>\n",
       "    <tr>\n",
       "      <th>18</th>\n",
       "      <td>46</td>\n",
       "      <td>193</td>\n",
       "      <td>3</td>\n",
       "      <td>1</td>\n",
       "    </tr>\n",
       "    <tr>\n",
       "      <th>29</th>\n",
       "      <td>38</td>\n",
       "      <td>119</td>\n",
       "      <td>2</td>\n",
       "      <td>1</td>\n",
       "    </tr>\n",
       "    <tr>\n",
       "      <th>38</th>\n",
       "      <td>42</td>\n",
       "      <td>141</td>\n",
       "      <td>3</td>\n",
       "      <td>1</td>\n",
       "    </tr>\n",
       "  </tbody>\n",
       "</table>\n",
       "</div>"
      ],
      "text/plain": [
       "    Age  Income  Education  PersonalLoan\n",
       "9    34     180          3             1\n",
       "16   38     130          3             1\n",
       "18   46     193          3             1\n",
       "29   38     119          2             1\n",
       "38   42     141          3             1"
      ]
     },
     "execution_count": 20,
     "metadata": {},
     "output_type": "execute_result"
    }
   ],
   "source": [
    "withLoan.head()"
   ]
  },
  {
   "cell_type": "markdown",
   "metadata": {},
   "source": [
    "### c. Hypothesis Test\n",
    "\n",
    "Assumption: the three factors (Age, Income, and Education) are related to loan status (H0≠H1)."
   ]
  },
  {
   "cell_type": "code",
   "execution_count": 21,
   "metadata": {},
   "outputs": [],
   "source": [
    "from scipy.stats import ttest_ind # t-test for general"
   ]
  },
  {
   "cell_type": "markdown",
   "metadata": {},
   "source": [
    "#### Age\n",
    "\n",
    "Let μ0 = average Age of noLoan group and μ1 = average Age of withLoan group.\n",
    "α = 0.05\n",
    "\n",
    "    Ho: μ0 - μ1 = 0\n",
    "    Η1: μ0 - μ1 ≠ 0"
   ]
  },
  {
   "cell_type": "code",
   "execution_count": 22,
   "metadata": {},
   "outputs": [
    {
     "name": "stdout",
     "output_type": "stream",
     "text": [
      "T-score = 0.546, p-value = 0.585\n",
      "There is no differece between the two groups. Therefore, age is not significantly related to loan status.\n"
     ]
    }
   ],
   "source": [
    "tstat, p = ttest_ind(noLoan['Age'],withLoan['Age'])\n",
    "print(f'T-score = {tstat:.3f}, p-value = {p:.3f}')\n",
    "\n",
    "if p < 0.05:\n",
    "    print(f'The two groups are different. Age is related to loan status.')\n",
    "else:\n",
    "    print(f'There is no differece between the two groups. Therefore, age is not significantly related to loan status.')"
   ]
  },
  {
   "cell_type": "markdown",
   "metadata": {},
   "source": [
    "#### Income\n",
    "\n",
    "Let μ0 = average Income of noLoan group and μ1 = average Income of withLoan group.\n",
    "α = 0.05\n",
    "\n",
    "    Ho: μ0 - μ1 = 0\n",
    "    Η1: μ0 - μ1 ≠ 0"
   ]
  },
  {
   "cell_type": "code",
   "execution_count": 23,
   "metadata": {},
   "outputs": [
    {
     "name": "stdout",
     "output_type": "stream",
     "text": [
      "T-score = -41.085, p-value = 0.000\n",
      "The two groups are different. Income is related to loan status.\n"
     ]
    }
   ],
   "source": [
    "tstat, p = ttest_ind(noLoan['Income'],withLoan['Income'])\n",
    "print(f'T-score = {tstat:.3f}, p-value = {p:.3f}')\n",
    "\n",
    "if p < 0.05:\n",
    "    print(f'The two groups are different. Income is related to loan status.')\n",
    "else:\n",
    "    print(f'There is no differece between the two groups. Therefore, income is not significantly related to loan status.')"
   ]
  },
  {
   "cell_type": "markdown",
   "metadata": {},
   "source": [
    "#### Education\n",
    "\n",
    "Let μ0 = average Education of noLoan group and μ1 = average Education of withLoan group.\n",
    "α = 0.05\n",
    "\n",
    "    Ho: μ0 - μ1 = 0\n",
    "    Η1: μ0 - μ1 ≠ 0"
   ]
  },
  {
   "cell_type": "code",
   "execution_count": 24,
   "metadata": {},
   "outputs": [
    {
     "name": "stdout",
     "output_type": "stream",
     "text": [
      "T-score = -9.757, p-value = 0.000\n",
      "The two groups are different. Education is related to loan status.\n"
     ]
    }
   ],
   "source": [
    "tstat, p = ttest_ind(noLoan['Education'],withLoan['Education'])\n",
    "print(f'T-score = {tstat:.3f}, p-value = {p:.3f}')\n",
    "\n",
    "if p < 0.05:\n",
    "    print(f'The two groups are different. Education is related to loan status.')\n",
    "else:\n",
    "    print(f'There is no differece between the two groups. Therefore, education is not significantly related to loan status.')"
   ]
  },
  {
   "cell_type": "code",
   "execution_count": null,
   "metadata": {},
   "outputs": [],
   "source": []
  }
 ],
 "metadata": {
  "kernelspec": {
   "display_name": "Python 3 (ipykernel)",
   "language": "python",
   "name": "python3"
  },
  "language_info": {
   "codemirror_mode": {
    "name": "ipython",
    "version": 3
   },
   "file_extension": ".py",
   "mimetype": "text/x-python",
   "name": "python",
   "nbconvert_exporter": "python",
   "pygments_lexer": "ipython3",
   "version": "3.8.13"
  }
 },
 "nbformat": 4,
 "nbformat_minor": 4
}
