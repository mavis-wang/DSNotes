{
 "cells": [
  {
   "cell_type": "markdown",
   "metadata": {},
   "source": [
    "# Optimization Problem\n",
    "\n",
    "Solution by [mavisw](https://github.com/mavisw)"
   ]
  },
  {
   "cell_type": "code",
   "execution_count": 2,
   "metadata": {},
   "outputs": [],
   "source": [
    "import numpy as np\n",
    "from scipy.optimize import minimize\n",
    "\n",
    "%matplotlib inline\n",
    "import matplotlib.pyplot as plt\n",
    "import seaborn as sns\n",
    "sns.set()"
   ]
  },
  {
   "cell_type": "markdown",
   "metadata": {},
   "source": [
    "1.\tUsing “optimize.mimize” in scipy, solve the linear problem (use method “SLSQP”).\n",
    "\n",
    "    max x3 + x4<br>\n",
    "    a.\tx1 + x2 + x3 + x4 = 700<br>\n",
    "    b.\tx3 - 0.5x4 =0<br>\n",
    "    c.\tx1 + x2 <= 450<br>\n",
    "    d.\tx2 + x3 <= 300<br>\n",
    "    e.\tx2 + x3 <= x1 + x4<br>\n",
    "    f.\tx1>=0, x2>=0, x3>=0, x4>=0\n"
   ]
  },
  {
   "cell_type": "markdown",
   "metadata": {},
   "source": [
    "#### Ans 1:\n",
    "- max(X3+X4) = 700\n",
    "- x1=0, x2=0, x3=233, x4=467"
   ]
  },
  {
   "cell_type": "code",
   "execution_count": 6,
   "metadata": {},
   "outputs": [
    {
     "name": "stdout",
     "output_type": "stream",
     "text": [
      "     fun: -700.0000000000056\n",
      "     jac: array([ 0.,  0., -1., -1.])\n",
      " message: 'Optimization terminated successfully'\n",
      "    nfev: 35\n",
      "     nit: 7\n",
      "    njev: 7\n",
      "  status: 0\n",
      " success: True\n",
      "       x: array([  0.        ,   0.        , 233.33333333, 466.66666667])\n"
     ]
    }
   ],
   "source": [
    "# max(Z) = x3 + x4\n",
    "# default constraints ≥ 0\n",
    "\n",
    "# a. x1 + x2 + x3 + x4 = 700\n",
    "# b. x3 - 0.5*x4 = 0\n",
    "# c. 450 - x1 -x2 ≥ 0\n",
    "# d. 300 - x2 -x3 ≥ 0\n",
    "# e. x1 + x4 - x2 - x3 ≥ 0\n",
    "# f. x1,x2,x3,x4 ≥ 0\n",
    "\n",
    "# objective function: max(Z) = min(-Z)\n",
    "def f(x):\n",
    "    x1 = x[0]\n",
    "    x2 = x[1]\n",
    "    x3 = x[2]\n",
    "    x4 = x[3]\n",
    "    return -x3 - x4\n",
    "\n",
    "# equality\n",
    "def con1(x):\n",
    "    return x[0] + x[1] + x[2] + x[3] - 700\n",
    "def con2(x):\n",
    "    return x[2] - 0.5 * x[3]\n",
    "\n",
    "# inequality\n",
    "def con3(x):\n",
    "    return 450 - x[0] + x[1]\n",
    "def con4(x):\n",
    "    return 300 - x[1] + x[2]\n",
    "def con5(x):\n",
    "    return x[0] + x[3] - x[1] - x[2]\n",
    "\n",
    "# constraint dictionary\n",
    "con1 = {\"type\":\"eq\", 'fun':con1}\n",
    "con2 = {\"type\":\"eq\", 'fun':con2}\n",
    "con3 = {\"type\":\"ineq\", 'fun':con3}\n",
    "con4 = {\"type\":\"ineq\", 'fun':con4}\n",
    "con5 = {\"type\":\"ineq\", 'fun':con5}\n",
    "\n",
    "# constrains: a,b,c,d,e\n",
    "cons = (con1,con2,con3,con4,con5)\n",
    "\n",
    "# bounds: x1,x2,x3,x4 ≥ 0\n",
    "b = (0, None)\n",
    "bnds = (b,b,b,b)\n",
    "\n",
    "# initial guess\n",
    "x0 = [10,10,10,10]\n",
    "\n",
    "# result\n",
    "res = minimize(f,x0, method='SLSQP', bounds=bnds, constraints=cons)\n",
    "\n",
    "print(res)"
   ]
  },
  {
   "cell_type": "code",
   "execution_count": 5,
   "metadata": {},
   "outputs": [
    {
     "name": "stdout",
     "output_type": "stream",
     "text": [
      "max(X3+X4) = 700\n",
      "x1=0, x2=0, x3=233, x4=467\n"
     ]
    }
   ],
   "source": [
    "print(f'max(X3+X4) = {-res.fun:.0f}')\n",
    "print(f'x1={res.x[0]:.0f}, x2={res.x[1]:.0f}, x3={res.x[2]:.0f}, x4={res.x[3]:.0f}')"
   ]
  },
  {
   "cell_type": "markdown",
   "metadata": {},
   "source": [
    "#### <p>\n",
    "\n",
    "2.\tThe objective function, f(x,y)=(1-x)^2-100(y-x^2 )^2. <br>\n",
    "We want to find the optimal pair (x,y) to minimize this function with (-2≤x≤2,-2≤y≤2).\n",
    "    \n",
    "a. Construct 2-dimensional uniform grid with dx=0.1 and dy=0.1. x=-2:0.1:2 and y =-2:0.1:2.<br>\n",
    "b. Calculate the function value at the grid and find the minimum and the corresponding pair (x*,y*).<br>\n",
    "c. Construct a refined uniform grid near the optimal pair (x*,y*) in part b like x^*-0.1≤x≤x^*+0.1,y^*-0.1≤y≤y^*+0.1 with dx=0.01 and dy = 0.01.<br>\n",
    "d. Calculate the function value at the grid and find the minimum and the corresponding pair (x**,y**).\n",
    "\n"
   ]
  },
  {
   "cell_type": "markdown",
   "metadata": {},
   "source": [
    "#### Ans 2:\n",
    "\n",
    "#### a. Create 2D meshgrid"
   ]
  },
  {
   "cell_type": "code",
   "execution_count": 4,
   "metadata": {},
   "outputs": [
    {
     "name": "stdout",
     "output_type": "stream",
     "text": [
      "[[-2.  -1.9 -1.8 ...  1.8  1.9  2. ]\n",
      " [-2.  -1.9 -1.8 ...  1.8  1.9  2. ]\n",
      " [-2.  -1.9 -1.8 ...  1.8  1.9  2. ]\n",
      " ...\n",
      " [-2.  -1.9 -1.8 ...  1.8  1.9  2. ]\n",
      " [-2.  -1.9 -1.8 ...  1.8  1.9  2. ]\n",
      " [-2.  -1.9 -1.8 ...  1.8  1.9  2. ]]\n",
      "[[-2.  -2.  -2.  ... -2.  -2.  -2. ]\n",
      " [-1.9 -1.9 -1.9 ... -1.9 -1.9 -1.9]\n",
      " [-1.8 -1.8 -1.8 ... -1.8 -1.8 -1.8]\n",
      " ...\n",
      " [ 1.8  1.8  1.8 ...  1.8  1.8  1.8]\n",
      " [ 1.9  1.9  1.9 ...  1.9  1.9  1.9]\n",
      " [ 2.   2.   2.  ...  2.   2.   2. ]]\n",
      "(41, 41) (41, 41)\n"
     ]
    },
    {
     "data": {
      "image/png": "[encoded data removed]",
      "text/plain": [
       "<Figure size 576x432 with 1 Axes>"
      ]
     },
     "metadata": {},
     "output_type": "display_data"
    }
   ],
   "source": [
    "# initial grid size\n",
    "dx = 0.1\n",
    "dy = 0.1\n",
    "\n",
    "# range of x and y points\n",
    "nx = (2-(-2))/dx +1\n",
    "ny = (2-(-2))/dx +1\n",
    "\n",
    "# construct meshgrid\n",
    "sx = np.linspace(-2,2,int(nx))\n",
    "sy = np.linspace(-2,2,int(ny))\n",
    "xx, yy = np.meshgrid(sx,sy)\n",
    "\n",
    "# corrdinate matrices (X,Y)\n",
    "print(xx)\n",
    "print(yy)\n",
    "\n",
    "# check shape\n",
    "print(xx.shape, yy.shape)\n",
    "\n",
    "# plot\n",
    "plt.figure(figsize=(8,6))\n",
    "plt.plot(xx,yy, marker = '.', color = 'k', linestyle = 'none')\n",
    "plt.show()"
   ]
  },
  {
   "cell_type": "markdown",
   "metadata": {},
   "source": [
    "#### b. Caluculate min(Objective function)\n",
    "\n",
    "- The minimum objective function value = -3599\n",
    "- The corresponding pairs (x1, y1) = (2.0,-2)"
   ]
  },
  {
   "cell_type": "code",
   "execution_count": 5,
   "metadata": {},
   "outputs": [
    {
     "name": "stdout",
     "output_type": "stream",
     "text": [
      "[[-3591.   -3138.8  -2737.92 ... -2745.12 -3146.4  -3599.  ]\n",
      " [-3472.   -3027.6  -2634.12 ... -2641.32 -3035.2  -3480.  ]\n",
      " [-3355.   -2918.4  -2532.32 ... -2539.52 -2926.   -3363.  ]\n",
      " ...\n",
      " [ -475.    -319.2   -199.52 ...  -206.72  -326.8   -483.  ]\n",
      " [ -432.    -284.    -171.72 ...  -178.92  -291.6   -440.  ]\n",
      " [ -391.    -250.8   -145.92 ...  -153.12  -258.4   -399.  ]]\n",
      "(41, 41)\n"
     ]
    }
   ],
   "source": [
    "# objective function min((1-x)^2-100(y-x^2 )^2)\n",
    "def g(x,y):\n",
    "    return ((1-x)**2) - 100*((y-x**2)**2)\n",
    "\n",
    "# g(x,y) values coordinate matrix\n",
    "obj_func_array = g(xx,yy)\n",
    "\n",
    "print(obj_func_array)\n",
    "print(obj_func_array.shape)"
   ]
  },
  {
   "cell_type": "code",
   "execution_count": 6,
   "metadata": {},
   "outputs": [
    {
     "name": "stdout",
     "output_type": "stream",
     "text": [
      "Minimum value of the function = -3599.0\n",
      "Location = [0], column = [40] \n"
     ]
    }
   ],
   "source": [
    "# find min value and index of the obj array\n",
    "min_val1 = obj_func_array.min()\n",
    "\n",
    "# location of the min value\n",
    "location_val1 = np.where(obj_func_array == min_val1)\n",
    "\n",
    "print(f'Minimum value of the function = {min_val1}')\n",
    "print(f'Location = {location_val1[0]}, column = {location_val1[1]} ')"
   ]
  },
  {
   "cell_type": "code",
   "execution_count": 7,
   "metadata": {},
   "outputs": [
    {
     "name": "stdout",
     "output_type": "stream",
     "text": [
      " The minimum and the corresponding pairs: g(2.0,-2.0) = -3599.0\n"
     ]
    }
   ],
   "source": [
    "# corresponding x-value, y-value\n",
    "x1 = xx[0][40]\n",
    "y1 = yy[0][40]\n",
    "\n",
    "print(f' The minimum and the corresponding pairs: g({x1},{y1}) = {min_val1}')"
   ]
  },
  {
   "cell_type": "markdown",
   "metadata": {},
   "source": [
    "#### c. 2nd Round grid search"
   ]
  },
  {
   "cell_type": "code",
   "execution_count": 8,
   "metadata": {},
   "outputs": [
    {
     "name": "stdout",
     "output_type": "stream",
     "text": [
      "(21, 21)\n",
      "(21, 21)\n",
      "[1.9  1.91 1.92 1.93 1.94 1.95 1.96 1.97 1.98 1.99 2.   2.01 2.02 2.03\n",
      " 2.04 2.05 2.06 2.07 2.08 2.09 2.1 ]\n",
      "[-2.1  -2.09 -2.08 -2.07 -2.06 -2.05 -2.04 -2.03 -2.02 -2.01 -2.   -1.99\n",
      " -1.98 -1.97 -1.96 -1.95 -1.94 -1.93 -1.92 -1.91 -1.9 ]\n"
     ]
    },
    {
     "data": {
      "image/png": "[encoded data removed]",
      "text/plain": [
       "<Figure size 576x432 with 1 Axes>"
      ]
     },
     "metadata": {},
     "output_type": "display_data"
    }
   ],
   "source": [
    "# new meshgrid dimension and grid size\n",
    "dx2 = 0.01\n",
    "dy2 = 0.01\n",
    "\n",
    "# new x*, y*\n",
    "x1 = 2\n",
    "y1 = -2\n",
    "\n",
    "# x*, y* lower and upper bounds \n",
    "x_lb = 2 - 0.1\n",
    "x_ub = 2 + 0.1\n",
    "y_lb = y1-0.1\n",
    "y_ub = y1+0.1\n",
    "\n",
    "# range of x** and y** points\n",
    "nx2 = round((x_ub-x_lb)/dx2 +1)\n",
    "ny2 = round((y_ub-y_lb)/dx2 +1)\n",
    "\n",
    "\n",
    "# construct meshgrid2\n",
    "sx2 = np.linspace(x_lb,x_ub,nx2)\n",
    "sy2 = np.linspace(y_lb,y_ub,ny2)\n",
    "xx2, yy2 = np.meshgrid(sx2,sy2)\n",
    "\n",
    "# corrdinate matrices (X,Y)\n",
    "print(xx2.shape)\n",
    "print(yy2.shape)\n",
    "\n",
    "# x values\n",
    "print(xx2[0,:])\n",
    "\n",
    "# y values\n",
    "print(yy2[:,0])\n",
    "\n",
    "# plot\n",
    "plt.figure(figsize=(8,6))\n",
    "plt.plot(xx2,yy2, marker = '.', color = 'k', linestyle = 'none')\n",
    "plt.show()"
   ]
  },
  {
   "cell_type": "markdown",
   "metadata": {},
   "source": [
    "#### d. Calculate minimum objective function g(x2,y2)\n",
    "\n",
    "- The minimum objective function value = -4236.8\n",
    "- The corresponding pairs (x2, y2) = (2.1,-2.1)"
   ]
  },
  {
   "cell_type": "code",
   "execution_count": 9,
   "metadata": {},
   "outputs": [
    {
     "name": "stdout",
     "output_type": "stream",
     "text": [
      "[-3259.6      -3303.237261 -3347.396096 -3392.081101 -3437.296896\n",
      " -3483.048125 -3529.339456 -3576.175581 -3623.561216 -3671.501101\n",
      " -3720.       -3769.062701 -3818.694016 -3868.898781 -3919.681856\n",
      " -3971.048125 -4023.002496 -4075.549901 -4128.695296 -4182.443661\n",
      " -4236.8     ]\n",
      "(21, 21)\n"
     ]
    }
   ],
   "source": [
    "# objective function min((1-x)^2-100(y-x^2 )^2)\n",
    "def g(x,y):\n",
    "    return ((1-x)**2) - 100*((y-x**2)**2)\n",
    "\n",
    "# g(x,y) values coordinate matrix\n",
    "obj_func_array2 = g(xx2,yy2)\n",
    "\n",
    "# check array\n",
    "print(obj_func_array2[0])\n",
    "print(obj_func_array2.shape)"
   ]
  },
  {
   "cell_type": "code",
   "execution_count": 10,
   "metadata": {},
   "outputs": [
    {
     "name": "stdout",
     "output_type": "stream",
     "text": [
      "-4236.8\n"
     ]
    }
   ],
   "source": [
    "# function minimum value\n",
    "min_val2 = obj_func_array2.min()\n",
    "print(min_val2)"
   ]
  },
  {
   "cell_type": "code",
   "execution_count": 11,
   "metadata": {},
   "outputs": [
    {
     "data": {
      "text/plain": [
       "(array([0]), array([20]))"
      ]
     },
     "execution_count": 11,
     "metadata": {},
     "output_type": "execute_result"
    }
   ],
   "source": [
    "# find location of the minimum value in the array Row x Col\n",
    "np.where(obj_func_array2 == obj_func_array2.min())"
   ]
  },
  {
   "cell_type": "code",
   "execution_count": 12,
   "metadata": {},
   "outputs": [
    {
     "name": "stdout",
     "output_type": "stream",
     "text": [
      " The minimum and the corresponding pairs: g(2.1,-2.1) = -4236.8\n"
     ]
    }
   ],
   "source": [
    "# corresponding pair (x**, y**)\n",
    "\n",
    "x2 = xx2[0][20]\n",
    "y2 = yy2[0][20]\n",
    "\n",
    "print(f' The minimum and the corresponding pairs: g({x2},{y2}) = {min_val2}')"
   ]
  },
  {
   "cell_type": "code",
   "execution_count": null,
   "metadata": {},
   "outputs": [],
   "source": []
  }
 ],
 "metadata": {
  "kernelspec": {
   "display_name": "Python 3 (ipykernel)",
   "language": "python",
   "name": "python3"
  },
  "language_info": {
   "codemirror_mode": {
    "name": "ipython",
    "version": 3
   },
   "file_extension": ".py",
   "mimetype": "text/x-python",
   "name": "python",
   "nbconvert_exporter": "python",
   "pygments_lexer": "ipython3",
   "version": "3.8.13"
  }
 },
 "nbformat": 4,
 "nbformat_minor": 4
}
